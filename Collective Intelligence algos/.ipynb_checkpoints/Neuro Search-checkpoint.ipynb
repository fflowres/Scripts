{
 "metadata": {
  "name": "",
  "signature": "sha256:0c5b42cadcc05e4d7cc9d21ec92a21d59256dad9f03766818935646b0dfec395"
 },
 "nbformat": 3,
 "nbformat_minor": 0,
 "worksheets": [
  {
   "cells": [
    {
     "cell_type": "code",
     "collapsed": false,
     "input": [
      "import sys\n",
      "sys.path.append('c:\\Python27\\Scripts\\Collective Intelligence algos\\searchengine')"
     ],
     "language": "python",
     "metadata": {},
     "outputs": [],
     "prompt_number": 3
    },
    {
     "cell_type": "code",
     "collapsed": false,
     "input": [
      "import nn"
     ],
     "language": "python",
     "metadata": {},
     "outputs": [],
     "prompt_number": 4
    },
    {
     "cell_type": "code",
     "collapsed": false,
     "input": [
      "import os\n",
      "os.remove('nn.db')"
     ],
     "language": "python",
     "metadata": {},
     "outputs": []
    },
    {
     "cell_type": "heading",
     "level": 3,
     "metadata": {},
     "source": [
      "init db"
     ]
    },
    {
     "cell_type": "code",
     "collapsed": false,
     "input": [
      "mynet = nn.searchnet('nn.db')\n",
      "mynet.maketables()\n",
      "\n",
      "wWorld,wRiver,wBank = 101,102,103\n",
      "uWorldBank,uRiver,uEarth = 201,202,203\n",
      "\n",
      "mynet.generatehiddennode([wWorld,wBank],[uWorldBank,uRiver,uEarth])\n",
      "\n",
      "\n",
      "for c in mynet.con.execute('select * from wordhidden'): print c\n",
      "\n",
      "for c in mynet.con.execute('select * from hiddenurl'): print c"
     ],
     "language": "python",
     "metadata": {},
     "outputs": [
      {
       "ename": "OperationalError",
       "evalue": "table hiddennode already exists",
       "output_type": "pyerr",
       "traceback": [
        "\u001b[1;31m---------------------------------------------------------------------------\u001b[0m\n\u001b[1;31mOperationalError\u001b[0m                          Traceback (most recent call last)",
        "\u001b[1;32m<ipython-input-5-dc7dd9e0f113>\u001b[0m in \u001b[0;36m<module>\u001b[1;34m()\u001b[0m\n\u001b[0;32m      1\u001b[0m \u001b[0mmynet\u001b[0m \u001b[1;33m=\u001b[0m \u001b[0mnn\u001b[0m\u001b[1;33m.\u001b[0m\u001b[0msearchnet\u001b[0m\u001b[1;33m(\u001b[0m\u001b[1;34m'nn.db'\u001b[0m\u001b[1;33m)\u001b[0m\u001b[1;33m\u001b[0m\u001b[0m\n\u001b[1;32m----> 2\u001b[1;33m \u001b[0mmynet\u001b[0m\u001b[1;33m.\u001b[0m\u001b[0mmaketables\u001b[0m\u001b[1;33m(\u001b[0m\u001b[1;33m)\u001b[0m\u001b[1;33m\u001b[0m\u001b[0m\n\u001b[0m\u001b[0;32m      3\u001b[0m \u001b[1;33m\u001b[0m\u001b[0m\n\u001b[0;32m      4\u001b[0m \u001b[0mwWorld\u001b[0m\u001b[1;33m,\u001b[0m\u001b[0mwRiver\u001b[0m\u001b[1;33m,\u001b[0m\u001b[0mwBank\u001b[0m \u001b[1;33m=\u001b[0m \u001b[1;36m101\u001b[0m\u001b[1;33m,\u001b[0m\u001b[1;36m102\u001b[0m\u001b[1;33m,\u001b[0m\u001b[1;36m103\u001b[0m\u001b[1;33m\u001b[0m\u001b[0m\n\u001b[0;32m      5\u001b[0m \u001b[0muWorldBank\u001b[0m\u001b[1;33m,\u001b[0m\u001b[0muRiver\u001b[0m\u001b[1;33m,\u001b[0m\u001b[0muEarth\u001b[0m \u001b[1;33m=\u001b[0m \u001b[1;36m201\u001b[0m\u001b[1;33m,\u001b[0m\u001b[1;36m202\u001b[0m\u001b[1;33m,\u001b[0m\u001b[1;36m203\u001b[0m\u001b[1;33m\u001b[0m\u001b[0m\n",
        "\u001b[1;32mc:\\Python27\\Scripts\\Collective Intelligence algos\\searchengine\\nn.pyc\u001b[0m in \u001b[0;36mmaketables\u001b[1;34m(self)\u001b[0m\n\u001b[0;32m     13\u001b[0m \u001b[1;33m\u001b[0m\u001b[0m\n\u001b[0;32m     14\u001b[0m     \u001b[1;32mdef\u001b[0m \u001b[0mmaketables\u001b[0m\u001b[1;33m(\u001b[0m\u001b[0mself\u001b[0m\u001b[1;33m)\u001b[0m\u001b[1;33m:\u001b[0m\u001b[1;33m\u001b[0m\u001b[0m\n\u001b[1;32m---> 15\u001b[1;33m       \u001b[0mself\u001b[0m\u001b[1;33m.\u001b[0m\u001b[0mcon\u001b[0m\u001b[1;33m.\u001b[0m\u001b[0mexecute\u001b[0m\u001b[1;33m(\u001b[0m\u001b[1;34m'create table hiddennode(create_key)'\u001b[0m\u001b[1;33m)\u001b[0m\u001b[1;33m\u001b[0m\u001b[0m\n\u001b[0m\u001b[0;32m     16\u001b[0m       \u001b[0mself\u001b[0m\u001b[1;33m.\u001b[0m\u001b[0mcon\u001b[0m\u001b[1;33m.\u001b[0m\u001b[0mexecute\u001b[0m\u001b[1;33m(\u001b[0m\u001b[1;34m'create table wordhidden(fromid,toid,strength)'\u001b[0m\u001b[1;33m)\u001b[0m\u001b[1;33m\u001b[0m\u001b[0m\n\u001b[0;32m     17\u001b[0m       \u001b[0mself\u001b[0m\u001b[1;33m.\u001b[0m\u001b[0mcon\u001b[0m\u001b[1;33m.\u001b[0m\u001b[0mexecute\u001b[0m\u001b[1;33m(\u001b[0m\u001b[1;34m'create table hiddenurl(fromid,toid,strength)'\u001b[0m\u001b[1;33m)\u001b[0m\u001b[1;33m\u001b[0m\u001b[0m\n",
        "\u001b[1;31mOperationalError\u001b[0m: table hiddennode already exists"
       ]
      }
     ],
     "prompt_number": 5
    },
    {
     "cell_type": "code",
     "collapsed": false,
     "input": [
      "reload(nn)\n",
      "mynet = nn.searchnet('nn.db')\n",
      "wWorld,wRiver,wBank = 101,102,103\n",
      "uWorldBank,uRiver,uEarth = 201,202,203\n",
      "print mynet.getresult([wWorld,wBank],[uWorldBank,uRiver,uEarth])"
     ],
     "language": "python",
     "metadata": {},
     "outputs": [
      {
       "output_type": "stream",
       "stream": "stdout",
       "text": [
        "[0.07601250837541615, 0.07601250837541615, 0.07601250837541615]\n"
       ]
      }
     ],
     "prompt_number": 10
    },
    {
     "cell_type": "code",
     "collapsed": false,
     "input": [
      "mynet = nn.searchnet('nn.db')\n",
      "\n",
      "mynet.trainquery([wWorld,wBank],[uWorldBank,uRiver,uEarth],uWorldBank)\n",
      "mynet.getresult([wWorld,wBank],[uWorldBank,uRiver,uEarth])"
     ],
     "language": "python",
     "metadata": {},
     "outputs": [
      {
       "metadata": {},
       "output_type": "pyout",
       "prompt_number": 12,
       "text": [
        "[0.3350632467125331, 0.055127057492087995, 0.055127057492087995]"
       ]
      }
     ],
     "prompt_number": 12
    },
    {
     "cell_type": "code",
     "collapsed": false,
     "input": [
      "print mynet.getresult([wWorld,wBank],[uWorldBank,uRiver,uEarth])"
     ],
     "language": "python",
     "metadata": {},
     "outputs": [
      {
       "output_type": "stream",
       "stream": "stdout",
       "text": [
        "[0.3350632467125331, 0.055127057492087995, 0.055127057492087995]\n"
       ]
      }
     ],
     "prompt_number": 13
    },
    {
     "cell_type": "code",
     "collapsed": false,
     "input": [],
     "language": "python",
     "metadata": {},
     "outputs": []
    },
    {
     "cell_type": "code",
     "collapsed": false,
     "input": [
      "allurls=[uWorldBank,uRiver,uEarth]\n",
      "for i in range(30):\n",
      "    mynet.trainquery([wWorld,wBank],allurls,uWorldBank)\n",
      "    mynet.trainquery([wRiver,wBank],allurls,uRiver)\n",
      "    mynet.trainquery([wWorld],allurls,uEarth)\n",
      "    \n",
      "    print mynet.getresult([wWorld,wBank],[uWorldBank,allurls])\n",
      "    print mynet.getresult([wRiver,wBank],[uWorldBank,allurls])\n",
      "    print mynet.getresult([wBank],[uWorldBank,allurls])\n",
      "    "
     ],
     "language": "python",
     "metadata": {},
     "outputs": [
      {
       "ename": "SyntaxError",
       "evalue": "invalid syntax (<ipython-input-14-deb3d5fa80d8>, line 2)",
       "output_type": "pyerr",
       "traceback": [
        "\u001b[1;36m  File \u001b[1;32m\"<ipython-input-14-deb3d5fa80d8>\"\u001b[1;36m, line \u001b[1;32m2\u001b[0m\n\u001b[1;33m    fir i in range(30):\u001b[0m\n\u001b[1;37m        ^\u001b[0m\n\u001b[1;31mSyntaxError\u001b[0m\u001b[1;31m:\u001b[0m invalid syntax\n"
       ]
      }
     ],
     "prompt_number": 14
    },
    {
     "cell_type": "code",
     "collapsed": false,
     "input": [],
     "language": "python",
     "metadata": {},
     "outputs": []
    }
   ],
   "metadata": {}
  }
 ]
}