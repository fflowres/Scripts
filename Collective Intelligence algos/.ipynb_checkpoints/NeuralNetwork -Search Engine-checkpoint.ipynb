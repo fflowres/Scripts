{
 "metadata": {
  "name": "",
  "signature": "sha256:0f7de5e889201082bcbb533d7aed404413acbffce261aa3d742f352e513ab0c4"
 },
 "nbformat": 3,
 "nbformat_minor": 0,
 "worksheets": [
  {
   "cells": [
    {
     "cell_type": "heading",
     "level": 1,
     "metadata": {},
     "source": [
      "Neural Network - Artificial Intelligence"
     ]
    },
    {
     "cell_type": "heading",
     "level": 5,
     "metadata": {},
     "source": [
      "Use tan function as learning curve"
     ]
    },
    {
     "cell_type": "heading",
     "level": 4,
     "metadata": {},
     "source": [
      "Setting up database"
     ]
    },
    {
     "cell_type": "markdown",
     "metadata": {},
     "source": [
      "nn.py"
     ]
    },
    {
     "cell_type": "code",
     "collapsed": false,
     "input": [
      "from math import tanh\n",
      "from pysqlite2 import dbapi2 as sqlite\n",
      "\n",
      "#helper functions\n",
      "\n",
      "def dtanh(y):\n",
      "    return 1.0-y*y\n",
      "\n",
      "#main class\n",
      "\n",
      "class searchnet:\n",
      "    def __init__(self,dbname):\n",
      "        self.con=sqlite.connect(dbname)\n",
      "    \n",
      "    def __del__(self):\n",
      "        self.con.close()\n",
      "    \n",
      "    def maketables(self):\n",
      "        self.con.execute('create table hiddennode(create_key)')\n",
      "        self.con.execute('create table wordhidden(fromid,toid,strength)')\n",
      "        self.con.execute('create table hiddenurl(fromid,toid,strength)')\n",
      "        self.con.commit()\n",
      "        \n",
      "    def getstrength(self,fromid,toid,layer):\n",
      "        if layer==0: \n",
      "            table='wordhidden'\n",
      "        else:\n",
      "            table='hiddenurl'\n",
      "            \n",
      "        res = self.con.execute('select strength from %s where fromid=%d and toid=%d' % (table,fromid,toid)).fetchone()\n",
      "        \n",
      "        if res==None:\n",
      "            if layer==0: return -0.2\n",
      "            if layer==1: return 0\n",
      "        return res[0]\n",
      "    \n",
      "    def setstrength(self,fromid,toid,layer,strength):\n",
      "        if layer==0: table='wordhidden'\n",
      "        else: table='hiddenurl'\n",
      "        res=self.con.execute('select rowid from %s where fromid=%d and toid=%d' % (table,fromid,toid)).fetchone()\n",
      "        if res==None:\n",
      "            self.con.execute('insert into %s (fromid,toid,strength) values (%d,%d,%f)' % (table,fromid,toid,strength))\n",
      "        else:\n",
      "            roid=res[0]\n",
      "            self.con.execute('update %s set strength=%f where rowid=%d' % (table,strength,rowid))\n",
      "        \n",
      "    def generatehiddennode(self,wordids,urls):\n",
      "        if len(wordids)>3: return None\n",
      "        #check if we've already created a node for this set\n",
      "        createkey='_'.join(sorted([str(wi) for wi in wordids]))\n",
      "        res=self.con.execute(\"select rowid from hiddennode where create_key='%s'\" % createkey).fetchone()\n",
      "        \n",
      "        #if not then create it\n",
      "        if res==None:\n",
      "            cur=self.con.execute(\"insert into hiddennode (create_key) values ('%s')\" % createkey)\n",
      "            hiddenid=cur.lastrowid\n",
      "            \n",
      "            #put in some default weights\n",
      "            for wordid in wordids:\n",
      "                self.setstrength(wordid,hiddenid,0,1.0/len(wordids))\n",
      "            for urlid in urls:\n",
      "                self.setstrength(hiddenid,urlid,1,0.1)\n",
      "            self.con.commit()\n",
      "            \n",
      "            \n",
      "    def getallhiddenids(self,wordids,urlids):\n",
      "        l1 = {}\n",
      "        for wordid in wordids:\n",
      "            cur = self.con.execute('select toid from wordhidden where fromid=%d' %wordid)\n",
      "            for row in cur: l1[row[0]] = 1\n",
      "            \n",
      "        for urlid in urlids:\n",
      "            cur = self.con.execute('select fromid from hiddenurl where toid=%d' % urlid)\n",
      "            for row in cur: l1[row[0]] = 1\n",
      "        \n",
      "        return l1.keys()\n",
      "            \n",
      "            \n",
      "    \n",
      "    def setupnetwork(self,wordids,urlids):\n",
      "        #value lists\n",
      "        self.wordids = wordids\n",
      "        self.hiddenids=self.getallhiddenids(wordids,urlids)\n",
      "        self.urlids=urlids\n",
      "        \n",
      "        #node outputs\n",
      "        self.ai = [1.0]*len(self.wordids)\n",
      "        self.ah = [1.0]*len(self.hiddenids)\n",
      "        self.ao = [1.0]*len(self.urlids)\n",
      "        \n",
      "        #create weights matrix\n",
      "        self.wi = [[self.getstrength(wordid,hiddenid,0) for hiddenid in self.hiddenids] for wordid in self.wordids]\n",
      "        self.wo = [[self.getstrength(hiddenid,urlid,1) for urlid in self.urlids] for hiddenid in self.hiddenids]\n",
      "        \n",
      "    def feedforward(self):\n",
      "        #the only inputs are the query words\n",
      "        for i in range(len(self.wordids)):\n",
      "            self.ai[i] = 1.0\n",
      "        #hidden activations\n",
      "        for j in range(len(self.hidddenids)):\n",
      "            sum = 0.0\n",
      "            for i in range(len(self.wordids)):\n",
      "                sum = sum + self.ai[i] * self.wi[i][j]\n",
      "                self.ah[j] = tanh(sum)\n",
      "            #output activations\n",
      "            for k in range(len(self.urlids)):\n",
      "                sum = 0.0\n",
      "                for j in range(len(self.hiddenids)):\n",
      "                    sum = sum +self.ah[j]*self.wo[j][k]\n",
      "                self.ao[k] = tanh(sum)\n",
      "            return self.ao[:]\n",
      "    \n",
      "    \n",
      "    def getresult(self,wordids,urlids):\n",
      "        self.setupnetwork(wordids,urlids)\n",
      "        return self.feedforward()\n",
      "    \n",
      "        \n",
      "        \n",
      "        #cont pg134backprobagate\n",
      "    def backpropagate(self,targets,n=0.5):\n",
      "        #calculateerrors\n",
      "        output_deltas = [0.0]* len(self.urlids)\n",
      "        for k in range(len(self.urlids)):\n",
      "            errortargets[k] - self.ao[k]\n",
      "            output_deltas[k] = dtanh(self.ao[k]) * error\n",
      "            #calculate erros for hidden layer\n",
      "            hidden_deltas = [0.0]* len(self.hiddenids)\n",
      "            for j in range(len(self.hiddenids)):\n",
      "                error = 0.0 \n",
      "                for k in range(len(self.urlids)):\n",
      "                    error = error + output_deltas[k]*self.wo[j][k]\n",
      "                hidden_deltas[j] = dtanh(self.ah[j]) *error\n",
      "            #update output weights\n",
      "            \n",
      "            for j in range(len(self.hiddenids)):\n",
      "                for k in range(len(self.urlids)):\n",
      "                    change = output_deltas[k]*self.ah[j]\n",
      "                    self.wo[j][k] = self.wo[j][k] + N*change\n",
      "            #update input weights\n",
      "            for i in range(len(self.wordids)):\n",
      "                for j in range(len(self.hiddenids)):\n",
      "                    change = hidden_deltas[j]*self.ai[i]\n",
      "                    self.wi[i][j] = self.wi[i][j] + n*change\n",
      "                    \n",
      "    def trainquery(self,wordids,urlids,selectedurl):\n",
      "        #generate a hidden node if necessary\n",
      "        self.generatehiddennode(wordids,urlids)\n",
      "        self.setupnetwork(wordids,urlids)\n",
      "        self.feedforward()\n",
      "        targets = [0.0]*len(urlids)\n",
      "        targets[urlids,index(selectedurl)] = 1.0\n",
      "        self.backPropagate(targets)\n",
      "        self.updatedatabase()\n",
      "        \n",
      "    def updatedatabase(self):\n",
      "        # set them to database values\n",
      "        for i in range(len(self.wordids)):\n",
      "            for j in range(len(self.hiddenids)):\n",
      "                self.setstrength(self.wordids[i],self.hiddenids[j],0,self.wi[i][j])\n",
      "        for j in range(len(self.hiddenids)):\n",
      "            for k in range(len(self.urlids)):\n",
      "                self.setstrength(self.hiddenids[j],self.urlids[k],1,self.wo[j][k])\n",
      "                self.con.commit()\n",
      "                "
     ],
     "language": "python",
     "metadata": {},
     "outputs": [],
     "prompt_number": 5
    },
    {
     "cell_type": "code",
     "collapsed": false,
     "input": [
      "import os\n",
      "os.remove('nn.db')"
     ],
     "language": "python",
     "metadata": {},
     "outputs": [],
     "prompt_number": 2
    },
    {
     "cell_type": "heading",
     "level": 4,
     "metadata": {},
     "source": [
      "try createing databse and generating hidden node"
     ]
    },
    {
     "cell_type": "code",
     "collapsed": false,
     "input": [
      "mynet = searchnet('nn.db')\n",
      "mynet.maketables()\n",
      "\n",
      "wWorld,wRiver,wBank = 101,102,103\n",
      "uWorldBank,uRiver,uEarth = 201,202,203\n",
      "\n",
      "mynet.generatehiddennode([wWorld,wBank],[uWorldBank,uRiver,uEarth])\n",
      "\n",
      "\n",
      "for c in mynet.con.execute('select * from wordhidden'): print c\n",
      "\n",
      "for c in mynet.con.execute('select * from hiddenurl'): print c\n",
      "    "
     ],
     "language": "python",
     "metadata": {},
     "outputs": [
      {
       "output_type": "stream",
       "stream": "stdout",
       "text": [
        "(101, 1, 0.5)\n",
        "(103, 1, 0.5)\n",
        "(1, 201, 0.1)\n",
        "(1, 202, 0.1)\n",
        "(1, 203, 0.1)\n"
       ]
      }
     ],
     "prompt_number": 3
    },
    {
     "cell_type": "heading",
     "level": 4,
     "metadata": {},
     "source": [
      "set up neural network"
     ]
    },
    {
     "cell_type": "code",
     "collapsed": false,
     "input": [
      "#mynet = searchnet('nn.db')\n",
      "mynet.getresult([wWorld,wBank],[uWorldBank,uRiver,uEarth])"
     ],
     "language": "python",
     "metadata": {},
     "outputs": [
      {
       "ename": "AttributeError",
       "evalue": "searchnet instance has no attribute 'hidddenids'",
       "output_type": "pyerr",
       "traceback": [
        "\u001b[1;31m---------------------------------------------------------------------------\u001b[0m\n\u001b[1;31mAttributeError\u001b[0m                            Traceback (most recent call last)",
        "\u001b[1;32m<ipython-input-6-dc185daa1743>\u001b[0m in \u001b[0;36m<module>\u001b[1;34m()\u001b[0m\n\u001b[0;32m      1\u001b[0m \u001b[1;31m#mynet = searchnet('nn.db')\u001b[0m\u001b[1;33m\u001b[0m\u001b[1;33m\u001b[0m\u001b[0m\n\u001b[1;32m----> 2\u001b[1;33m \u001b[0mmynet\u001b[0m\u001b[1;33m.\u001b[0m\u001b[0mgetresult\u001b[0m\u001b[1;33m(\u001b[0m\u001b[1;33m[\u001b[0m\u001b[0mwWorld\u001b[0m\u001b[1;33m,\u001b[0m\u001b[0mwBank\u001b[0m\u001b[1;33m]\u001b[0m\u001b[1;33m,\u001b[0m\u001b[1;33m[\u001b[0m\u001b[0muWorldBank\u001b[0m\u001b[1;33m,\u001b[0m\u001b[0muRiver\u001b[0m\u001b[1;33m,\u001b[0m\u001b[0muEarth\u001b[0m\u001b[1;33m]\u001b[0m\u001b[1;33m)\u001b[0m\u001b[1;33m\u001b[0m\u001b[0m\n\u001b[0m",
        "\u001b[1;32m<ipython-input-1-7d516aa8fbe0>\u001b[0m in \u001b[0;36mgetresult\u001b[1;34m(self, wordids, urlids)\u001b[0m\n\u001b[0;32m    114\u001b[0m     \u001b[1;32mdef\u001b[0m \u001b[0mgetresult\u001b[0m\u001b[1;33m(\u001b[0m\u001b[0mself\u001b[0m\u001b[1;33m,\u001b[0m\u001b[0mwordids\u001b[0m\u001b[1;33m,\u001b[0m\u001b[0murlids\u001b[0m\u001b[1;33m)\u001b[0m\u001b[1;33m:\u001b[0m\u001b[1;33m\u001b[0m\u001b[0m\n\u001b[0;32m    115\u001b[0m         \u001b[0mself\u001b[0m\u001b[1;33m.\u001b[0m\u001b[0msetupnetwork\u001b[0m\u001b[1;33m(\u001b[0m\u001b[0mwordids\u001b[0m\u001b[1;33m,\u001b[0m\u001b[0murlids\u001b[0m\u001b[1;33m)\u001b[0m\u001b[1;33m\u001b[0m\u001b[0m\n\u001b[1;32m--> 116\u001b[1;33m         \u001b[1;32mreturn\u001b[0m \u001b[0mself\u001b[0m\u001b[1;33m.\u001b[0m\u001b[0mfeedforward\u001b[0m\u001b[1;33m(\u001b[0m\u001b[1;33m)\u001b[0m\u001b[1;33m\u001b[0m\u001b[0m\n\u001b[0m\u001b[0;32m    117\u001b[0m \u001b[1;33m\u001b[0m\u001b[0m\n\u001b[0;32m    118\u001b[0m \u001b[1;33m\u001b[0m\u001b[0m\n",
        "\u001b[1;32m<ipython-input-1-7d516aa8fbe0>\u001b[0m in \u001b[0;36mfeedforward\u001b[1;34m(self)\u001b[0m\n\u001b[0;32m     98\u001b[0m             \u001b[0mself\u001b[0m\u001b[1;33m.\u001b[0m\u001b[0mai\u001b[0m\u001b[1;33m[\u001b[0m\u001b[0mi\u001b[0m\u001b[1;33m]\u001b[0m \u001b[1;33m=\u001b[0m \u001b[1;36m1.0\u001b[0m\u001b[1;33m\u001b[0m\u001b[0m\n\u001b[0;32m     99\u001b[0m         \u001b[1;31m#hidden activations\u001b[0m\u001b[1;33m\u001b[0m\u001b[1;33m\u001b[0m\u001b[0m\n\u001b[1;32m--> 100\u001b[1;33m         \u001b[1;32mfor\u001b[0m \u001b[0mj\u001b[0m \u001b[1;32min\u001b[0m \u001b[0mrange\u001b[0m\u001b[1;33m(\u001b[0m\u001b[0mlen\u001b[0m\u001b[1;33m(\u001b[0m\u001b[0mself\u001b[0m\u001b[1;33m.\u001b[0m\u001b[0mhidddenids\u001b[0m\u001b[1;33m)\u001b[0m\u001b[1;33m)\u001b[0m\u001b[1;33m:\u001b[0m\u001b[1;33m\u001b[0m\u001b[0m\n\u001b[0m\u001b[0;32m    101\u001b[0m             \u001b[0msum\u001b[0m \u001b[1;33m=\u001b[0m \u001b[1;36m0.0\u001b[0m\u001b[1;33m\u001b[0m\u001b[0m\n\u001b[0;32m    102\u001b[0m             \u001b[1;32mfor\u001b[0m \u001b[0mi\u001b[0m \u001b[1;32min\u001b[0m \u001b[0mrange\u001b[0m\u001b[1;33m(\u001b[0m\u001b[0mlen\u001b[0m\u001b[1;33m(\u001b[0m\u001b[0mself\u001b[0m\u001b[1;33m.\u001b[0m\u001b[0mwordids\u001b[0m\u001b[1;33m)\u001b[0m\u001b[1;33m)\u001b[0m\u001b[1;33m:\u001b[0m\u001b[1;33m\u001b[0m\u001b[0m\n",
        "\u001b[1;31mAttributeError\u001b[0m: searchnet instance has no attribute 'hidddenids'"
       ]
      }
     ],
     "prompt_number": 6
    },
    {
     "cell_type": "code",
     "collapsed": false,
     "input": [
      "mynet = searchnet('nn.db')\n",
      "mynet.trainquery(['wWord','wBank'],['uWorldBank','uRiver','uEarth'],'uWorldBank')\n",
      "mynet.getresult(['wWorld','wBank'],['uWorldBank','uRiver','uEarth'])\n"
     ],
     "language": "python",
     "metadata": {},
     "outputs": [
      {
       "ename": "NameError",
       "evalue": "global name 'res' is not defined",
       "output_type": "pyerr",
       "traceback": [
        "\u001b[1;31m---------------------------------------------------------------------------\u001b[0m\n\u001b[1;31mNameError\u001b[0m                                 Traceback (most recent call last)",
        "\u001b[1;32m<ipython-input-5-aa6997ab6d40>\u001b[0m in \u001b[0;36m<module>\u001b[1;34m()\u001b[0m\n\u001b[0;32m      1\u001b[0m \u001b[0mmynet\u001b[0m \u001b[1;33m=\u001b[0m \u001b[0msearchnet\u001b[0m\u001b[1;33m(\u001b[0m\u001b[1;34m'nn.db'\u001b[0m\u001b[1;33m)\u001b[0m\u001b[1;33m\u001b[0m\u001b[0m\n\u001b[1;32m----> 2\u001b[1;33m \u001b[0mmynet\u001b[0m\u001b[1;33m.\u001b[0m\u001b[0mtrainquery\u001b[0m\u001b[1;33m(\u001b[0m\u001b[1;33m[\u001b[0m\u001b[1;34m'wWord'\u001b[0m\u001b[1;33m,\u001b[0m\u001b[1;34m'wBank'\u001b[0m\u001b[1;33m]\u001b[0m\u001b[1;33m,\u001b[0m\u001b[1;33m[\u001b[0m\u001b[1;34m'uWorldBank'\u001b[0m\u001b[1;33m,\u001b[0m\u001b[1;34m'uRiver'\u001b[0m\u001b[1;33m,\u001b[0m\u001b[1;34m'uEarth'\u001b[0m\u001b[1;33m]\u001b[0m\u001b[1;33m,\u001b[0m\u001b[1;34m'uWorldBank'\u001b[0m\u001b[1;33m)\u001b[0m\u001b[1;33m\u001b[0m\u001b[0m\n\u001b[0m\u001b[0;32m      3\u001b[0m \u001b[0mmynet\u001b[0m\u001b[1;33m.\u001b[0m\u001b[0mgetresult\u001b[0m\u001b[1;33m(\u001b[0m\u001b[1;33m[\u001b[0m\u001b[1;34m'wWorld'\u001b[0m\u001b[1;33m,\u001b[0m\u001b[1;34m'wBank'\u001b[0m\u001b[1;33m]\u001b[0m\u001b[1;33m,\u001b[0m\u001b[1;33m[\u001b[0m\u001b[1;34m'uWorldBank'\u001b[0m\u001b[1;33m,\u001b[0m\u001b[1;34m'uRiver'\u001b[0m\u001b[1;33m,\u001b[0m\u001b[1;34m'uEarth'\u001b[0m\u001b[1;33m]\u001b[0m\u001b[1;33m)\u001b[0m\u001b[1;33m\u001b[0m\u001b[0m\n",
        "\u001b[1;32m<ipython-input-2-1b5667371238>\u001b[0m in \u001b[0;36mtrainquery\u001b[1;34m(self, wordids, urlids, selectedurl)\u001b[0m\n\u001b[0;32m    146\u001b[0m     \u001b[1;32mdef\u001b[0m \u001b[0mtrainquery\u001b[0m\u001b[1;33m(\u001b[0m\u001b[0mself\u001b[0m\u001b[1;33m,\u001b[0m\u001b[0mwordids\u001b[0m\u001b[1;33m,\u001b[0m\u001b[0murlids\u001b[0m\u001b[1;33m,\u001b[0m\u001b[0mselectedurl\u001b[0m\u001b[1;33m)\u001b[0m\u001b[1;33m:\u001b[0m\u001b[1;33m\u001b[0m\u001b[0m\n\u001b[0;32m    147\u001b[0m         \u001b[1;31m#generate a hidden node if necessary\u001b[0m\u001b[1;33m\u001b[0m\u001b[1;33m\u001b[0m\u001b[0m\n\u001b[1;32m--> 148\u001b[1;33m         \u001b[0mself\u001b[0m\u001b[1;33m.\u001b[0m\u001b[0mgeneratehiddennode\u001b[0m\u001b[1;33m(\u001b[0m\u001b[0mwordids\u001b[0m\u001b[1;33m,\u001b[0m\u001b[0murlids\u001b[0m\u001b[1;33m)\u001b[0m\u001b[1;33m\u001b[0m\u001b[0m\n\u001b[0m\u001b[0;32m    149\u001b[0m         \u001b[0mself\u001b[0m\u001b[1;33m.\u001b[0m\u001b[0msetupnetwork\u001b[0m\u001b[1;33m(\u001b[0m\u001b[0mwordids\u001b[0m\u001b[1;33m,\u001b[0m\u001b[0murlids\u001b[0m\u001b[1;33m)\u001b[0m\u001b[1;33m\u001b[0m\u001b[0m\n\u001b[0;32m    150\u001b[0m         \u001b[0mself\u001b[0m\u001b[1;33m.\u001b[0m\u001b[0mfeedforward\u001b[0m\u001b[1;33m(\u001b[0m\u001b[1;33m)\u001b[0m\u001b[1;33m\u001b[0m\u001b[0m\n",
        "\u001b[1;32m<ipython-input-2-1b5667371238>\u001b[0m in \u001b[0;36mgeneratehiddennode\u001b[1;34m(self, wordids, urls)\u001b[0m\n\u001b[0;32m     49\u001b[0m         \u001b[1;31m#check if we've already created a node for this set\u001b[0m\u001b[1;33m\u001b[0m\u001b[1;33m\u001b[0m\u001b[0m\n\u001b[0;32m     50\u001b[0m         \u001b[0mcreatekey\u001b[0m\u001b[1;33m=\u001b[0m\u001b[1;34m'_'\u001b[0m\u001b[1;33m.\u001b[0m\u001b[0mjoin\u001b[0m\u001b[1;33m(\u001b[0m\u001b[0msorted\u001b[0m\u001b[1;33m(\u001b[0m\u001b[1;33m[\u001b[0m\u001b[0mstr\u001b[0m\u001b[1;33m(\u001b[0m\u001b[0mwi\u001b[0m\u001b[1;33m)\u001b[0m \u001b[1;32mfor\u001b[0m \u001b[0mwi\u001b[0m \u001b[1;32min\u001b[0m \u001b[0mwordids\u001b[0m\u001b[1;33m]\u001b[0m\u001b[1;33m)\u001b[0m\u001b[1;33m)\u001b[0m\u001b[1;33m\u001b[0m\u001b[0m\n\u001b[1;32m---> 51\u001b[1;33m         \u001b[0mres\u001b[0m\u001b[1;33m.\u001b[0m\u001b[0mself\u001b[0m\u001b[1;33m.\u001b[0m\u001b[0mcon\u001b[0m\u001b[1;33m.\u001b[0m\u001b[0mexecute\u001b[0m\u001b[1;33m(\u001b[0m\u001b[1;34m\"select rowid from hiddennode where create_key='%s'\"\u001b[0m \u001b[1;33m%\u001b[0m \u001b[0mcreatekey\u001b[0m\u001b[1;33m)\u001b[0m\u001b[1;33m.\u001b[0m\u001b[0mfetchone\u001b[0m\u001b[1;33m(\u001b[0m\u001b[1;33m)\u001b[0m\u001b[1;33m\u001b[0m\u001b[0m\n\u001b[0m\u001b[0;32m     52\u001b[0m \u001b[1;33m\u001b[0m\u001b[0m\n\u001b[0;32m     53\u001b[0m         \u001b[1;31m#if not then create it\u001b[0m\u001b[1;33m\u001b[0m\u001b[1;33m\u001b[0m\u001b[0m\n",
        "\u001b[1;31mNameError\u001b[0m: global name 'res' is not defined"
       ]
      }
     ],
     "prompt_number": 5
    },
    {
     "cell_type": "code",
     "collapsed": false,
     "input": [],
     "language": "python",
     "metadata": {},
     "outputs": []
    }
   ],
   "metadata": {}
  }
 ]
}