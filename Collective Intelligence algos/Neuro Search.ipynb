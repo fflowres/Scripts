{
 "metadata": {
  "name": "",
  "signature": "sha256:e66d8c8c00198d8733daf674cabef8b0333ae411aabfa1417327c56313712cbe"
 },
 "nbformat": 3,
 "nbformat_minor": 0,
 "worksheets": [
  {
   "cells": [
    {
     "cell_type": "code",
     "collapsed": false,
     "input": [
      "import sys\n",
      "sys.path.append('c:\\Python27\\Scripts\\Collective Intelligence algos\\searchengine')"
     ],
     "language": "python",
     "metadata": {},
     "outputs": [],
     "prompt_number": 14
    },
    {
     "cell_type": "code",
     "collapsed": false,
     "input": [
      "import nn"
     ],
     "language": "python",
     "metadata": {},
     "outputs": [],
     "prompt_number": 15
    },
    {
     "cell_type": "code",
     "collapsed": false,
     "input": [
      "import os\n",
      "os.remove('nn.db')"
     ],
     "language": "python",
     "metadata": {},
     "outputs": [],
     "prompt_number": 3
    },
    {
     "cell_type": "heading",
     "level": 3,
     "metadata": {},
     "source": [
      "init db"
     ]
    },
    {
     "cell_type": "code",
     "collapsed": false,
     "input": [
      "mynet = nn.searchnet('nn.db')\n",
      "mynet.maketables()\n",
      "\n",
      "wWorld,wRiver,wBank = 101,102,103\n",
      "uWorldBank,uRiver,uEarth = 201,202,203\n",
      "\n",
      "mynet.generatehiddennode([wWorld,wBank],[uWorldBank,uRiver,uEarth])\n",
      "\n",
      "\n",
      "for c in mynet.con.execute('select * from wordhidden'): print c\n",
      "\n",
      "for c in mynet.con.execute('select * from hiddenurl'): print c"
     ],
     "language": "python",
     "metadata": {},
     "outputs": [
      {
       "output_type": "stream",
       "stream": "stdout",
       "text": [
        "(101, 1, 0.5)\n",
        "(103, 1, 0.5)\n",
        "(1, 201, 0.1)\n",
        "(1, 202, 0.1)\n",
        "(1, 203, 0.1)\n"
       ]
      }
     ],
     "prompt_number": 4
    },
    {
     "cell_type": "code",
     "collapsed": false,
     "input": [
      "reload(nn)\n",
      "mynet = nn.searchnet('nn.db')\n",
      "\n",
      "wWorld,wRiver,wBank = 101,102,103\n",
      "uWorldBank,uRiver,uEarth = 201,202,203\n",
      "\n",
      "print mynet.getresult([wWorld,wBank],[uWorldBank,uRiver,uEarth])"
     ],
     "language": "python",
     "metadata": {},
     "outputs": [
      {
       "output_type": "stream",
       "stream": "stdout",
       "text": [
        "[0.07601250837541615, 0.07601250837541615, 0.07601250837541615]\n"
       ]
      }
     ],
     "prompt_number": 5
    },
    {
     "cell_type": "code",
     "collapsed": false,
     "input": [
      "mynet = nn.searchnet('nn.db')\n",
      "\n",
      "mynet.trainquery([wWorld,wBank],[uWorldBank,uRiver,uEarth],uWorldBank)\n",
      "mynet.getresult([wWorld,wBank],[uWorldBank,uRiver,uEarth])"
     ],
     "language": "python",
     "metadata": {},
     "outputs": [
      {
       "ename": "NameError",
       "evalue": "name 'nn' is not defined",
       "output_type": "pyerr",
       "traceback": [
        "\u001b[1;31m---------------------------------------------------------------------------\u001b[0m\n\u001b[1;31mNameError\u001b[0m                                 Traceback (most recent call last)",
        "\u001b[1;32m<ipython-input-12-0e5cc47b003e>\u001b[0m in \u001b[0;36m<module>\u001b[1;34m()\u001b[0m\n\u001b[1;32m----> 1\u001b[1;33m \u001b[0mmynet\u001b[0m \u001b[1;33m=\u001b[0m \u001b[0mnn\u001b[0m\u001b[1;33m.\u001b[0m\u001b[0msearchnet\u001b[0m\u001b[1;33m(\u001b[0m\u001b[1;34m'nn.db'\u001b[0m\u001b[1;33m)\u001b[0m\u001b[1;33m\u001b[0m\u001b[0m\n\u001b[0m\u001b[0;32m      2\u001b[0m \u001b[1;33m\u001b[0m\u001b[0m\n\u001b[0;32m      3\u001b[0m \u001b[0mmynet\u001b[0m\u001b[1;33m.\u001b[0m\u001b[0mtrainquery\u001b[0m\u001b[1;33m(\u001b[0m\u001b[1;33m[\u001b[0m\u001b[0mwWorld\u001b[0m\u001b[1;33m,\u001b[0m\u001b[0mwBank\u001b[0m\u001b[1;33m]\u001b[0m\u001b[1;33m,\u001b[0m\u001b[1;33m[\u001b[0m\u001b[0muWorldBank\u001b[0m\u001b[1;33m,\u001b[0m\u001b[0muRiver\u001b[0m\u001b[1;33m,\u001b[0m\u001b[0muEarth\u001b[0m\u001b[1;33m]\u001b[0m\u001b[1;33m,\u001b[0m\u001b[0muWorldBank\u001b[0m\u001b[1;33m)\u001b[0m\u001b[1;33m\u001b[0m\u001b[0m\n\u001b[0;32m      4\u001b[0m \u001b[0mmynet\u001b[0m\u001b[1;33m.\u001b[0m\u001b[0mgetresult\u001b[0m\u001b[1;33m(\u001b[0m\u001b[1;33m[\u001b[0m\u001b[0mwWorld\u001b[0m\u001b[1;33m,\u001b[0m\u001b[0mwBank\u001b[0m\u001b[1;33m]\u001b[0m\u001b[1;33m,\u001b[0m\u001b[1;33m[\u001b[0m\u001b[0muWorldBank\u001b[0m\u001b[1;33m,\u001b[0m\u001b[0muRiver\u001b[0m\u001b[1;33m,\u001b[0m\u001b[0muEarth\u001b[0m\u001b[1;33m]\u001b[0m\u001b[1;33m)\u001b[0m\u001b[1;33m\u001b[0m\u001b[0m\n",
        "\u001b[1;31mNameError\u001b[0m: name 'nn' is not defined"
       ]
      }
     ],
     "prompt_number": 12
    },
    {
     "cell_type": "code",
     "collapsed": false,
     "input": [
      "print mynet.getresult([wWorld,wBank],[uWorldBank,uRiver,uEarth])"
     ],
     "language": "python",
     "metadata": {},
     "outputs": []
    },
    {
     "cell_type": "heading",
     "level": 2,
     "metadata": {},
     "source": [
      "Fast train"
     ]
    },
    {
     "cell_type": "code",
     "collapsed": false,
     "input": [
      "allurls=[uWorldBank,uRiver,uEarth]\n",
      "for i in range(30):\n",
      "    mynet.trainquery([wWorld,wBank],allurls,uEarth)\n",
      "    mynet.trainquery([wRiver,wBank],allurls,uRiver)\n",
      "    mynet.trainquery([wWorld],allurls,uEarth)\n",
      "    \n",
      "\n",
      "    "
     ],
     "language": "python",
     "metadata": {},
     "outputs": [],
     "prompt_number": 20
    },
    {
     "cell_type": "code",
     "collapsed": false,
     "input": [
      "\n",
      "\n",
      "wWorld,wRiver,wBank = 101,102,103\n",
      "uWorldBank,uRiver,uEarth = 201,202,203\n",
      "allurls=[uWorldBank,uRiver,uEarth]\n",
      "mynet = nn.searchnet('nn.db')\n",
      "print mynet.getresult([wWorld,wBank],allurls)\n",
      "print mynet.getresult([wRiver,wBank],allurls)\n",
      "print mynet.getresult([wBank],allurls)"
     ],
     "language": "python",
     "metadata": {},
     "outputs": [
      {
       "output_type": "stream",
       "stream": "stdout",
       "text": [
        "[0.05482853537202922, 0.0005418601516025695, 0.9534719238488613]\n",
        "[-0.022719503602963827, 0.9558412838968073, 0.11366672710111937]\n",
        "[0.1708694349982808, 0.2726936252191623, -0.5808502957919004]\n"
       ]
      }
     ],
     "prompt_number": 21
    },
    {
     "cell_type": "code",
     "collapsed": false,
     "input": [
      "worddb={'World':101,'River':102,'Bank':103}\n",
      "worddict={101:'wWorld',102:'wRiver',103:'wBank'}\n",
      "urldict = {201:'uWorldBank',202:'uRiver',203:'uEarth'}\n",
      "urlist = ['uWorldBank','uRiver','uEarth']"
     ],
     "language": "python",
     "metadata": {},
     "outputs": [],
     "prompt_number": 10
    },
    {
     "cell_type": "code",
     "collapsed": false,
     "input": [
      "mynet.getresult([wWorld,wBank],allurls)\n",
      "\n",
      "\n",
      "def getmaxindex(alist):\n",
      "    return max(enumerate(alist),key=lambda x: x[1])[0]\n",
      "\n",
      "getmaxindex(a) \n",
      "\n",
      "\n"
     ],
     "language": "python",
     "metadata": {},
     "outputs": [
      {
       "metadata": {},
       "output_type": "pyout",
       "prompt_number": 5,
       "text": [
        "0"
       ]
      }
     ],
     "prompt_number": 5
    },
    {
     "cell_type": "code",
     "collapsed": false,
     "input": [
      "worddb={'World':101,'River':102,'Bank':103}\n",
      "def getid(words):\n",
      "    wordidlist=[]\n",
      "    for wordid in words:\n",
      "        try:\n",
      "            wordidlist.append(worddb[wordid])\n",
      "        except:\n",
      "            continue    \n",
      "    return wordidlist\n",
      "\n",
      "\n",
      "getid(['World','Bank'])\n",
      "\n"
     ],
     "language": "python",
     "metadata": {},
     "outputs": [
      {
       "metadata": {},
       "output_type": "pyout",
       "prompt_number": 7,
       "text": [
        "[101, 103]"
       ]
      }
     ],
     "prompt_number": 7
    },
    {
     "cell_type": "code",
     "collapsed": false,
     "input": [
      "def query(wordlist,urllist):\n",
      "    netvals = mynet.getresult(getid(wordlist),urllist)\n",
      "    return urllist[getmaxindex(netvals)]\n",
      "#print urlist[maxIndex]"
     ],
     "language": "python",
     "metadata": {},
     "outputs": [],
     "prompt_number": 8
    },
    {
     "cell_type": "code",
     "collapsed": false,
     "input": [
      "query(['World','Bank'],urlist)"
     ],
     "language": "python",
     "metadata": {},
     "outputs": [
      {
       "ename": "NameError",
       "evalue": "global name 'mynet' is not defined",
       "output_type": "pyerr",
       "traceback": [
        "\u001b[1;31m---------------------------------------------------------------------------\u001b[0m\n\u001b[1;31mNameError\u001b[0m                                 Traceback (most recent call last)",
        "\u001b[1;32m<ipython-input-11-eb40d43a46ec>\u001b[0m in \u001b[0;36m<module>\u001b[1;34m()\u001b[0m\n\u001b[1;32m----> 1\u001b[1;33m \u001b[0mquery\u001b[0m\u001b[1;33m(\u001b[0m\u001b[1;33m[\u001b[0m\u001b[1;34m'World'\u001b[0m\u001b[1;33m,\u001b[0m\u001b[1;34m'Bank'\u001b[0m\u001b[1;33m]\u001b[0m\u001b[1;33m,\u001b[0m\u001b[0murlist\u001b[0m\u001b[1;33m)\u001b[0m\u001b[1;33m\u001b[0m\u001b[0m\n\u001b[0m",
        "\u001b[1;32m<ipython-input-8-c7eb1d3e7d57>\u001b[0m in \u001b[0;36mquery\u001b[1;34m(wordlist, urllist)\u001b[0m\n\u001b[0;32m      1\u001b[0m \u001b[1;32mdef\u001b[0m \u001b[0mquery\u001b[0m\u001b[1;33m(\u001b[0m\u001b[0mwordlist\u001b[0m\u001b[1;33m,\u001b[0m\u001b[0murllist\u001b[0m\u001b[1;33m)\u001b[0m\u001b[1;33m:\u001b[0m\u001b[1;33m\u001b[0m\u001b[0m\n\u001b[1;32m----> 2\u001b[1;33m     \u001b[0mnetvals\u001b[0m \u001b[1;33m=\u001b[0m \u001b[0mmynet\u001b[0m\u001b[1;33m.\u001b[0m\u001b[0mgetresult\u001b[0m\u001b[1;33m(\u001b[0m\u001b[0mgetid\u001b[0m\u001b[1;33m(\u001b[0m\u001b[0mwordlist\u001b[0m\u001b[1;33m)\u001b[0m\u001b[1;33m,\u001b[0m\u001b[0murllist\u001b[0m\u001b[1;33m)\u001b[0m\u001b[1;33m\u001b[0m\u001b[0m\n\u001b[0m\u001b[0;32m      3\u001b[0m     \u001b[1;32mreturn\u001b[0m \u001b[0murllist\u001b[0m\u001b[1;33m[\u001b[0m\u001b[0mgetmaxindex\u001b[0m\u001b[1;33m(\u001b[0m\u001b[0mnetvals\u001b[0m\u001b[1;33m)\u001b[0m\u001b[1;33m]\u001b[0m\u001b[1;33m\u001b[0m\u001b[0m\n\u001b[0;32m      4\u001b[0m \u001b[1;31m#print urlist[maxIndex]\u001b[0m\u001b[1;33m\u001b[0m\u001b[1;33m\u001b[0m\u001b[0m\n",
        "\u001b[1;31mNameError\u001b[0m: global name 'mynet' is not defined"
       ]
      }
     ],
     "prompt_number": 11
    },
    {
     "cell_type": "code",
     "collapsed": false,
     "input": [],
     "language": "python",
     "metadata": {},
     "outputs": []
    }
   ],
   "metadata": {}
  }
 ]
}