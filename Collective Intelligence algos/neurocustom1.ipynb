{
 "metadata": {
  "name": "",
  "signature": "sha256:56f68d64c1b16a2390ee3ddb779c65c951e69ebfeb24e65dc9604e12428c76b5"
 },
 "nbformat": 3,
 "nbformat_minor": 0,
 "worksheets": [
  {
   "cells": [
    {
     "cell_type": "code",
     "collapsed": false,
     "input": [
      "import sys\n",
      "sys.path.append('c:\\Python27\\Scripts\\Collective Intelligence algos\\searchengine')\n",
      "import nn\n",
      "mynet = nn.searchnet('nn.db')"
     ],
     "language": "python",
     "metadata": {},
     "outputs": [],
     "prompt_number": 1
    },
    {
     "cell_type": "code",
     "collapsed": false,
     "input": [
      "worddb={'World':101,'River':102,'Bank':103}\n",
      "urldb={'WorldBank':201,'River':202,'Earth':203}\n",
      "worddict={101:'wWorld',102:'wRiver',103:'wBank'}\n",
      "urldict = {201:'uWorldBank',202:'uRiver',203:'uEarth'}\n",
      "urlist = ['WorldBank','River','Earth']"
     ],
     "language": "python",
     "metadata": {},
     "outputs": [],
     "prompt_number": 7
    },
    {
     "cell_type": "code",
     "collapsed": false,
     "input": [
      "def getid(words,dbdict):\n",
      "    wordidlist=[]\n",
      "    for wordid in words:\n",
      "        try:\n",
      "            wordidlist.append(dbdict[wordid])\n",
      "        except:\n",
      "            continue    \n",
      "    return wordidlist"
     ],
     "language": "python",
     "metadata": {},
     "outputs": [],
     "prompt_number": 10
    },
    {
     "cell_type": "code",
     "collapsed": false,
     "input": [
      "def getmaxindex(alist):\n",
      "    return max(enumerate(alist),key=lambda x: x[1])[0]"
     ],
     "language": "python",
     "metadata": {},
     "outputs": [],
     "prompt_number": 13
    },
    {
     "cell_type": "code",
     "collapsed": false,
     "input": [
      "def query(word_list,url_list):\n",
      "    netvals = mynet.getresult(getid(word_list,worddb),getid(url_list,urldb))\n",
      "    return url_list[getmaxindex(netvals)]"
     ],
     "language": "python",
     "metadata": {},
     "outputs": [],
     "prompt_number": 21
    },
    {
     "cell_type": "code",
     "collapsed": false,
     "input": [
      "query(['World','Bank'],['WorldBank','River','Earth'])"
     ],
     "language": "python",
     "metadata": {},
     "outputs": [
      {
       "output_type": "stream",
       "stream": "stdout",
       "text": [
        "[0.8241857329267491, -0.08714814123370805, 0.3067205377356036]\n"
       ]
      },
      {
       "metadata": {},
       "output_type": "pyout",
       "prompt_number": 20,
       "text": [
        "'WorldBank'"
       ]
      }
     ],
     "prompt_number": 20
    },
    {
     "cell_type": "code",
     "collapsed": false,
     "input": [],
     "language": "python",
     "metadata": {},
     "outputs": [
      {
       "metadata": {},
       "output_type": "pyout",
       "prompt_number": 15,
       "text": [
        "[0.8241857329267491, -0.08714814123370805, 0.3067205377356036]"
       ]
      }
     ],
     "prompt_number": 15
    },
    {
     "cell_type": "code",
     "collapsed": false,
     "input": [],
     "language": "python",
     "metadata": {},
     "outputs": []
    }
   ],
   "metadata": {}
  }
 ]
}