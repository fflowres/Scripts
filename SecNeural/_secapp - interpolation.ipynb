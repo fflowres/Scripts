{
 "metadata": {
  "name": "",
  "signature": "sha256:41f6b278d40432d2bda5f9409175fb3e475917838347c4aa6deb2f873e1c49fd"
 },
 "nbformat": 3,
 "nbformat_minor": 0,
 "worksheets": [
  {
   "cells": [
    {
     "cell_type": "markdown",
     "metadata": {},
     "source": [
      "from bisect import bisect_left\n",
      "\n",
      "class Interpolate(object):\n",
      "    def __init__(self, x_list, y_list):\n",
      "        if any(y - x <= 0 for x, y in zip(x_list, x_list[1:])):\n",
      "            raise ValueError(\"x_list must be in strictly ascending order!\")\n",
      "        x_list = self.x_list = map(float, x_list)\n",
      "        y_list = self.y_list = map(float, y_list)\n",
      "        intervals = zip(x_list, x_list[1:], y_list, y_list[1:])\n",
      "        self.slopes = [(y2 - y1)/(x2 - x1) for x1, x2, y1, y2 in intervals]\n",
      "\n",
      "    def __getitem__(self, x):\n",
      "        i = bisect_left(self.x_list, x) - 1\n",
      "        return self.y_list[i] + self.slopes[i] * (x - self.x_list[i])"
     ]
    },
    {
     "cell_type": "heading",
     "level": 1,
     "metadata": {},
     "source": [
      "for python 2.7"
     ]
    },
    {
     "cell_type": "code",
     "collapsed": false,
     "input": [
      "from bisect import bisect_left\n",
      "class Interpolate(object):\n",
      "    def __init__(self, x_list, y_list):\n",
      "        if any([y - x <= 0 for x, y in zip(x_list, x_list[1:])]):\n",
      "            raise ValueError(\"x_list must be in strictly ascending order!\")\n",
      "        x_list = self.x_list = map(float, x_list)\n",
      "        y_list = self.y_list = map(float, y_list)\n",
      "        intervals = zip(x_list, x_list[1:], y_list, y_list[1:])\n",
      "        self.slopes = [(y2 - y1)/(x2 - x1) for x1, x2, y1, y2 in intervals]\n",
      "    def __getitem__(self, x):\n",
      "        i = bisect_left(self.x_list, x) - 1\n",
      "        return self.y_list[i] + self.slopes[i] * (x - self.x_list[i])"
     ],
     "language": "python",
     "metadata": {},
     "outputs": [],
     "prompt_number": 1
    },
    {
     "cell_type": "code",
     "collapsed": false,
     "input": [
      "i = Interpolate([1, 2.5, 3.4, 5.8, 6], [2, 4, 5.8, 4.3, 4])\n",
      "# Get the interpolated value at x = 4:\n",
      "y = i[5]\n",
      "y"
     ],
     "language": "python",
     "metadata": {},
     "outputs": [
      {
       "metadata": {},
       "output_type": "pyout",
       "prompt_number": 8,
       "text": [
        "4.8"
       ]
      }
     ],
     "prompt_number": 8
    },
    {
     "cell_type": "code",
     "collapsed": false,
     "input": [
      "from SecApp.DBOutputClass import SecuFrame\n",
      "initDO = SecuFrame('')\n",
      "timeObjs = initDO.iffo().orderedmap().processFrameList"
     ],
     "language": "python",
     "metadata": {},
     "outputs": [
      {
       "ename": "ImportError",
       "evalue": "No module named SecApp.DBOutputClass",
       "output_type": "pyerr",
       "traceback": [
        "\u001b[1;31m---------------------------------------------------------------------------\u001b[0m\n\u001b[1;31mImportError\u001b[0m                               Traceback (most recent call last)",
        "\u001b[1;32m<ipython-input-9-6d779b523f06>\u001b[0m in \u001b[0;36m<module>\u001b[1;34m()\u001b[0m\n\u001b[1;32m----> 1\u001b[1;33m \u001b[1;32mfrom\u001b[0m \u001b[0mSecApp\u001b[0m\u001b[1;33m.\u001b[0m\u001b[0mDBOutputClass\u001b[0m \u001b[1;32mimport\u001b[0m \u001b[0mSecuFrame\u001b[0m\u001b[1;33m\u001b[0m\u001b[0m\n\u001b[0m\u001b[0;32m      2\u001b[0m \u001b[0minitDO\u001b[0m \u001b[1;33m=\u001b[0m \u001b[0mSecuFrame\u001b[0m\u001b[1;33m(\u001b[0m\u001b[1;34m''\u001b[0m\u001b[1;33m)\u001b[0m\u001b[1;33m\u001b[0m\u001b[0m\n\u001b[0;32m      3\u001b[0m \u001b[0mtimeObjs\u001b[0m \u001b[1;33m=\u001b[0m \u001b[0minitDO\u001b[0m\u001b[1;33m.\u001b[0m\u001b[0miffo\u001b[0m\u001b[1;33m(\u001b[0m\u001b[1;33m)\u001b[0m\u001b[1;33m.\u001b[0m\u001b[0morderedmap\u001b[0m\u001b[1;33m(\u001b[0m\u001b[1;33m)\u001b[0m\u001b[1;33m.\u001b[0m\u001b[0mprocessFrameList\u001b[0m\u001b[1;33m\u001b[0m\u001b[0m\n",
        "\u001b[1;31mImportError\u001b[0m: No module named SecApp.DBOutputClass"
       ]
      }
     ],
     "prompt_number": 9
    },
    {
     "cell_type": "code",
     "collapsed": false,
     "input": [],
     "language": "python",
     "metadata": {},
     "outputs": []
    }
   ],
   "metadata": {}
  }
 ]
}