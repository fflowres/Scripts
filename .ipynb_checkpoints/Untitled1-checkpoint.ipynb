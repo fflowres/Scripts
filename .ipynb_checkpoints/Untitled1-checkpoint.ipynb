{
 "metadata": {
  "name": "",
  "signature": "sha256:b9257af661e2e7e94c70dd4bdde2be53deaa98c042943d40bb228f627a455871"
 },
 "nbformat": 3,
 "nbformat_minor": 0,
 "worksheets": []
}