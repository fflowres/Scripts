{
 "metadata": {
  "name": "",
  "signature": "sha256:35d1ac9e31c589a5ab2583036de58cd03bcc043fa5ac3d2584e4aca3840713a7"
 },
 "nbformat": 3,
 "nbformat_minor": 0,
 "worksheets": [
  {
   "cells": [
    {
     "cell_type": "code",
     "collapsed": false,
     "input": [],
     "language": "python",
     "metadata": {},
     "outputs": []
    },
    {
     "cell_type": "raw",
     "metadata": {},
     "source": []
    },
    {
     "cell_type": "code",
     "collapsed": false,
     "input": [
      "class ClassA(object):\n",
      "    var1 = 0\n",
      "    var2 = 0\n",
      "    def __init__(self):\n",
      "        ClassA.var1 = 1\n",
      "        ClassA.var2 = 2\n",
      "\n",
      "\n",
      "class ClassB(object):\n",
      "    var3 = 0\n",
      "    def __init__(self):\n",
      "        ClassB.var3 = 6\n",
      "\n",
      "    def trainMeth(self):\n",
      "        return ClassA.var2 * ClassB.var3\n",
      "        \n",
      "class ClassMain(ClassA,ClassB):\n",
      "    def __init__(self):\n",
      "        print \"ok\"\n",
      "        ClassA.__init__(self)\n",
      "        ClassB.__init__(self)\n",
      "        \n",
      "        print ClassA.var1\n",
      "        print ClassA.var2\n",
      "        print ClassB.var3\n",
      "        print ClassB.trainMeth(self)\n",
      "\n",
      "object2 = ClassMain()\n"
     ],
     "language": "python",
     "metadata": {},
     "outputs": [
      {
       "output_type": "stream",
       "stream": "stdout",
       "text": [
        "ok\n",
        "1\n",
        "2\n",
        "6\n",
        "12\n"
       ]
      }
     ],
     "prompt_number": 7
    },
    {
     "cell_type": "code",
     "collapsed": false,
     "input": [
      "print sum"
     ],
     "language": "python",
     "metadata": {},
     "outputs": [
      {
       "output_type": "stream",
       "stream": "stdout",
       "text": [
        "3\n"
       ]
      }
     ],
     "prompt_number": 6
    },
    {
     "cell_type": "raw",
     "metadata": {},
     "source": []
    }
   ],
   "metadata": {}
  }
 ]
}