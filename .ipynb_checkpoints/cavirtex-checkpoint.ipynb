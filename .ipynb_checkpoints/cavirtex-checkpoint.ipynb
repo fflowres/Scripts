{
 "metadata": {
  "name": "",
  "signature": "sha256:2944514267abe1e8db703b56d85a2fdeae06d788a891e53c63495fd8d619d8a7"
 },
 "nbformat": 3,
 "nbformat_minor": 0,
 "worksheets": [
  {
   "cells": [
    {
     "cell_type": "code",
     "collapsed": false,
     "input": [
      "import urllib2\n",
      "import json\n",
      "\n",
      "#get CaVirtex ticker\n",
      "url = 'https://www.cavirtex.com/api/CAD/ticker.json'\n",
      "req = urllib2.Request(url, headers={'User-Agent' : \"Magic Browser\"}) \n",
      "response = urllib2.urlopen(req)\n",
      "data = json.load(response)   \n"
     ],
     "language": "python",
     "metadata": {},
     "outputs": [
      {
       "output_type": "stream",
       "stream": "stdout",
       "text": [
        "{'high': 658.99899, 'volume': 132.7711, 'last': 654.0, 'low': 640.22}\n"
       ]
      }
     ],
     "prompt_number": 3
    },
    {
     "cell_type": "code",
     "collapsed": false,
     "input": [],
     "language": "python",
     "metadata": {},
     "outputs": [],
     "prompt_number": 3
    },
    {
     "cell_type": "code",
     "collapsed": false,
     "input": [],
     "language": "python",
     "metadata": {},
     "outputs": []
    }
   ],
   "metadata": {}
  }
 ]
}