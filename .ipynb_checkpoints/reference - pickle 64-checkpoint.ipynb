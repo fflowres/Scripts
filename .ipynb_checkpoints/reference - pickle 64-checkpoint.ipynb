{
 "metadata": {
  "name": "",
  "signature": "sha256:94aeafd575e9452c371f23b47415eff82d94cc846cb62b5d08bf4b946c711c72"
 },
 "nbformat": 3,
 "nbformat_minor": 0,
 "worksheets": [
  {
   "cells": [
    {
     "cell_type": "code",
     "collapsed": false,
     "input": [
      "import pickle\n",
      "import base64\n",
      "a = {1:2,3:4}\n",
      "\n",
      "pickled  = pickle.dumps(a)\n",
      "encodedPickle = base64.b64encode(pickled)"
     ],
     "language": "python",
     "metadata": {},
     "outputs": [],
     "prompt_number": 3
    },
    {
     "cell_type": "code",
     "collapsed": false,
     "input": [
      "decodedPickle = base64.b64decode(encodedPickle)\n",
      "b= pickle.loads(decodedPickle)"
     ],
     "language": "python",
     "metadata": {},
     "outputs": [],
     "prompt_number": 4
    },
    {
     "cell_type": "code",
     "collapsed": false,
     "input": [
      "b"
     ],
     "language": "python",
     "metadata": {},
     "outputs": [
      {
       "metadata": {},
       "output_type": "pyout",
       "prompt_number": 5,
       "text": [
        "{1: 2, 3: 4}"
       ]
      }
     ],
     "prompt_number": 5
    },
    {
     "cell_type": "code",
     "collapsed": false,
     "input": [],
     "language": "python",
     "metadata": {},
     "outputs": []
    }
   ],
   "metadata": {}
  }
 ]
}