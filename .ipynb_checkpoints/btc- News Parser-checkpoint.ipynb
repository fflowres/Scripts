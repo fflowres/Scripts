{
 "metadata": {
  "name": "",
  "signature": "sha256:cc07709d7c9905f33f862160765266889adc91519315247179858d36189d528b"
 },
 "nbformat": 3,
 "nbformat_minor": 0,
 "worksheets": [
  {
   "cells": [
    {
     "cell_type": "code",
     "collapsed": false,
     "input": [
      "import time\n",
      "import urllib\n",
      "import urllib2\n",
      "import json\n",
      "import dateutil.parser\n",
      "import datetime as dt\n",
      "import pandas as pd\n",
      "import numpy as np\n",
      "%matplotlib inline\n",
      "import matplotlib.pyplot as plt\n",
      "\n",
      "\n",
      "from ems import em\n",
      "\n",
      "\n",
      "\n",
      "from CodernityDB.database import Database\n",
      "from CodernityDB.database import RecordNotFound\n",
      "from CodernityDB.database_thread_safe import ThreadSafeDatabase\n",
      "dbName='newsData'\n",
      "#db=Database(dbName)\n",
      "db=ThreadSafeDatabase(dbName)"
     ],
     "language": "python",
     "metadata": {},
     "outputs": [],
     "prompt_number": 2
    },
    {
     "cell_type": "code",
     "collapsed": false,
     "input": [
      "def analyseSentiment(e):\n",
      "    w=[]\n",
      "    for x in em:\n",
      "        if x in e:\n",
      "            w.append(em[x])\n",
      "    return w\n",
      "\n",
      "def scoreSentiment(text): #use this, outputs dict\n",
      "    c=text.split('.')\n",
      "    q=[]\n",
      "    for x in c:\n",
      "        q.extend(analyseSentiment(x))\n",
      "    r={}\n",
      "    for x in set(q):\n",
      "        r[x] = q.count(x)\n",
      "    return r"
     ],
     "language": "python",
     "metadata": {},
     "outputs": [],
     "prompt_number": 3
    },
    {
     "cell_type": "code",
     "collapsed": false,
     "input": [
      "def spill():\n",
      "    if(db.exists()):\n",
      "        db.open()\n",
      "        for curr in db.all('id'):\n",
      "            print curr\n",
      "        db.close()"
     ],
     "language": "python",
     "metadata": {},
     "outputs": [],
     "prompt_number": 4
    },
    {
     "cell_type": "code",
     "collapsed": false,
     "input": [
      "def getNews(date=None,key=None): #filter by\n",
      "    if(db.exists()):\n",
      "        db.open()\n",
      "        for curr in db.all('id'):\n",
      "            if curr[\"date\"]==date:\n",
      "                try:\n",
      "                    op=curr[key]\n",
      "                    break\n",
      "                except:\n",
      "                    db.close()\n",
      "                    return False\n",
      "        db.close()\n",
      "    return op"
     ],
     "language": "python",
     "metadata": {},
     "outputs": [],
     "prompt_number": 5
    },
    {
     "cell_type": "code",
     "collapsed": false,
     "input": [
      "def insert(newsSource=None,data=None,date=None,url=None,pageId=None):\n",
      "    if(db.exists() == True):\n",
      "        db.open()\n",
      "    if(db.exists() == False):\n",
      "        db.create()\n",
      "    \n",
      "    #parse to datetime with\n",
      "    #import dateutil.parser\n",
      "    #yourdate = dateutil.parser.parse(datestring)\n",
      "\n",
      "    condencedNews={}\n",
      "    \n",
      "    #incorporate data  \n",
      "    condencedNews['newsSource']=newsSource\n",
      "    condencedNews['data']=data\n",
      "    condencedNews['date']=str(date)\n",
      "    condencedNews['url']=url\n",
      "    condencedNews['pageId']=pageId\n",
      "    \n",
      "    condencedNews['sentiment'] = scoreSentiment(data)\n",
      "    \n",
      "    \n",
      "    try:\n",
      "        db.insert(condencedNews)\n",
      "    except ValueError, e:\n",
      "        print e\n",
      "        print condencedNews\n",
      "        db.close()\n",
      "    else:\n",
      "        db.close()\n"
     ],
     "language": "python",
     "metadata": {},
     "outputs": [],
     "prompt_number": 26
    },
    {
     "cell_type": "code",
     "collapsed": false,
     "input": [
      "import html5lib\n",
      "import mechanize\n",
      "from bs4 import BeautifulSoup\n",
      "from stripogram import html2text\n",
      "\n",
      "import unidecode #aproximate unicode characters\n",
      "\n",
      "\n",
      "\n",
      "### if you get 502 errors, rbotos.txt\n",
      "# sometihng with this:\n",
      "# br.set_handle_robots( False )\n",
      "\n",
      "def coindesk():\n",
      "    tagBlacklist = ['img', 'iframe']\n",
      "    \n",
      "    for pageID in xrange(0,15):\n",
      "        try:\n",
      "            req =mechanize.Request(\"http://www.coindesk.com?p=\"+str(pageID))\n",
      "            req.add_header(\"User-Agent\", \"Mozilla/5.0 (Windows; U; Windows NT 5.1; en-US; rv:1.9.2.7) Gecko/20100713 Firefox/3.6.7\")\n",
      "            req.add_header(\"Referer\", \"https://www.site.com/path\")\n",
      "            res = mechanize.urlopen(req)\n",
      "            data = res.read()\n",
      "        except:\n",
      "            print \"No Page #: \" + str(pageID)\n",
      "            continue\n",
      "        else:\n",
      "            if (res.code != 200):\n",
      "                print str(res.code) + \" error: id#\"+ str(pageID) \n",
      "                continue\n",
      "                \n",
      "            soup = BeautifulSoup(data, \"html5lib\")\n",
      "            lk_Date = soup.findAll(attrs={'class': 'single-date'})\n",
      "            lk_Url = res.geturl()\n",
      "            lk_Content = soup.findAll(attrs={'class': 'single-content'})\n",
      "            subContent=\"\"\n",
      "            for content in lk_Content:\n",
      "                subContent+=str(content)\n",
      "            clean = html2text(subContent.decode('utf-8'),ignore_tags=tagBlacklist)\n",
      "            clean.replace(\"\\n\",\"\")\n",
      "            insert('coindesk',unidecode.unidecode(clean),lk_Date,lk_Url,pageID)\n",
      "            print \"wrote page #: \" + str(pageID)"
     ],
     "language": "python",
     "metadata": {},
     "outputs": [],
     "prompt_number": 16
    },
    {
     "cell_type": "code",
     "collapsed": false,
     "input": [
      "coindesk()"
     ],
     "language": "python",
     "metadata": {},
     "outputs": [
      {
       "output_type": "stream",
       "stream": "stdout",
       "text": [
        "wrote page #: 0\n",
        "No Page #: 1"
       ]
      },
      {
       "output_type": "stream",
       "stream": "stdout",
       "text": [
        "\n",
        "wrote page #: 2"
       ]
      },
      {
       "output_type": "stream",
       "stream": "stdout",
       "text": [
        "\n",
        "No Page #: 3"
       ]
      },
      {
       "output_type": "stream",
       "stream": "stdout",
       "text": [
        "\n",
        "No Page #: 4"
       ]
      },
      {
       "output_type": "stream",
       "stream": "stdout",
       "text": [
        "\n",
        "No Page #: 5"
       ]
      },
      {
       "output_type": "stream",
       "stream": "stdout",
       "text": [
        "\n",
        "No Page #: 6"
       ]
      },
      {
       "output_type": "stream",
       "stream": "stdout",
       "text": [
        "\n",
        "No Page #: 7"
       ]
      },
      {
       "output_type": "stream",
       "stream": "stdout",
       "text": [
        "\n",
        "No Page #: 8"
       ]
      },
      {
       "output_type": "stream",
       "stream": "stdout",
       "text": [
        "\n",
        "No Page #: 9"
       ]
      },
      {
       "output_type": "stream",
       "stream": "stdout",
       "text": [
        "\n",
        "No Page #: 10"
       ]
      },
      {
       "output_type": "stream",
       "stream": "stdout",
       "text": [
        "\n",
        "No Page #: 11"
       ]
      },
      {
       "output_type": "stream",
       "stream": "stdout",
       "text": [
        "\n",
        "No Page #: 12"
       ]
      },
      {
       "output_type": "stream",
       "stream": "stdout",
       "text": [
        "\n",
        "wrote page #: 13"
       ]
      },
      {
       "output_type": "stream",
       "stream": "stdout",
       "text": [
        "\n",
        "wrote page #: 14"
       ]
      },
      {
       "output_type": "stream",
       "stream": "stdout",
       "text": [
        "\n"
       ]
      }
     ],
     "prompt_number": 27
    },
    {
     "cell_type": "code",
     "collapsed": false,
     "input": [
      "date='[<span class=\"single-date\">Published on April 13, 2013 at 08:07 BST</span>]'\n",
      "News = getNews(date,\"pageID\")\n",
      "\n",
      "\n",
      "News\n",
      "\n",
      "\n",
      "\n",
      "\n",
      "\n",
      "\n"
     ],
     "language": "python",
     "metadata": {},
     "outputs": [
      {
       "metadata": {},
       "output_type": "pyout",
       "prompt_number": 7,
       "text": [
        "False"
       ]
      }
     ],
     "prompt_number": 7
    },
    {
     "cell_type": "code",
     "collapsed": false,
     "input": [],
     "language": "python",
     "metadata": {},
     "outputs": []
    }
   ],
   "metadata": {}
  }
 ]
}