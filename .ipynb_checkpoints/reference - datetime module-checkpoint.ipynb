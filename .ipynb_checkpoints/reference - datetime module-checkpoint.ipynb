{
 "metadata": {
  "name": "",
  "signature": "sha256:ff17916b7d5bb67c7ec8d011fcff83ce6370971a13f5bd46e4c805456b78431c"
 },
 "nbformat": 3,
 "nbformat_minor": 0,
 "worksheets": [
  {
   "cells": [
    {
     "cell_type": "code",
     "collapsed": false,
     "input": [
      "import datetime"
     ],
     "language": "python",
     "metadata": {},
     "outputs": [],
     "prompt_number": 3
    },
    {
     "cell_type": "code",
     "collapsed": false,
     "input": [
      "date= datetime.datetime.now()"
     ],
     "language": "python",
     "metadata": {},
     "outputs": [],
     "prompt_number": 4
    },
    {
     "cell_type": "code",
     "collapsed": false,
     "input": [
      "dateStored = str(date)"
     ],
     "language": "python",
     "metadata": {},
     "outputs": [],
     "prompt_number": 5
    },
    {
     "cell_type": "code",
     "collapsed": false,
     "input": [
      "dateStored"
     ],
     "language": "python",
     "metadata": {},
     "outputs": [
      {
       "metadata": {},
       "output_type": "pyout",
       "prompt_number": 6,
       "text": [
        "'2014-07-21 16:35:32.559000'"
       ]
      }
     ],
     "prompt_number": 6
    },
    {
     "cell_type": "code",
     "collapsed": false,
     "input": [
      "def conf_dts_dto(dts):\n",
      "    dto=datetime.datetime.strptime(dts,\"%Y-%m-%d %H:%M:%S.%f\")\n",
      "    return dto"
     ],
     "language": "python",
     "metadata": {},
     "outputs": [],
     "prompt_number": 1
    },
    {
     "cell_type": "code",
     "collapsed": false,
     "input": [
      "date1 = conf_dts_dto(dateStored)"
     ],
     "language": "python",
     "metadata": {},
     "outputs": [],
     "prompt_number": 9
    },
    {
     "cell_type": "code",
     "collapsed": false,
     "input": [
      "date2 =date + datetime.timedelta(days=10)"
     ],
     "language": "python",
     "metadata": {},
     "outputs": [],
     "prompt_number": 10
    },
    {
     "cell_type": "code",
     "collapsed": false,
     "input": [
      "\n",
      "def conv_dt(array):\n",
      "    tmp = [dt.datetime.strptime(e, \"%Y-%m-%d %H:%M:%S\") for e in array]\n",
      "    op = matplotlib.dates.date2num(tmp)\n",
      "    return op\n",
      "\n",
      "def conv_iso(array): # to num\n",
      "    tmp = [dateutil.parser.parse(e) for e in array]\n",
      "    op = matplotlib.dates.date2num(tmp)\n",
      "    return op"
     ],
     "language": "python",
     "metadata": {},
     "outputs": []
    },
    {
     "cell_type": "code",
     "collapsed": false,
     "input": [
      "if (date1<date2):\n",
      "    print date1"
     ],
     "language": "python",
     "metadata": {},
     "outputs": [
      {
       "output_type": "stream",
       "stream": "stdout",
       "text": [
        "2014-07-21 16:35:32.559000\n"
       ]
      }
     ],
     "prompt_number": 13
    },
    {
     "cell_type": "code",
     "collapsed": false,
     "input": [
      "def getLastDate(dates):#input a list of dates\n",
      "    dates.sort(reverse=True)\n",
      "    \n",
      "    return dates[0]"
     ],
     "language": "python",
     "metadata": {},
     "outputs": []
    }
   ],
   "metadata": {}
  }
 ]
}