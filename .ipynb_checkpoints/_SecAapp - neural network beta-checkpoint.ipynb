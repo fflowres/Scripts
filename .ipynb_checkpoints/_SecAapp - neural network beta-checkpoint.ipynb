{
 "metadata": {
  "name": "",
  "signature": "sha256:06673ea04ffe861ccaa2a4d6c2b5f9d917c365a79914f80d63492619882819b0"
 },
 "nbformat": 3,
 "nbformat_minor": 0,
 "worksheets": [
  {
   "cells": [
    {
     "cell_type": "code",
     "collapsed": false,
     "input": [
      "import os\n",
      "os.remove('nn_data.db')"
     ],
     "language": "python",
     "metadata": {},
     "outputs": [],
     "prompt_number": 1
    },
    {
     "cell_type": "code",
     "collapsed": false,
     "input": [
      "import sys\n",
      "#sys.path.append('c:\\Python27\\Scripts\\Collective Intelligence algos\\searchengine','.')\n",
      "import nn\n"
     ],
     "language": "python",
     "metadata": {},
     "outputs": [],
     "prompt_number": 4
    },
    {
     "cell_type": "heading",
     "level": 3,
     "metadata": {},
     "source": [
      "Theses are the conditions i want to lok for in the phase"
     ]
    },
    {
     "cell_type": "markdown",
     "metadata": {},
     "source": [
      "\"name\": id"
     ]
    },
    {
     "cell_type": "code",
     "collapsed": false,
     "input": [
      "\n",
      "dataids = {\"dependant_data\" :900 , \"independant_data\" :901} \n",
      "#baseconditions = {\"increase\":1,\"decrease\":2,\"MA14_increase\":3,\"MA14_decrease\":4}\n",
      "baseconditions = {\"increase\":1}"
     ],
     "language": "python",
     "metadata": {},
     "outputs": [],
     "prompt_number": 1
    },
    {
     "cell_type": "heading",
     "level": 4,
     "metadata": {},
     "source": [
      "analysis settings"
     ]
    },
    {
     "cell_type": "code",
     "collapsed": false,
     "input": [
      "phasedeltas = [2,3,4,5,6,7,14,21]\n",
      "#dependant_data = [-0.90392228791308,0.36898920603741,-0.70839485202579,-0.74880650719476,0.31032644023392,1.1564974502216,0.35512921103204,0.16921298141332,-0.39409600414019,0.67113926827244,-0.48410279837612,1.5975712993079,0.58246743573029,-0.82409390102815,-0.0062233843991833,0.60522350934603,-0.096182997579999,0.1711167236187,0.077583352134606,-0.1252835478785,-1.0208951120975,0.94386170915784,-0.33151493130781,-0.055236539245519,-0.67465045250959,1.0664332736044,0.93593534764936,0.33875637872685,-0.0022695969474819,-0.010780516441651,-1.1176435437268,-0.14290112954993,-0.42784725970837,-0.11371140798553,-1.3125246825407,-0.3756473021874,0.037104107985959,0.34646083086724,-0.15768003374004,0.53491343076798,1.4477453194999,-1.0998281306511,-0.17141892553061,0.70254012103541,1.0064750522004,0.055923496599833,0.33958722933309,0.20747445889012,0.074397094709198,-0.5771727975441,0.35063899849616,-0.62099249939731,-0.8100877906177,-1.4430257864489,0.37828383734259,-0.49864096977893,-1.5804360234899,-0.41460997730515,0.33402706616806,1.330099267409,1.111257470189,0.22643765520025,0.4144955540707,1.2170125939756,0.72037992974086,-0.051697762943661,-0.0063334175118787,-0.47719105539289,0.77938164628696,1.1888344051421,0.73062218277383,0.10998258783039,0.81805620429096,0.21487081070762,0.66137783316989,-0.16525526028005,0.16745054542979,0.51590328013322,0.38716216925449,-0.069539912435435,0.49125847272395,0.68693385658605,-0.11276756054991,-0.36657148449659,-0.61848778998731,0.30073286869396,-1.1836725492166,0.36019609401687,0.86290720207356,-0.49177550826107,-1.1672867329338,0.55721695437596,0.56220476780377,0.70954545847457,2.0642856082563,-1.0557653873785,-0.68137334871829,-1.1321489199432,0.31216920951875,-0.18361339365916]\n",
      "#dependant_data = [2,3,6,5,4,7,9,7,4,1,2,3,6,5,4,7,9,7,4,1,2,3,6,5,4,7,9,7,4,1,2,3,6,5,4,7,9,7,4,1,2,3,6,5,4,7,9,7,4,1,2,3,6,5,4,7,9,7,4,1,2,3,6,5,4,7,9,7,4,1,2,3,6,5,4,7,9,7,4,1,2,3,6,5,4,7,9,7,4,1,2,3,6,5,4,7,9,7,4,1]\n",
      "\n",
      "\n",
      "\n",
      "#independant_data = [0.028276716559651,0.21819492816913,0.083104440448966,0.2972575205475,0.18433788817037,-0.15105634815473,-0.020265442260093,-0.20486124744297,0.059867696918933,-0.23170526260265,0.086304025483378,0.25363870985911,-0.54414502975314,-0.17149688196255,0.17767443081398,-0.077834230855475,-0.18428909020846,0.42669607177461,0.1760969245456,0.012079156047438,-0.20354352637402,-0.42518369721601,-0.24648212511656,0.06933540901574,-0.087054197889635,0.11989841932038,-0.19189133668778,0.28222850945494,0.099733294591626,-0.55186826166667,-0.31798989595017,-0.34330225291169,0.20697396266478,-0.15783472178131,0.047516573926274,-0.17076911147821,-0.24560854291142,0.74726383139377,0.57135992892503,0.093311739530586,-0.17991497901281,0.24653574846086,-0.17565876565503,-0.049438880748916,0.083238938592329,-0.16402908859502,0.41060801211595,-0.0087614086041091,-0.094373651883612,-0.38190578081968,0.15655394382162,-0.0219408644729,-0.14151542298705,-0.1624158143056,0.078614955648458,0.31783107555761,-0.31966552273814,-0.078800423317299,-0.16540422900497,0.058639136084629,-0.33320160859616,0.079826348341065,0.37133904235399,-0.31266106946064,-0.3019608766773,0.064886494823088,0.17755269400826,-0.52389587956814,-0.077068142066817,0.098517727492316,0.087253733209625,-0.3812219903607,0.47428241696978,-0.074002738535952,-0.23103560853134,0.060482455279257,0.31764340103974,-0.050993815915656,0.24331978894039,0.37491932963501,0.17511624349665,0.034521726788992,0.40979923677436,0.15264133352005,-0.54579862023175,0.10406671533568,-0.50802711005398,-0.06042656613758,-0.040832047633399,0.026873152141448,0.18400195107212,-0.10152679232305,-0.26443566747362,0.15520110423261,0.67268657836227,-0.069954951421682,-0.09378714295984,-0.0056599315549248,-0.64579438319644,-0.2920835736374]\n",
      "\n",
      "#independant_data = [6,9,8,7,5,4,1,2,1,2,6,9,8,7,5,4,1,2,1,2,6,9,8,7,5,4,1,2,1,2,6,9,8,7,5,4,1,2,1,2,6,9,8,7,5,4,1,2,1,2,6,9,8,7,5,4,1,2,1,2,6,9,8,7,5,4,1,2,1,2,6,9,8,7,5,4,1,2,1,2,6,9,8,7,5,4,1,2,1,2,6,9,8,7,5,4,1,2,1,2]\n"
     ],
     "language": "python",
     "metadata": {},
     "outputs": [],
     "prompt_number": 2
    },
    {
     "cell_type": "code",
     "collapsed": false,
     "input": [
      "def buildconditions(bcs,pds):\n",
      "    allcond = {}\n",
      "    for delta in pds:\n",
      "        for condkey in bcs.keys():\n",
      "            newid = int(str(bcs[condkey]) + str(delta)) #\n",
      "            allcond[condkey + str(delta)] = newid\n",
      "    return allcond\n",
      "\"\"\"\n",
      "Find All Local Maximum positions in a list of Integers.\n",
      "\n",
      "An element is a local maximum if it is larger than the two elements adjacent to it, or if it is the first or last element and larger than the one element adjacent to it.\n",
      "\n",
      "Design an algorithm to find all local maxima if they exist.\n",
      "\n",
      "Example:  for 3, 2, 4, 1 the local maxima are at indices 0 and 2.  \n",
      "\"\"\"\n",
      "\n",
      "def FindMaximalpos(numbers):\n",
      "    maximapos = []\n",
      "    length = len(numbers)\n",
      "    if length >= 2:\n",
      "        if numbers[0] > numbers[1]:\n",
      "            maximapos.append(0)\n",
      "\n",
      "       \n",
      "    if length > 3:\n",
      "        for i in range(1, length-1):     \n",
      "            if numbers[i] > numbers[i-1] and numbers[i] > numbers[i+1]:\n",
      "                maximapos.append(i)\n",
      "\n",
      "\n",
      "    if numbers[length-1] > numbers[length-2]:\n",
      "        maximapos.append(length-1)\n",
      "       \n",
      "    return maximapos\n",
      "\n",
      "\n",
      "\n",
      "\n",
      "#splitting\n",
      "\n",
      "\n",
      "\n",
      "def split_delta_all(delta,phase,data): # delta cannot be 0\n",
      "    #phase is the center\n",
      "    if (delta>phase): stpos = (delta % phase)\n",
      "    if (delta<phase): stpos = (phase % delta)\n",
      "    \n",
      "    enpos = len(data) - (stpos % len(data)) \n",
      "    chk = len(data) % delta #get remainder\n",
      "    analysis_len = len(data) - chk\n",
      "    output = {}\n",
      "    count = 0\n",
      "    countdeltas = 0\n",
      "    for ind in range(analysis_len):\n",
      "        if (ind == stpos):\n",
      "            count = delta #for first little bit\n",
      "            \n",
      "        if ( count == delta):\n",
      "            countdeltas = countdeltas + 1\n",
      "            count = 0\n",
      "        try:\n",
      "            output[countdeltas].append(data[ind])\n",
      "        except KeyError:\n",
      "            output[countdeltas] = [data[ind]]\n",
      "        count=count + 1\n",
      "    return output\n",
      "def split_delta(delta,phase,data): # delta cannot be 0\n",
      "    #phase is the center\n",
      "    \n",
      "    if (phase >=(delta *2)):\n",
      "        stpos = phase - delta *2\n",
      "    else:\n",
      "        return False\n",
      "    \n",
      "    enpos = len(data) - (stpos % len(data)) \n",
      "    chk = len(data) % delta #get remainder\n",
      "    analysis_len = len(data) - chk\n",
      "    output = {}\n",
      "    count = 0\n",
      "    countdeltas = 0\n",
      "    for ind in xrange(stpos,phase):          \n",
      "        if ( count == delta):\n",
      "            countdeltas = countdeltas + 1\n",
      "            count = 0\n",
      "        try:\n",
      "            output[countdeltas].append(data[ind])\n",
      "        except KeyError:\n",
      "            output[countdeltas] = [data[ind]]\n",
      "        count=count + 1\n",
      "    return output\n",
      "def subsectionincrease(data,ind1,ind2):\n",
      "    #using average of list\n",
      "    av1 = reduce(lambda x, y: x + y, data[ind1]) / len(data[ind1])\n",
      "    av2 = reduce(lambda x, y: x + y, data[ind2]) / len(data[ind2])\n",
      "    if (av1<av2):\n",
      "        return True\n",
      "    else:\n",
      "        return False\n",
      "\n",
      "def findincreasedsubsectionpos(data):\n",
      "    increases = []\n",
      "    for indexpointer in xrange(1,len(data)):\n",
      "        ind1= indexpointer - 1\n",
      "        ind2= indexpointer\n",
      "        if (subsectionincrease(data,ind1,ind2)):\n",
      "            increases.append(indexpointer)\n",
      "    return increases\n",
      "def sectionincrease(data):\n",
      "    #using average of list\n",
      "    av1 = reduce(lambda x, y: x + y, data[0]) / len(data[0])\n",
      "    av2 = reduce(lambda x, y: x + y, data[1]) / len(data[1])\n",
      "    if (av1<av2):\n",
      "        return True\n",
      "    else:\n",
      "        return False\n",
      "def allconditionids(deltas):\n",
      "    cond_ids = []\n",
      "    for delta in deltas:\n",
      "        cond_ids.append(allconditions['increase' + str(delta)])\n",
      "    return cond_ids\n",
      "\n",
      "def trainmaxim(dataind,datadep,deltas):\n",
      "    #delta =5 #test\n",
      "    phasepositions = FindMaximalpos(datadep)\n",
      "    for delta in deltas:\n",
      "        #print \"============= \" + str(delta) + \" =============\" \n",
      "        for phase in phasepositions:\n",
      "        \n",
      "            #ensures data is correctly centered around point of interest\n",
      "            tmpsplitind = split_delta(delta,phase,dataind)\n",
      "            if (tmpsplitind == False):\n",
      "                continue #not enought historical data\n",
      "            if(sectionincrease(tmpsplitind)):\n",
      "                # add to neural\n",
      "                #print \"coinciding independant average max at position: \" + str(phase) \n",
      "                mynet.trainquery([dataids['dependant_data'],dataids['independant_data']],allconditionids(deltas),allconditions[\"increase\"+str(delta)])\n",
      "                allconditions\n",
      "            else:\n",
      "                #print \"no max at position: \" + str(phase)\n",
      "                continue\n",
      "                \n",
      "        \n",
      "        "
     ],
     "language": "python",
     "metadata": {},
     "outputs": [],
     "prompt_number": 3
    },
    {
     "cell_type": "code",
     "collapsed": false,
     "input": [
      "dependant_subsection5 = split_delta(5,7,dependant_data) #used for pearson correlation\n",
      "independant_subsection5 = split_delta(5,3,independant_data)"
     ],
     "language": "python",
     "metadata": {},
     "outputs": [
      {
       "ename": "NameError",
       "evalue": "name 'dependant_data' is not defined",
       "output_type": "pyerr",
       "traceback": [
        "\u001b[1;31m---------------------------------------------------------------------------\u001b[0m\n\u001b[1;31mNameError\u001b[0m                                 Traceback (most recent call last)",
        "\u001b[1;32m<ipython-input-12-e40b9828aee0>\u001b[0m in \u001b[0;36m<module>\u001b[1;34m()\u001b[0m\n\u001b[1;32m----> 1\u001b[1;33m \u001b[0mdependant_subsection5\u001b[0m \u001b[1;33m=\u001b[0m \u001b[0msplit_delta\u001b[0m\u001b[1;33m(\u001b[0m\u001b[1;36m5\u001b[0m\u001b[1;33m,\u001b[0m\u001b[1;36m7\u001b[0m\u001b[1;33m,\u001b[0m\u001b[0mdependant_data\u001b[0m\u001b[1;33m)\u001b[0m \u001b[1;31m#used for pearson correlation\u001b[0m\u001b[1;33m\u001b[0m\u001b[0m\n\u001b[0m\u001b[0;32m      2\u001b[0m \u001b[0mindependant_subsection5\u001b[0m \u001b[1;33m=\u001b[0m \u001b[0msplit_delta\u001b[0m\u001b[1;33m(\u001b[0m\u001b[1;36m5\u001b[0m\u001b[1;33m,\u001b[0m\u001b[1;36m3\u001b[0m\u001b[1;33m,\u001b[0m\u001b[0mindependant_data\u001b[0m\u001b[1;33m)\u001b[0m\u001b[1;33m\u001b[0m\u001b[0m\n",
        "\u001b[1;31mNameError\u001b[0m: name 'dependant_data' is not defined"
       ]
      }
     ],
     "prompt_number": 12
    },
    {
     "cell_type": "code",
     "collapsed": false,
     "input": [
      "allconditions = buildconditions(baseconditions,phasedeltas)\n"
     ],
     "language": "python",
     "metadata": {},
     "outputs": [],
     "prompt_number": 8
    },
    {
     "cell_type": "markdown",
     "metadata": {},
     "source": [
      "def FindMaxima(numbers):\n",
      "  maxima = []\n",
      "  length = len(numbers)\n",
      "  if length >= 2:\n",
      "    if numbers[0] > numbers[1]:\n",
      "      maxima.append(numbers[0])\n",
      "       \n",
      "    if length > 3:\n",
      "      for i in range(1, length-1):     \n",
      "        if numbers[i] > numbers[i-1] and numbers[i] > numbers[i+1]:\n",
      "          maxima.append(numbers[i])\n",
      "\n",
      "    if numbers[length-1] > numbers[length-2]:    \n",
      "      maxima.append(numbers[length-1])        \n",
      "  return maxima\n",
      "   \n",
      "   \n",
      "numbers = [3,2,4,1,7]\n",
      "print FindMaxima(numbers)"
     ]
    },
    {
     "cell_type": "heading",
     "level": 1,
     "metadata": {},
     "source": [
      "INIT DB SQLite NEURAL NETWORK"
     ]
    },
    {
     "cell_type": "code",
     "collapsed": false,
     "input": [
      "from SecNeural import nn\n",
      "\n",
      "\n",
      "mynet = nn.searchnet('nn_data.db')\n",
      "mynet.maketables()\n",
      "\n",
      "allconditions = buildconditions(baseconditions,phasedeltas)\n",
      "mynet.generatehiddennode([dataids['dependant_data'],dataids['independant_data']],allconditionids(phasedeltas))"
     ],
     "language": "python",
     "metadata": {},
     "outputs": [],
     "prompt_number": 4
    },
    {
     "cell_type": "code",
     "collapsed": false,
     "input": [
      "\n",
      "\n"
     ],
     "language": "python",
     "metadata": {},
     "outputs": [],
     "prompt_number": 14
    },
    {
     "cell_type": "code",
     "collapsed": false,
     "input": [],
     "language": "python",
     "metadata": {},
     "outputs": []
    },
    {
     "cell_type": "heading",
     "level": 1,
     "metadata": {},
     "source": [
      "CONNECT NoSQL ENGINE"
     ]
    },
    {
     "cell_type": "heading",
     "level": 4,
     "metadata": {},
     "source": [
      "Get data"
     ]
    },
    {
     "cell_type": "code",
     "collapsed": false,
     "input": [
      "\n",
      "\n",
      "def getimportantdata(data,questions):\n",
      "    independants = []\n",
      "    independant_data = []\n",
      "    dependants = []\n",
      "    dependant_data = []\n",
      "    for question in questions.keys():\n",
      "        if (questions[question]['dependancy'] == 'True'):\n",
      "            dependants.append(question)\n",
      "        if (questions[question]['dependancy'] == 'False'):\n",
      "            independants.append(question)\n",
      "        #else:\n",
      "        #print \"question has improper formatting for algo recognition'\n",
      "            \n",
      "            \n",
      "    for key in data.keys():\n",
      "        for question in dependants:\n",
      "            try:\n",
      "                dependant_data.append(data[key][question])\n",
      "            except:\n",
      "                dependant_data.append(NaN) #not a number\n",
      "                \n",
      "        for question in independants:\n",
      "            try:\n",
      "                independant_data.append(data[key][question])\n",
      "            except:\n",
      "                independant_data.append(NaN) #not a number\n",
      "    return independant_data,dependant_data\n",
      "\n",
      "\n",
      "\n",
      "\n",
      "\n",
      "question_set = {'dependant_question':{'dependancy':'True','active':'True','typ':'slider','range':'0-100','aggregate':'False', 'multipoint':'True'},'independant_question':{'dependancy':'False','active':'True','typ':'slider','range':'0-100','aggregate':'False', 'multipoint':'True'}}\n",
      "\n",
      "from SecApp.DBOutputClass import SecuFrame\n",
      "initDO = SecuFrame('')\n",
      "fulldataset = initDO.iffo().dbdatemapped\n",
      "\n",
      "ind_data , dep_data = getimportantdata(fulldataset,question_set)"
     ],
     "language": "python",
     "metadata": {},
     "outputs": [
      {
       "ename": "ImportError",
       "evalue": "No module named SecApp.DBOutputClass",
       "output_type": "pyerr",
       "traceback": [
        "\u001b[1;31m---------------------------------------------------------------------------\u001b[0m\n\u001b[1;31mImportError\u001b[0m                               Traceback (most recent call last)",
        "\u001b[1;32m<ipython-input-7-92c016dc1a67>\u001b[0m in \u001b[0;36m<module>\u001b[1;34m()\u001b[0m\n\u001b[0;32m     35\u001b[0m \u001b[0mquestion_set\u001b[0m \u001b[1;33m=\u001b[0m \u001b[1;33m{\u001b[0m\u001b[1;34m'dependant_question'\u001b[0m\u001b[1;33m:\u001b[0m\u001b[1;33m{\u001b[0m\u001b[1;34m'dependancy'\u001b[0m\u001b[1;33m:\u001b[0m\u001b[1;34m'True'\u001b[0m\u001b[1;33m,\u001b[0m\u001b[1;34m'active'\u001b[0m\u001b[1;33m:\u001b[0m\u001b[1;34m'True'\u001b[0m\u001b[1;33m,\u001b[0m\u001b[1;34m'typ'\u001b[0m\u001b[1;33m:\u001b[0m\u001b[1;34m'slider'\u001b[0m\u001b[1;33m,\u001b[0m\u001b[1;34m'range'\u001b[0m\u001b[1;33m:\u001b[0m\u001b[1;34m'0-100'\u001b[0m\u001b[1;33m,\u001b[0m\u001b[1;34m'aggregate'\u001b[0m\u001b[1;33m:\u001b[0m\u001b[1;34m'False'\u001b[0m\u001b[1;33m,\u001b[0m \u001b[1;34m'multipoint'\u001b[0m\u001b[1;33m:\u001b[0m\u001b[1;34m'True'\u001b[0m\u001b[1;33m}\u001b[0m\u001b[1;33m,\u001b[0m\u001b[1;34m'independant_question'\u001b[0m\u001b[1;33m:\u001b[0m\u001b[1;33m{\u001b[0m\u001b[1;34m'dependancy'\u001b[0m\u001b[1;33m:\u001b[0m\u001b[1;34m'False'\u001b[0m\u001b[1;33m,\u001b[0m\u001b[1;34m'active'\u001b[0m\u001b[1;33m:\u001b[0m\u001b[1;34m'True'\u001b[0m\u001b[1;33m,\u001b[0m\u001b[1;34m'typ'\u001b[0m\u001b[1;33m:\u001b[0m\u001b[1;34m'slider'\u001b[0m\u001b[1;33m,\u001b[0m\u001b[1;34m'range'\u001b[0m\u001b[1;33m:\u001b[0m\u001b[1;34m'0-100'\u001b[0m\u001b[1;33m,\u001b[0m\u001b[1;34m'aggregate'\u001b[0m\u001b[1;33m:\u001b[0m\u001b[1;34m'False'\u001b[0m\u001b[1;33m,\u001b[0m \u001b[1;34m'multipoint'\u001b[0m\u001b[1;33m:\u001b[0m\u001b[1;34m'True'\u001b[0m\u001b[1;33m}\u001b[0m\u001b[1;33m}\u001b[0m\u001b[1;33m\u001b[0m\u001b[0m\n\u001b[0;32m     36\u001b[0m \u001b[1;33m\u001b[0m\u001b[0m\n\u001b[1;32m---> 37\u001b[1;33m \u001b[1;32mfrom\u001b[0m \u001b[0mSecApp\u001b[0m\u001b[1;33m.\u001b[0m\u001b[0mDBOutputClass\u001b[0m \u001b[1;32mimport\u001b[0m \u001b[0mSecuFrame\u001b[0m\u001b[1;33m\u001b[0m\u001b[0m\n\u001b[0m\u001b[0;32m     38\u001b[0m \u001b[0minitDO\u001b[0m \u001b[1;33m=\u001b[0m \u001b[0mSecuFrame\u001b[0m\u001b[1;33m(\u001b[0m\u001b[1;34m''\u001b[0m\u001b[1;33m)\u001b[0m\u001b[1;33m\u001b[0m\u001b[0m\n\u001b[0;32m     39\u001b[0m \u001b[0mfulldataset\u001b[0m \u001b[1;33m=\u001b[0m \u001b[0minitDO\u001b[0m\u001b[1;33m.\u001b[0m\u001b[0miffo\u001b[0m\u001b[1;33m(\u001b[0m\u001b[1;33m)\u001b[0m\u001b[1;33m.\u001b[0m\u001b[0mdbdatemapped\u001b[0m\u001b[1;33m\u001b[0m\u001b[0m\n",
        "\u001b[1;31mImportError\u001b[0m: No module named SecApp.DBOutputClass"
       ]
      }
     ],
     "prompt_number": 7
    },
    {
     "cell_type": "code",
     "collapsed": false,
     "input": [
      "#mynet.trainquery([datanames dependant / independant],conditions,condition met)\n"
     ],
     "language": "python",
     "metadata": {},
     "outputs": []
    },
    {
     "cell_type": "heading",
     "level": 1,
     "metadata": {},
     "source": [
      "TRAIN NEURAL NETWORK"
     ]
    },
    {
     "cell_type": "code",
     "collapsed": false,
     "input": [
      "trainmaxim(ind_data , dep_data,phasedeltas)"
     ],
     "language": "python",
     "metadata": {},
     "outputs": []
    },
    {
     "cell_type": "code",
     "collapsed": false,
     "input": [
      "#get\n",
      "#most elegible condition = mynet.getresult([datanames dependant / independant],allconditionids(phasedeltas))"
     ],
     "language": "python",
     "metadata": {},
     "outputs": []
    },
    {
     "cell_type": "code",
     "collapsed": false,
     "input": [
      "allconditions"
     ],
     "language": "python",
     "metadata": {},
     "outputs": [
      {
       "metadata": {},
       "output_type": "pyout",
       "prompt_number": 15,
       "text": [
        "{'increase14': 114,\n",
        " 'increase2': 12,\n",
        " 'increase21': 121,\n",
        " 'increase3': 13,\n",
        " 'increase4': 14,\n",
        " 'increase5': 15,\n",
        " 'increase6': 16,\n",
        " 'increase7': 17}"
       ]
      }
     ],
     "prompt_number": 15
    },
    {
     "cell_type": "code",
     "collapsed": false,
     "input": [
      "results = mynet.getresult([dataids['dependant_data'],dataids['independant_data']],allconditionids(phasedeltas))"
     ],
     "language": "python",
     "metadata": {},
     "outputs": [],
     "prompt_number": 16
    },
    {
     "cell_type": "code",
     "collapsed": false,
     "input": [
      "conditionids = allconditionids(phasedeltas)"
     ],
     "language": "python",
     "metadata": {},
     "outputs": [],
     "prompt_number": 17
    },
    {
     "cell_type": "code",
     "collapsed": false,
     "input": [
      "def translate():\n",
      "    out = {}\n",
      "    for i in range(len(conditionids)):\n",
      "        for cond in allconditions.keys():\n",
      "            if (allconditions[cond] == conditionids[i]):\n",
      "                out[cond]=results[i]\n",
      "    return out\n",
      "translate()\n",
      "            \n",
      "    "
     ],
     "language": "python",
     "metadata": {},
     "outputs": [
      {
       "metadata": {},
       "output_type": "pyout",
       "prompt_number": 18,
       "text": [
        "{'increase14': 6.939764724638522e-07,\n",
        " 'increase2': 6.939764724638522e-07,\n",
        " 'increase21': 6.939764724638522e-07,\n",
        " 'increase3': 1.387952944927036e-06,\n",
        " 'increase4': 0.0024386284901206185,\n",
        " 'increase5': 0.024412710615994294,\n",
        " 'increase6': 0.24680708699577011,\n",
        " 'increase7': 0.7244459385032678}"
       ]
      }
     ],
     "prompt_number": 18
    },
    {
     "cell_type": "code",
     "collapsed": false,
     "input": [
      "{'increase14': 6.939764724638522e-07,\n",
      " 'increase2': 6.939764724638522e-07,\n",
      " 'increase21': 6.939764724638522e-07,\n",
      " 'increase3': 1.387952944927036e-06,\n",
      " 'increase4': 0.0024386284901206185,\n",
      " 'increase5': 0.024412710615994294,\n",
      " 'increase6': 0.24680708699577011,\n",
      " 'increase7': 0.7244459385032678}"
     ],
     "language": "python",
     "metadata": {},
     "outputs": []
    }
   ],
   "metadata": {}
  }
 ]
}