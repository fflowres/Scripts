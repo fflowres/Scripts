{
 "metadata": {
  "name": "",
  "signature": "sha256:0fdb59949f85ac741043e4fb278f522ce1a1363aedab45064104d63d6fdd36ea"
 },
 "nbformat": 3,
 "nbformat_minor": 0,
 "worksheets": [
  {
   "cells": [
    {
     "cell_type": "code",
     "collapsed": false,
     "input": [
      "class NeuroOutput(object):\n",
      "    def __init__(self):\n",
      "        NeuroOutput.RawTrainerOutput = None\n",
      "        NeuroOutput.process_points = []\n",
      "        NeuroOutput.process_datasets = []\n",
      "        NeuroOutput.process_conditions = []\n",
      "        \n",
      "    def basic_get_top(self):\n",
      "        self.outputConditionID = NeuroResolve.byConditionIDs[0]  # the very first in the ordered array\n",
      "        \n",
      "        self.outputConditionConfiguration = NeuroBasicConditions.conditionsConfig[NeuroBasicConditions.idLookupCondtion[self.outputConditionID]]\n",
      "       \n",
      "        NeuroOutput.process_datasets.append(self.outputConditionConfiguration['analyze'])\n",
      "        \n",
      "        NeuroOutput.process_conditions.append(self.outputConditionConfiguration['ID'])\n",
      "        \n",
      "        NeuroOutput.process_points.append(NeuroResolve.queryID)\n",
      "        \n",
      "        NeuroTrainer.getResult = True # set to get appended output\n",
      "        NeuroTrainer.methodBasicTrain() #appends and writes to NeuroOutput.RawTrainerOutput\n",
      "        NeuroTrainer.getResult = False # reset to train mode\n",
      "        \n",
      "        \n",
      "        \n",
      "        \n",
      "        print (NeuroOutput.RawTrainerOutput) #x-coords unordered\n",
      "        \n",
      "        return self\n",
      "        \n",
      "        \n",
      "        "
     ],
     "language": "python",
     "metadata": {},
     "outputs": []
    },
    {
     "cell_type": "code",
     "collapsed": false,
     "input": [
      "def output_neural_net(self):\n",
      "    self.methodBasicTrain()"
     ],
     "language": "python",
     "metadata": {},
     "outputs": []
    },
    {
     "cell_type": "code",
     "collapsed": false,
     "input": [],
     "language": "python",
     "metadata": {},
     "outputs": []
    },
    {
     "cell_type": "code",
     "collapsed": false,
     "input": [
      "class NeuroResolve(object):\n",
      "    def __init__(self):\n",
      "        NeuroResolve.rawresults = []\n",
      "        \n",
      "        NeuroResolve.pairedResults = {}\n",
      "        \n",
      "        NeuroResolve.byConditionIDs = []\n",
      "        NeuroResolve.byConditionNames = []\n",
      "        \n",
      "        self.basicResolver()\n",
      "        \n",
      "    def basicResolver(self):\n",
      "        self.getNeuralData()\n",
      "        self.resultpairid()\n",
      "        self.orderresults()\n",
      "        self.assignFullConditionName()\n",
      "        return self\n",
      "        \n",
      "    def getNeuralData(self): # get\n",
      "        \n",
      "        # will probably need to iterate this once we have more data\n",
      "        NeuroResolve.rawresults = NeuroTrainer.mynet.getresult(NeuroBasicConditions.allPointSelectionIds,NeuroBasicConditions.allConditionIds)\n",
      "        return self\n",
      "    \n",
      "    def resultpairid(self): # pair respective to id\n",
      "        NeuroResolve.pairedResults = {}\n",
      "        for i in range(len(NeuroResolve.rawresults)):\n",
      "            NeuroResolve.pairedResults[NeuroBasicConditions.allConditionIds[i]] = NeuroResolve.rawresults[i]\n",
      "        return self\n",
      "    \n",
      "    def orderresults(self): # order by value return Condition ID list\n",
      "        #list\n",
      "        NeuroResolve.byConditionIDs = sorted(NeuroResolve.pairedResults, key=NeuroResolve.pairedResults.get, reverse=True)\n",
      "        return self\n",
      "    \n",
      "    def assignFullConditionName(self):   # ordered by value return Condition Name list\n",
      "        for _id in NeuroResolve.byConditionIDs:\n",
      "            NeuroResolve.byConditionNames.append(NeuroBasicConditions.idLookupCondtion[_id])\n",
      "        return self\n",
      "        \n",
      "\n",
      "    "
     ],
     "language": "python",
     "metadata": {},
     "outputs": []
    }
   ],
   "metadata": {}
  }
 ]
}