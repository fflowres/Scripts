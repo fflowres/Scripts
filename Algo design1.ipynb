{
 "metadata": {
  "name": "",
  "signature": "sha256:57260fe2271eb9d7979850c0bb31ee529fd7cdff0798745da67631bfc43d7594"
 },
 "nbformat": 3,
 "nbformat_minor": 0,
 "worksheets": [
  {
   "cells": [
    {
     "cell_type": "code",
     "collapsed": false,
     "input": [
      "import CodernityDB\n",
      "import pandas\n"
     ],
     "language": "python",
     "metadata": {},
     "outputs": [
      {
       "output_type": "stream",
       "stream": "stderr",
       "text": [
        "C:\\Python27\\lib\\site-packages\\pandas\\io\\excel.py:626: UserWarning: Installed openpyxl is not supported at this time. Use >=1.6.1 and <2.0.0.\n",
        "  .format(openpyxl_compat.start_ver, openpyxl_compat.stop_ver))\n"
       ]
      }
     ],
     "prompt_number": 1
    },
    {
     "cell_type": "code",
     "collapsed": false,
     "input": [
      "import sys\n",
      "sys.path.append('Z:\\_ProjectFolder\\development\\pandasDatabase test\\pythonHome\\system')\n",
      "from dbHandle import *\n",
      "sys.path.append('Z:\\_ProjectFolder\\development\\pandasDatabase test\\pythonHome\\system')\n",
      "from configHandle import *\n",
      "sys.path.append('Z:\\_ProjectFolder\\development\\pandasDatabase test\\pythonHome\\system')\n",
      "from indexHandle import *"
     ],
     "language": "python",
     "metadata": {},
     "outputs": [],
     "prompt_number": 2
    },
    {
     "cell_type": "code",
     "collapsed": false,
     "input": [
      "createConfig()\n",
      "passkey=\"\"\n",
      "dbName=\"testDB\"\n",
      "createDB(passkey,dbName)"
     ],
     "language": "python",
     "metadata": {},
     "outputs": [
      {
       "metadata": {},
       "output_type": "pyout",
       "prompt_number": 8,
       "text": [
        "True"
       ]
      }
     ],
     "prompt_number": 8
    },
    {
     "cell_type": "code",
     "collapsed": false,
     "input": [
      "randomListX=random.sample(range(100), 100)\n",
      "randomListY=random.sample(range(100), 100)\n",
      "zip(randomListX,randomListY)"
     ],
     "language": "python",
     "metadata": {},
     "outputs": [
      {
       "metadata": {},
       "output_type": "pyout",
       "prompt_number": 19,
       "text": [
        "[(58, 45),\n",
        " (83, 4),\n",
        " (90, 20),\n",
        " (31, 70),\n",
        " (91, 67),\n",
        " (61, 42),\n",
        " (79, 71),\n",
        " (16, 33),\n",
        " (28, 29),\n",
        " (30, 31),\n",
        " (84, 73),\n",
        " (21, 3),\n",
        " (54, 52),\n",
        " (93, 38),\n",
        " (55, 74),\n",
        " (80, 82),\n",
        " (9, 30),\n",
        " (46, 2),\n",
        " (23, 47),\n",
        " (57, 6),\n",
        " (78, 65),\n",
        " (69, 41),\n",
        " (70, 95),\n",
        " (88, 40),\n",
        " (29, 54),\n",
        " (65, 56),\n",
        " (24, 26),\n",
        " (53, 28),\n",
        " (17, 7),\n",
        " (67, 98),\n",
        " (25, 90),\n",
        " (36, 68),\n",
        " (59, 63),\n",
        " (12, 55),\n",
        " (45, 25),\n",
        " (11, 46),\n",
        " (49, 39),\n",
        " (34, 80),\n",
        " (3, 5),\n",
        " (51, 59),\n",
        " (15, 57),\n",
        " (19, 62),\n",
        " (7, 12),\n",
        " (56, 19),\n",
        " (26, 66),\n",
        " (14, 1),\n",
        " (38, 53),\n",
        " (71, 85),\n",
        " (66, 72),\n",
        " (10, 15),\n",
        " (99, 69),\n",
        " (75, 84),\n",
        " (76, 18),\n",
        " (92, 23),\n",
        " (13, 35),\n",
        " (2, 79),\n",
        " (47, 43),\n",
        " (43, 9),\n",
        " (98, 16),\n",
        " (1, 75),\n",
        " (86, 87),\n",
        " (62, 77),\n",
        " (33, 11),\n",
        " (82, 50),\n",
        " (96, 88),\n",
        " (41, 86),\n",
        " (27, 34),\n",
        " (18, 0),\n",
        " (74, 22),\n",
        " (60, 99),\n",
        " (44, 13),\n",
        " (77, 93),\n",
        " (4, 60),\n",
        " (81, 76),\n",
        " (73, 37),\n",
        " (68, 92),\n",
        " (8, 94),\n",
        " (40, 61),\n",
        " (0, 97),\n",
        " (39, 89),\n",
        " (63, 8),\n",
        " (48, 24),\n",
        " (52, 96),\n",
        " (37, 91),\n",
        " (95, 14),\n",
        " (35, 44),\n",
        " (89, 51),\n",
        " (6, 48),\n",
        " (42, 17),\n",
        " (50, 36),\n",
        " (20, 64),\n",
        " (87, 27),\n",
        " (97, 10),\n",
        " (94, 83),\n",
        " (32, 32),\n",
        " (22, 49),\n",
        " (72, 78),\n",
        " (5, 58),\n",
        " (64, 21),\n",
        " (85, 81)]"
       ]
      }
     ],
     "prompt_number": 19
    },
    {
     "cell_type": "code",
     "collapsed": false,
     "input": [
      "passkey=\"\"\n",
      "import time\n",
      "import random\n",
      "randomListX=random.sample(range(100), 100)\n",
      "randomListY=random.sample(range(100), 100)\n",
      "for x,y in zip(randomListX,randomListY):\n",
      "    jsonIN= str({\"a\":x,\"b\":y})\n",
      "    questionDataIN(passkey,jsonIN)\n",
      "    time.sleep(1)\n"
     ],
     "language": "python",
     "metadata": {},
     "outputs": [
      {
       "output_type": "stream",
       "stream": "stdout",
       "text": [
        "noKI\n",
        "noKI\n",
        "noKI\n",
        "noKI"
       ]
      },
      {
       "output_type": "stream",
       "stream": "stdout",
       "text": [
        "\n",
        "noKI\n",
        "noKI\n",
        "noKI"
       ]
      },
      {
       "output_type": "stream",
       "stream": "stdout",
       "text": [
        "\n",
        "noKI\n",
        "noKI\n",
        "noKI"
       ]
      },
      {
       "output_type": "stream",
       "stream": "stdout",
       "text": [
        "\n",
        "noKI\n",
        "noKI\n",
        "noKI"
       ]
      },
      {
       "output_type": "stream",
       "stream": "stdout",
       "text": [
        "\n",
        "noKI\n",
        "noKI\n",
        "noKI"
       ]
      },
      {
       "output_type": "stream",
       "stream": "stdout",
       "text": [
        "\n",
        "noKI\n",
        "noKI\n",
        "noKI"
       ]
      },
      {
       "output_type": "stream",
       "stream": "stdout",
       "text": [
        "\n",
        "noKI\n",
        "noKI\n",
        "noKI"
       ]
      },
      {
       "output_type": "stream",
       "stream": "stdout",
       "text": [
        "\n",
        "noKI\n",
        "noKI\n",
        "noKI"
       ]
      },
      {
       "output_type": "stream",
       "stream": "stdout",
       "text": [
        "\n",
        "noKI\n",
        "noKI\n",
        "noKI"
       ]
      },
      {
       "output_type": "stream",
       "stream": "stdout",
       "text": [
        "\n",
        "noKI\n",
        "noKI\n",
        "noKI"
       ]
      },
      {
       "output_type": "stream",
       "stream": "stdout",
       "text": [
        "\n",
        "noKI\n",
        "noKI\n",
        "noKI"
       ]
      },
      {
       "output_type": "stream",
       "stream": "stdout",
       "text": [
        "\n",
        "noKI\n",
        "noKI\n",
        "noKI"
       ]
      },
      {
       "output_type": "stream",
       "stream": "stdout",
       "text": [
        "\n",
        "noKI\n",
        "noKI\n",
        "noKI"
       ]
      },
      {
       "output_type": "stream",
       "stream": "stdout",
       "text": [
        "\n",
        "noKI\n",
        "noKI\n",
        "noKI"
       ]
      },
      {
       "output_type": "stream",
       "stream": "stdout",
       "text": [
        "\n",
        "noKI\n",
        "noKI\n",
        "noKI"
       ]
      },
      {
       "output_type": "stream",
       "stream": "stdout",
       "text": [
        "\n",
        "noKI\n",
        "noKI\n",
        "noKI"
       ]
      },
      {
       "output_type": "stream",
       "stream": "stdout",
       "text": [
        "\n",
        "noKI\n",
        "noKI\n",
        "noKI"
       ]
      },
      {
       "output_type": "stream",
       "stream": "stdout",
       "text": [
        "\n",
        "noKI\n",
        "noKI\n",
        "noKI"
       ]
      },
      {
       "output_type": "stream",
       "stream": "stdout",
       "text": [
        "\n",
        "noKI\n",
        "noKI\n",
        "noKI"
       ]
      },
      {
       "output_type": "stream",
       "stream": "stdout",
       "text": [
        "\n",
        "noKI\n",
        "noKI\n",
        "noKI"
       ]
      },
      {
       "output_type": "stream",
       "stream": "stdout",
       "text": [
        "\n",
        "noKI\n",
        "noKI\n",
        "noKI"
       ]
      },
      {
       "output_type": "stream",
       "stream": "stdout",
       "text": [
        "\n",
        "noKI\n",
        "noKI\n",
        "noKI"
       ]
      },
      {
       "output_type": "stream",
       "stream": "stdout",
       "text": [
        "\n",
        "noKI\n",
        "noKI\n",
        "noKI"
       ]
      },
      {
       "output_type": "stream",
       "stream": "stdout",
       "text": [
        "\n",
        "noKI\n",
        "noKI\n",
        "noKI"
       ]
      },
      {
       "output_type": "stream",
       "stream": "stdout",
       "text": [
        "\n",
        "noKI\n",
        "noKI\n",
        "noKI"
       ]
      },
      {
       "output_type": "stream",
       "stream": "stdout",
       "text": [
        "\n",
        "noKI\n",
        "noKI\n",
        "noKI"
       ]
      },
      {
       "output_type": "stream",
       "stream": "stdout",
       "text": [
        "\n",
        "noKI\n",
        "noKI\n",
        "noKI"
       ]
      },
      {
       "output_type": "stream",
       "stream": "stdout",
       "text": [
        "\n",
        "noKI\n",
        "noKI\n",
        "noKI"
       ]
      },
      {
       "output_type": "stream",
       "stream": "stdout",
       "text": [
        "\n",
        "noKI\n",
        "noKI\n",
        "noKI"
       ]
      },
      {
       "output_type": "stream",
       "stream": "stdout",
       "text": [
        "\n",
        "noKI\n",
        "noKI\n",
        "noKI"
       ]
      },
      {
       "output_type": "stream",
       "stream": "stdout",
       "text": [
        "\n",
        "noKI\n",
        "noKI\n",
        "noKI"
       ]
      },
      {
       "output_type": "stream",
       "stream": "stdout",
       "text": [
        "\n",
        "noKI\n",
        "noKI\n",
        "noKI"
       ]
      },
      {
       "output_type": "stream",
       "stream": "stdout",
       "text": [
        "\n",
        "noKI\n",
        "noKI\n",
        "noKI"
       ]
      },
      {
       "output_type": "stream",
       "stream": "stdout",
       "text": [
        "\n",
        "noKI\n",
        "noKI\n",
        "noKI"
       ]
      },
      {
       "output_type": "stream",
       "stream": "stdout",
       "text": [
        "\n",
        "noKI\n",
        "noKI\n",
        "noKI"
       ]
      },
      {
       "output_type": "stream",
       "stream": "stdout",
       "text": [
        "\n",
        "noKI\n",
        "noKI\n",
        "noKI"
       ]
      },
      {
       "output_type": "stream",
       "stream": "stdout",
       "text": [
        "\n",
        "noKI\n",
        "noKI\n",
        "noKI"
       ]
      },
      {
       "output_type": "stream",
       "stream": "stdout",
       "text": [
        "\n",
        "noKI\n",
        "noKI\n",
        "noKI"
       ]
      },
      {
       "output_type": "stream",
       "stream": "stdout",
       "text": [
        "\n",
        "noKI\n",
        "noKI\n",
        "noKI"
       ]
      },
      {
       "output_type": "stream",
       "stream": "stdout",
       "text": [
        "\n",
        "noKI\n",
        "noKI\n",
        "noKI"
       ]
      },
      {
       "output_type": "stream",
       "stream": "stdout",
       "text": [
        "\n",
        "noKI\n",
        "noKI\n",
        "noKI"
       ]
      },
      {
       "output_type": "stream",
       "stream": "stdout",
       "text": [
        "\n",
        "noKI\n",
        "noKI\n",
        "noKI"
       ]
      },
      {
       "output_type": "stream",
       "stream": "stdout",
       "text": [
        "\n",
        "noKI\n",
        "noKI\n",
        "noKI"
       ]
      },
      {
       "output_type": "stream",
       "stream": "stdout",
       "text": [
        "\n",
        "noKI\n",
        "noKI\n",
        "noKI"
       ]
      },
      {
       "output_type": "stream",
       "stream": "stdout",
       "text": [
        "\n",
        "noKI\n",
        "noKI\n",
        "noKI"
       ]
      },
      {
       "output_type": "stream",
       "stream": "stdout",
       "text": [
        "\n",
        "noKI\n",
        "noKI\n",
        "noKI"
       ]
      },
      {
       "output_type": "stream",
       "stream": "stdout",
       "text": [
        "\n",
        "noKI\n",
        "noKI\n",
        "noKI"
       ]
      },
      {
       "output_type": "stream",
       "stream": "stdout",
       "text": [
        "\n",
        "noKI\n",
        "noKI\n",
        "noKI"
       ]
      },
      {
       "output_type": "stream",
       "stream": "stdout",
       "text": [
        "\n",
        "noKI\n",
        "noKI\n",
        "noKI"
       ]
      },
      {
       "output_type": "stream",
       "stream": "stdout",
       "text": [
        "\n",
        "noKI\n",
        "noKI\n",
        "noKI"
       ]
      },
      {
       "output_type": "stream",
       "stream": "stdout",
       "text": [
        "\n",
        "noKI\n",
        "noKI\n",
        "noKI"
       ]
      },
      {
       "output_type": "stream",
       "stream": "stdout",
       "text": [
        "\n",
        "noKI\n",
        "noKI\n",
        "noKI"
       ]
      },
      {
       "output_type": "stream",
       "stream": "stdout",
       "text": [
        "\n",
        "noKI\n",
        "noKI\n",
        "noKI"
       ]
      },
      {
       "output_type": "stream",
       "stream": "stdout",
       "text": [
        "\n",
        "noKI\n",
        "noKI\n",
        "noKI"
       ]
      },
      {
       "output_type": "stream",
       "stream": "stdout",
       "text": [
        "\n",
        "noKI\n",
        "noKI\n",
        "noKI"
       ]
      },
      {
       "output_type": "stream",
       "stream": "stdout",
       "text": [
        "\n",
        "noKI\n",
        "noKI\n",
        "noKI"
       ]
      },
      {
       "output_type": "stream",
       "stream": "stdout",
       "text": [
        "\n",
        "noKI\n",
        "noKI\n",
        "noKI"
       ]
      },
      {
       "output_type": "stream",
       "stream": "stdout",
       "text": [
        "\n",
        "noKI\n",
        "noKI\n",
        "noKI"
       ]
      },
      {
       "output_type": "stream",
       "stream": "stdout",
       "text": [
        "\n",
        "noKI\n",
        "noKI\n",
        "noKI"
       ]
      },
      {
       "output_type": "stream",
       "stream": "stdout",
       "text": [
        "\n",
        "noKI\n",
        "noKI\n",
        "noKI"
       ]
      },
      {
       "output_type": "stream",
       "stream": "stdout",
       "text": [
        "\n",
        "noKI\n",
        "noKI\n",
        "noKI"
       ]
      },
      {
       "output_type": "stream",
       "stream": "stdout",
       "text": [
        "\n",
        "noKI\n",
        "noKI\n",
        "noKI"
       ]
      },
      {
       "output_type": "stream",
       "stream": "stdout",
       "text": [
        "\n",
        "noKI\n",
        "noKI\n",
        "noKI"
       ]
      },
      {
       "output_type": "stream",
       "stream": "stdout",
       "text": [
        "\n",
        "noKI\n",
        "noKI\n",
        "noKI"
       ]
      },
      {
       "output_type": "stream",
       "stream": "stdout",
       "text": [
        "\n",
        "noKI\n",
        "noKI\n",
        "noKI"
       ]
      },
      {
       "output_type": "stream",
       "stream": "stdout",
       "text": [
        "\n",
        "noKI\n",
        "noKI\n",
        "noKI"
       ]
      },
      {
       "output_type": "stream",
       "stream": "stdout",
       "text": [
        "\n",
        "noKI\n",
        "noKI\n",
        "noKI"
       ]
      },
      {
       "output_type": "stream",
       "stream": "stdout",
       "text": [
        "\n",
        "noKI\n",
        "noKI\n",
        "noKI"
       ]
      },
      {
       "output_type": "stream",
       "stream": "stdout",
       "text": [
        "\n",
        "noKI\n",
        "noKI\n",
        "noKI"
       ]
      },
      {
       "output_type": "stream",
       "stream": "stdout",
       "text": [
        "\n",
        "noKI\n",
        "noKI\n",
        "noKI"
       ]
      },
      {
       "output_type": "stream",
       "stream": "stdout",
       "text": [
        "\n",
        "noKI\n",
        "noKI\n",
        "noKI"
       ]
      },
      {
       "output_type": "stream",
       "stream": "stdout",
       "text": [
        "\n",
        "noKI\n",
        "noKI\n",
        "noKI"
       ]
      },
      {
       "output_type": "stream",
       "stream": "stdout",
       "text": [
        "\n",
        "noKI\n",
        "noKI\n",
        "noKI"
       ]
      },
      {
       "output_type": "stream",
       "stream": "stdout",
       "text": [
        "\n",
        "noKI\n",
        "noKI\n",
        "noKI"
       ]
      },
      {
       "output_type": "stream",
       "stream": "stdout",
       "text": [
        "\n",
        "noKI\n",
        "noKI\n",
        "noKI"
       ]
      },
      {
       "output_type": "stream",
       "stream": "stdout",
       "text": [
        "\n",
        "noKI\n",
        "noKI\n",
        "noKI"
       ]
      },
      {
       "output_type": "stream",
       "stream": "stdout",
       "text": [
        "\n",
        "noKI\n",
        "noKI\n",
        "noKI"
       ]
      },
      {
       "output_type": "stream",
       "stream": "stdout",
       "text": [
        "\n",
        "noKI\n",
        "noKI\n",
        "noKI"
       ]
      },
      {
       "output_type": "stream",
       "stream": "stdout",
       "text": [
        "\n",
        "noKI\n",
        "noKI\n",
        "noKI"
       ]
      },
      {
       "output_type": "stream",
       "stream": "stdout",
       "text": [
        "\n",
        "noKI\n",
        "noKI\n",
        "noKI"
       ]
      },
      {
       "output_type": "stream",
       "stream": "stdout",
       "text": [
        "\n",
        "noKI\n",
        "noKI\n",
        "noKI"
       ]
      },
      {
       "output_type": "stream",
       "stream": "stdout",
       "text": [
        "\n",
        "noKI\n",
        "noKI\n",
        "noKI"
       ]
      },
      {
       "output_type": "stream",
       "stream": "stdout",
       "text": [
        "\n",
        "noKI\n",
        "noKI\n",
        "noKI"
       ]
      },
      {
       "output_type": "stream",
       "stream": "stdout",
       "text": [
        "\n",
        "noKI\n",
        "noKI\n",
        "noKI"
       ]
      },
      {
       "output_type": "stream",
       "stream": "stdout",
       "text": [
        "\n",
        "noKI\n",
        "noKI\n",
        "noKI"
       ]
      },
      {
       "output_type": "stream",
       "stream": "stdout",
       "text": [
        "\n",
        "noKI\n",
        "noKI\n",
        "noKI"
       ]
      },
      {
       "output_type": "stream",
       "stream": "stdout",
       "text": [
        "\n",
        "noKI\n",
        "noKI\n",
        "noKI"
       ]
      },
      {
       "output_type": "stream",
       "stream": "stdout",
       "text": [
        "\n",
        "noKI\n",
        "noKI\n",
        "noKI"
       ]
      },
      {
       "output_type": "stream",
       "stream": "stdout",
       "text": [
        "\n",
        "noKI\n",
        "noKI\n",
        "noKI"
       ]
      },
      {
       "output_type": "stream",
       "stream": "stdout",
       "text": [
        "\n",
        "noKI\n",
        "noKI\n",
        "noKI"
       ]
      },
      {
       "output_type": "stream",
       "stream": "stdout",
       "text": [
        "\n",
        "noKI\n",
        "noKI\n",
        "noKI"
       ]
      },
      {
       "output_type": "stream",
       "stream": "stdout",
       "text": [
        "\n",
        "noKI\n",
        "noKI\n",
        "noKI"
       ]
      },
      {
       "output_type": "stream",
       "stream": "stdout",
       "text": [
        "\n",
        "noKI\n",
        "noKI\n",
        "noKI"
       ]
      },
      {
       "output_type": "stream",
       "stream": "stdout",
       "text": [
        "\n",
        "noKI\n",
        "noKI\n",
        "noKI"
       ]
      },
      {
       "output_type": "stream",
       "stream": "stdout",
       "text": [
        "\n",
        "noKI\n",
        "noKI\n",
        "noKI"
       ]
      },
      {
       "output_type": "stream",
       "stream": "stdout",
       "text": [
        "\n",
        "noKI\n",
        "noKI\n",
        "noKI"
       ]
      },
      {
       "output_type": "stream",
       "stream": "stdout",
       "text": [
        "\n",
        "noKI\n",
        "noKI\n",
        "noKI"
       ]
      },
      {
       "output_type": "stream",
       "stream": "stdout",
       "text": [
        "\n",
        "noKI\n",
        "noKI\n",
        "noKI"
       ]
      },
      {
       "output_type": "stream",
       "stream": "stdout",
       "text": [
        "\n",
        "noKI\n",
        "noKI\n",
        "noKI"
       ]
      },
      {
       "output_type": "stream",
       "stream": "stdout",
       "text": [
        "\n",
        "noKI\n",
        "noKI\n"
       ]
      }
     ],
     "prompt_number": 9
    },
    {
     "cell_type": "code",
     "collapsed": false,
     "input": [
      "passkey=\"\"\n",
      "pandasQ(passkey)"
     ],
     "language": "python",
     "metadata": {},
     "outputs": [
      {
       "metadata": {},
       "output_type": "pyout",
       "prompt_number": 11,
       "text": [
        "\"{'a': 97, 'date': '2014-06-29T22:45:24.000Z', 'b': 32},{'a': 47, 'date': '2014-06-29T22:45:25.000Z', 'b': 71},{'a': 17, 'date': '2014-06-29T22:45:26.000Z', 'b': 57},{'a': 67, 'date': '2014-06-29T22:45:27.000Z', 'b': 27},{'a': 3, 'date': '2014-06-29T22:45:28.000Z', 'b': 30},{'a': 1, 'date': '2014-06-29T22:45:29.000Z', 'b': 19},{'a': 32, 'date': '2014-06-29T22:45:30.000Z', 'b': 25},{'a': 82, 'date': '2014-06-29T22:45:31.000Z', 'b': 45},{'a': 59, 'date': '2014-06-29T22:45:32.000Z', 'b': 74},{'a': 19, 'date': '2014-06-29T22:45:33.000Z', 'b': 49},{'a': 54, 'date': '2014-06-29T22:45:34.000Z', 'b': 84},{'a': 61, 'date': '2014-06-29T22:45:35.000Z', 'b': 56},{'a': 60, 'date': '2014-06-29T22:45:36.000Z', 'b': 91},{'a': 84, 'date': '2014-06-29T22:45:37.000Z', 'b': 39},{'a': 77, 'date': '2014-06-29T22:45:38.000Z', 'b': 24},{'a': 15, 'date': '2014-06-29T22:45:39.000Z', 'b': 29},{'a': 21, 'date': '2014-06-29T22:45:40.000Z', 'b': 72},{'a': 55, 'date': '2014-06-29T22:45:41.000Z', 'b': 36},{'a': 46, 'date': '2014-06-29T22:45:42.000Z', 'b': 89},{'a': 64, 'date': '2014-06-29T22:45:43.000Z', 'b': 20},{'a': 62, 'date': '2014-06-29T22:45:44.000Z', 'b': 73},{'a': 45, 'date': '2014-06-29T22:45:45.000Z', 'b': 94},{'a': 41, 'date': '2014-06-29T22:45:46.000Z', 'b': 90},{'a': 94, 'date': '2014-06-29T22:45:47.000Z', 'b': 59},{'a': 22, 'date': '2014-06-29T22:45:48.000Z', 'b': 63},{'a': 49, 'date': '2014-06-29T22:45:49.000Z', 'b': 23},{'a': 0, 'date': '2014-06-29T22:45:50.000Z', 'b': 34},{'a': 74, 'date': '2014-06-29T22:45:52.000Z', 'b': 18},{'a': 52, 'date': '2014-06-29T22:45:53.000Z', 'b': 97},{'a': 50, 'date': '2014-06-29T22:45:54.000Z', 'b': 52},{'a': 79, 'date': '2014-06-29T22:45:55.000Z', 'b': 64},{'a': 70, 'date': '2014-06-29T22:45:56.000Z', 'b': 12},{'a': 93, 'date': '2014-06-29T22:45:57.000Z', 'b': 48},{'a': 7, 'date': '2014-06-29T22:45:58.000Z', 'b': 81},{'a': 63, 'date': '2014-06-29T22:45:59.000Z', 'b': 99},{'a': 95, 'date': '2014-06-29T22:46:00.000Z', 'b': 10},{'a': 66, 'date': '2014-06-29T22:46:01.000Z', 'b': 69},{'a': 83, 'date': '2014-06-29T22:46:02.000Z', 'b': 21},{'a': 56, 'date': '2014-06-29T22:46:03.000Z', 'b': 67},{'a': 34, 'date': '2014-06-29T22:46:04.000Z', 'b': 65},{'a': 78, 'date': '2014-06-29T22:46:05.000Z', 'b': 1},{'a': 36, 'date': '2014-06-29T22:46:06.000Z', 'b': 16},{'a': 8, 'date': '2014-06-29T22:46:07.000Z', 'b': 53},{'a': 27, 'date': '2014-06-29T22:46:08.000Z', 'b': 22},{'a': 35, 'date': '2014-06-29T22:46:10.000Z', 'b': 62},{'a': 75, 'date': '2014-06-29T22:46:11.000Z', 'b': 54},{'a': 85, 'date': '2014-06-29T22:46:12.000Z', 'b': 41},{'a': 14, 'date': '2014-06-29T22:46:13.000Z', 'b': 95},{'a': 5, 'date': '2014-06-29T22:46:14.000Z', 'b': 6},{'a': 2, 'date': '2014-06-29T22:46:15.000Z', 'b': 42},{'a': 6, 'date': '2014-06-29T22:46:16.000Z', 'b': 15},{'a': 18, 'date': '2014-06-29T22:46:17.000Z', 'b': 46},{'a': 44, 'date': '2014-06-29T22:46:18.000Z', 'b': 61},{'a': 40, 'date': '2014-06-29T22:46:19.000Z', 'b': 0},{'a': 43, 'date': '2014-06-29T22:46:20.000Z', 'b': 43},{'a': 10, 'date': '2014-06-29T22:46:21.000Z', 'b': 4},{'a': 86, 'date': '2014-06-29T22:46:22.000Z', 'b': 93},{'a': 80, 'date': '2014-06-29T22:46:23.000Z', 'b': 82},{'a': 96, 'date': '2014-06-29T22:46:25.000Z', 'b': 13},{'a': 16, 'date': '2014-06-29T22:46:26.000Z', 'b': 44},{'a': 38, 'date': '2014-06-29T22:46:27.000Z', 'b': 98},{'a': 65, 'date': '2014-06-29T22:46:28.000Z', 'b': 11},{'a': 53, 'date': '2014-06-29T22:46:29.000Z', 'b': 50},{'a': 4, 'date': '2014-06-29T22:46:30.000Z', 'b': 26},{'a': 51, 'date': '2014-06-29T22:46:31.000Z', 'b': 40},{'a': 73, 'date': '2014-06-29T22:46:32.000Z', 'b': 38},{'a': 72, 'date': '2014-06-29T22:46:33.000Z', 'b': 78},{'a': 89, 'date': '2014-06-29T22:46:34.000Z', 'b': 76},{'a': 12, 'date': '2014-06-29T22:46:35.000Z', 'b': 47},{'a': 76, 'date': '2014-06-29T22:46:36.000Z', 'b': 83},{'a': 24, 'date': '2014-06-29T22:46:38.000Z', 'b': 35},{'a': 39, 'date': '2014-06-29T22:46:39.000Z', 'b': 77},{'a': 9, 'date': '2014-06-29T22:46:40.000Z', 'b': 7},{'a': 29, 'date': '2014-06-29T22:46:41.000Z', 'b': 2},{'a': 13, 'date': '2014-06-29T22:46:42.000Z', 'b': 87},{'a': 87, 'date': '2014-06-29T22:46:43.000Z', 'b': 5},{'a': 88, 'date': '2014-06-29T22:46:44.000Z', 'b': 31},{'a': 20, 'date': '2014-06-29T22:46:45.000Z', 'b': 86},{'a': 26, 'date': '2014-06-29T22:46:46.000Z', 'b': 88},{'a': 92, 'date': '2014-06-29T22:46:47.000Z', 'b': 66},{'a': 11, 'date': '2014-06-29T22:46:48.000Z', 'b': 55},{'a': 42, 'date': '2014-06-29T22:46:50.000Z', 'b': 60},{'a': 98, 'date': '2014-06-29T22:46:51.000Z', 'b': 37},{'a': 33, 'date': '2014-06-29T22:46:52.000Z', 'b': 17},{'a': 58, 'date': '2014-06-29T22:46:53.000Z', 'b': 70},{'a': 68, 'date': '2014-06-29T22:46:54.000Z', 'b': 51},{'a': 99, 'date': '2014-06-29T22:46:55.000Z', 'b': 8},{'a': 30, 'date': '2014-06-29T22:46:56.000Z', 'b': 85},{'a': 31, 'date': '2014-06-29T22:46:57.000Z', 'b': 33},{'a': 25, 'date': '2014-06-29T22:46:58.000Z', 'b': 75},{'a': 91, 'date': '2014-06-29T22:46:59.000Z', 'b': 3},{'a': 23, 'date': '2014-06-29T22:47:01.000Z', 'b': 96},{'a': 90, 'date': '2014-06-29T22:47:02.000Z', 'b': 14},{'a': 48, 'date': '2014-06-29T22:47:03.000Z', 'b': 9},{'a': 69, 'date': '2014-06-29T22:47:04.000Z', 'b': 92},{'a': 37, 'date': '2014-06-29T22:47:05.000Z', 'b': 79},{'a': 71, 'date': '2014-06-29T22:47:06.000Z', 'b': 80},{'a': 57, 'date': '2014-06-29T22:47:07.000Z', 'b': 68},{'a': 81, 'date': '2014-06-29T22:47:08.000Z', 'b': 28},{'a': 28, 'date': '2014-06-29T22:47:09.000Z', 'b': 58}\""
       ]
      }
     ],
     "prompt_number": 11
    },
    {
     "cell_type": "code",
     "collapsed": false,
     "input": [
      "import pandas as pd\n",
      "from pandas import DataFrame, Series\n",
      "import json\n",
      "import re\n",
      "passkey=\"\"\n",
      "\n",
      "#fix single to double quotes for valid JSON\n",
      "dataStream=eval(pandasQ(passkey))\n",
      "dd= [json.dumps(obj,ensure_ascii=False) for obj in dataStream] #parse evaluated string, ensure utf\n",
      "\n",
      "records=[json.loads(obj) for obj in dd] #parse json\n",
      "frame1= DataFrame(records)\n",
      "\n"
     ],
     "language": "python",
     "metadata": {},
     "outputs": [],
     "prompt_number": 24
    },
    {
     "cell_type": "code",
     "collapsed": false,
     "input": [
      "%matplotlib inline\n",
      "import matplotlib.pyplot as plt\n",
      "\n",
      "plt.plot(frame1['a'].values)\n",
      "plt.ylabel('some numbers')\n",
      "plt.show()\n",
      "#frame.reset_index().values.ravel().view(dtype=[('index', int), ('a', O), ('B', O), ('C', O)])\n",
      "#frame.reset_index().values.ravel().view(dtype=[('index', int))\n"
     ],
     "language": "python",
     "metadata": {},
     "outputs": [
      {
       "ename": "ImportError",
       "evalue": "No module named unicodedata",
       "output_type": "pyerr",
       "traceback": [
        "\u001b[1;31m---------------------------------------------------------------------------\u001b[0m\n\u001b[1;31mImportError\u001b[0m                               Traceback (most recent call last)",
        "\u001b[1;32m<ipython-input-15-109a7a1f50bc>\u001b[0m in \u001b[0;36m<module>\u001b[1;34m()\u001b[0m\n\u001b[1;32m----> 1\u001b[1;33m \u001b[0mget_ipython\u001b[0m\u001b[1;33m(\u001b[0m\u001b[1;33m)\u001b[0m\u001b[1;33m.\u001b[0m\u001b[0mmagic\u001b[0m\u001b[1;33m(\u001b[0m\u001b[1;34mu'matplotlib inline'\u001b[0m\u001b[1;33m)\u001b[0m\u001b[1;33m\u001b[0m\u001b[0m\n\u001b[0m\u001b[0;32m      2\u001b[0m \u001b[1;32mimport\u001b[0m \u001b[0mmatplotlib\u001b[0m\u001b[1;33m.\u001b[0m\u001b[0mpyplot\u001b[0m \u001b[1;32mas\u001b[0m \u001b[0mplt\u001b[0m\u001b[1;33m\u001b[0m\u001b[0m\n\u001b[0;32m      3\u001b[0m \u001b[1;33m\u001b[0m\u001b[0m\n\u001b[0;32m      4\u001b[0m \u001b[0mplt\u001b[0m\u001b[1;33m.\u001b[0m\u001b[0mplot\u001b[0m\u001b[1;33m(\u001b[0m\u001b[0mframe1\u001b[0m\u001b[1;33m[\u001b[0m\u001b[1;34m'a'\u001b[0m\u001b[1;33m]\u001b[0m\u001b[1;33m.\u001b[0m\u001b[0mvalues\u001b[0m\u001b[1;33m)\u001b[0m\u001b[1;33m\u001b[0m\u001b[0m\n\u001b[0;32m      5\u001b[0m \u001b[0mplt\u001b[0m\u001b[1;33m.\u001b[0m\u001b[0mylabel\u001b[0m\u001b[1;33m(\u001b[0m\u001b[1;34m'some numbers'\u001b[0m\u001b[1;33m)\u001b[0m\u001b[1;33m\u001b[0m\u001b[0m\n",
        "\u001b[1;32mC:\\Python27\\lib\\site-packages\\IPython\\core\\interactiveshell.pyc\u001b[0m in \u001b[0;36mmagic\u001b[1;34m(self, arg_s)\u001b[0m\n\u001b[0;32m   2203\u001b[0m         \u001b[0mmagic_name\u001b[0m\u001b[1;33m,\u001b[0m \u001b[0m_\u001b[0m\u001b[1;33m,\u001b[0m \u001b[0mmagic_arg_s\u001b[0m \u001b[1;33m=\u001b[0m \u001b[0marg_s\u001b[0m\u001b[1;33m.\u001b[0m\u001b[0mpartition\u001b[0m\u001b[1;33m(\u001b[0m\u001b[1;34m' '\u001b[0m\u001b[1;33m)\u001b[0m\u001b[1;33m\u001b[0m\u001b[0m\n\u001b[0;32m   2204\u001b[0m         \u001b[0mmagic_name\u001b[0m \u001b[1;33m=\u001b[0m \u001b[0mmagic_name\u001b[0m\u001b[1;33m.\u001b[0m\u001b[0mlstrip\u001b[0m\u001b[1;33m(\u001b[0m\u001b[0mprefilter\u001b[0m\u001b[1;33m.\u001b[0m\u001b[0mESC_MAGIC\u001b[0m\u001b[1;33m)\u001b[0m\u001b[1;33m\u001b[0m\u001b[0m\n\u001b[1;32m-> 2205\u001b[1;33m         \u001b[1;32mreturn\u001b[0m \u001b[0mself\u001b[0m\u001b[1;33m.\u001b[0m\u001b[0mrun_line_magic\u001b[0m\u001b[1;33m(\u001b[0m\u001b[0mmagic_name\u001b[0m\u001b[1;33m,\u001b[0m \u001b[0mmagic_arg_s\u001b[0m\u001b[1;33m)\u001b[0m\u001b[1;33m\u001b[0m\u001b[0m\n\u001b[0m\u001b[0;32m   2206\u001b[0m \u001b[1;33m\u001b[0m\u001b[0m\n\u001b[0;32m   2207\u001b[0m     \u001b[1;31m#-------------------------------------------------------------------------\u001b[0m\u001b[1;33m\u001b[0m\u001b[1;33m\u001b[0m\u001b[0m\n",
        "\u001b[1;32mC:\\Python27\\lib\\site-packages\\IPython\\core\\interactiveshell.pyc\u001b[0m in \u001b[0;36mrun_line_magic\u001b[1;34m(self, magic_name, line)\u001b[0m\n\u001b[0;32m   2124\u001b[0m                 \u001b[0mkwargs\u001b[0m\u001b[1;33m[\u001b[0m\u001b[1;34m'local_ns'\u001b[0m\u001b[1;33m]\u001b[0m \u001b[1;33m=\u001b[0m \u001b[0msys\u001b[0m\u001b[1;33m.\u001b[0m\u001b[0m_getframe\u001b[0m\u001b[1;33m(\u001b[0m\u001b[0mstack_depth\u001b[0m\u001b[1;33m)\u001b[0m\u001b[1;33m.\u001b[0m\u001b[0mf_locals\u001b[0m\u001b[1;33m\u001b[0m\u001b[0m\n\u001b[0;32m   2125\u001b[0m             \u001b[1;32mwith\u001b[0m \u001b[0mself\u001b[0m\u001b[1;33m.\u001b[0m\u001b[0mbuiltin_trap\u001b[0m\u001b[1;33m:\u001b[0m\u001b[1;33m\u001b[0m\u001b[0m\n\u001b[1;32m-> 2126\u001b[1;33m                 \u001b[0mresult\u001b[0m \u001b[1;33m=\u001b[0m \u001b[0mfn\u001b[0m\u001b[1;33m(\u001b[0m\u001b[1;33m*\u001b[0m\u001b[0margs\u001b[0m\u001b[1;33m,\u001b[0m\u001b[1;33m**\u001b[0m\u001b[0mkwargs\u001b[0m\u001b[1;33m)\u001b[0m\u001b[1;33m\u001b[0m\u001b[0m\n\u001b[0m\u001b[0;32m   2127\u001b[0m             \u001b[1;32mreturn\u001b[0m \u001b[0mresult\u001b[0m\u001b[1;33m\u001b[0m\u001b[0m\n\u001b[0;32m   2128\u001b[0m \u001b[1;33m\u001b[0m\u001b[0m\n",
        "\u001b[1;32mC:\\Python27\\lib\\site-packages\\IPython\\core\\magics\\pylab.pyc\u001b[0m in \u001b[0;36mmatplotlib\u001b[1;34m(self, line)\u001b[0m\n",
        "\u001b[1;32mC:\\Python27\\lib\\site-packages\\IPython\\core\\magic.pyc\u001b[0m in \u001b[0;36m<lambda>\u001b[1;34m(f, *a, **k)\u001b[0m\n\u001b[0;32m    191\u001b[0m     \u001b[1;31m# but it's overkill for just that one bit of state.\u001b[0m\u001b[1;33m\u001b[0m\u001b[1;33m\u001b[0m\u001b[0m\n\u001b[0;32m    192\u001b[0m     \u001b[1;32mdef\u001b[0m \u001b[0mmagic_deco\u001b[0m\u001b[1;33m(\u001b[0m\u001b[0marg\u001b[0m\u001b[1;33m)\u001b[0m\u001b[1;33m:\u001b[0m\u001b[1;33m\u001b[0m\u001b[0m\n\u001b[1;32m--> 193\u001b[1;33m         \u001b[0mcall\u001b[0m \u001b[1;33m=\u001b[0m \u001b[1;32mlambda\u001b[0m \u001b[0mf\u001b[0m\u001b[1;33m,\u001b[0m \u001b[1;33m*\u001b[0m\u001b[0ma\u001b[0m\u001b[1;33m,\u001b[0m \u001b[1;33m**\u001b[0m\u001b[0mk\u001b[0m\u001b[1;33m:\u001b[0m \u001b[0mf\u001b[0m\u001b[1;33m(\u001b[0m\u001b[1;33m*\u001b[0m\u001b[0ma\u001b[0m\u001b[1;33m,\u001b[0m \u001b[1;33m**\u001b[0m\u001b[0mk\u001b[0m\u001b[1;33m)\u001b[0m\u001b[1;33m\u001b[0m\u001b[0m\n\u001b[0m\u001b[0;32m    194\u001b[0m \u001b[1;33m\u001b[0m\u001b[0m\n\u001b[0;32m    195\u001b[0m         \u001b[1;32mif\u001b[0m \u001b[0mcallable\u001b[0m\u001b[1;33m(\u001b[0m\u001b[0marg\u001b[0m\u001b[1;33m)\u001b[0m\u001b[1;33m:\u001b[0m\u001b[1;33m\u001b[0m\u001b[0m\n",
        "\u001b[1;32mC:\\Python27\\lib\\site-packages\\IPython\\core\\magics\\pylab.pyc\u001b[0m in \u001b[0;36mmatplotlib\u001b[1;34m(self, line)\u001b[0m\n\u001b[0;32m     78\u001b[0m         \"\"\"\n\u001b[0;32m     79\u001b[0m         \u001b[0margs\u001b[0m \u001b[1;33m=\u001b[0m \u001b[0mmagic_arguments\u001b[0m\u001b[1;33m.\u001b[0m\u001b[0mparse_argstring\u001b[0m\u001b[1;33m(\u001b[0m\u001b[0mself\u001b[0m\u001b[1;33m.\u001b[0m\u001b[0mmatplotlib\u001b[0m\u001b[1;33m,\u001b[0m \u001b[0mline\u001b[0m\u001b[1;33m)\u001b[0m\u001b[1;33m\u001b[0m\u001b[0m\n\u001b[1;32m---> 80\u001b[1;33m         \u001b[0mgui\u001b[0m\u001b[1;33m,\u001b[0m \u001b[0mbackend\u001b[0m \u001b[1;33m=\u001b[0m \u001b[0mself\u001b[0m\u001b[1;33m.\u001b[0m\u001b[0mshell\u001b[0m\u001b[1;33m.\u001b[0m\u001b[0menable_matplotlib\u001b[0m\u001b[1;33m(\u001b[0m\u001b[0margs\u001b[0m\u001b[1;33m.\u001b[0m\u001b[0mgui\u001b[0m\u001b[1;33m)\u001b[0m\u001b[1;33m\u001b[0m\u001b[0m\n\u001b[0m\u001b[0;32m     81\u001b[0m         \u001b[0mself\u001b[0m\u001b[1;33m.\u001b[0m\u001b[0m_show_matplotlib_backend\u001b[0m\u001b[1;33m(\u001b[0m\u001b[0margs\u001b[0m\u001b[1;33m.\u001b[0m\u001b[0mgui\u001b[0m\u001b[1;33m,\u001b[0m \u001b[0mbackend\u001b[0m\u001b[1;33m)\u001b[0m\u001b[1;33m\u001b[0m\u001b[0m\n\u001b[0;32m     82\u001b[0m \u001b[1;33m\u001b[0m\u001b[0m\n",
        "\u001b[1;32mC:\\Python27\\lib\\site-packages\\IPython\\core\\interactiveshell.pyc\u001b[0m in \u001b[0;36menable_matplotlib\u001b[1;34m(self, gui)\u001b[0m\n\u001b[0;32m   2941\u001b[0m                 \u001b[0mgui\u001b[0m\u001b[1;33m,\u001b[0m \u001b[0mbackend\u001b[0m \u001b[1;33m=\u001b[0m \u001b[0mpt\u001b[0m\u001b[1;33m.\u001b[0m\u001b[0mfind_gui_and_backend\u001b[0m\u001b[1;33m(\u001b[0m\u001b[0mself\u001b[0m\u001b[1;33m.\u001b[0m\u001b[0mpylab_gui_select\u001b[0m\u001b[1;33m)\u001b[0m\u001b[1;33m\u001b[0m\u001b[0m\n\u001b[0;32m   2942\u001b[0m \u001b[1;33m\u001b[0m\u001b[0m\n\u001b[1;32m-> 2943\u001b[1;33m         \u001b[0mpt\u001b[0m\u001b[1;33m.\u001b[0m\u001b[0mactivate_matplotlib\u001b[0m\u001b[1;33m(\u001b[0m\u001b[0mbackend\u001b[0m\u001b[1;33m)\u001b[0m\u001b[1;33m\u001b[0m\u001b[0m\n\u001b[0m\u001b[0;32m   2944\u001b[0m         \u001b[0mpt\u001b[0m\u001b[1;33m.\u001b[0m\u001b[0mconfigure_inline_support\u001b[0m\u001b[1;33m(\u001b[0m\u001b[0mself\u001b[0m\u001b[1;33m,\u001b[0m \u001b[0mbackend\u001b[0m\u001b[1;33m)\u001b[0m\u001b[1;33m\u001b[0m\u001b[0m\n\u001b[0;32m   2945\u001b[0m \u001b[1;33m\u001b[0m\u001b[0m\n",
        "\u001b[1;32mC:\\Python27\\lib\\site-packages\\IPython\\core\\pylabtools.pyc\u001b[0m in \u001b[0;36mactivate_matplotlib\u001b[1;34m(backend)\u001b[0m\n\u001b[0;32m    285\u001b[0m     \u001b[0mmatplotlib\u001b[0m\u001b[1;33m.\u001b[0m\u001b[0mrcParams\u001b[0m\u001b[1;33m[\u001b[0m\u001b[1;34m'backend'\u001b[0m\u001b[1;33m]\u001b[0m \u001b[1;33m=\u001b[0m \u001b[0mbackend\u001b[0m\u001b[1;33m\u001b[0m\u001b[0m\n\u001b[0;32m    286\u001b[0m \u001b[1;33m\u001b[0m\u001b[0m\n\u001b[1;32m--> 287\u001b[1;33m     \u001b[1;32mimport\u001b[0m \u001b[0mmatplotlib\u001b[0m\u001b[1;33m.\u001b[0m\u001b[0mpyplot\u001b[0m\u001b[1;33m\u001b[0m\u001b[0m\n\u001b[0m\u001b[0;32m    288\u001b[0m     \u001b[0mmatplotlib\u001b[0m\u001b[1;33m.\u001b[0m\u001b[0mpyplot\u001b[0m\u001b[1;33m.\u001b[0m\u001b[0mswitch_backend\u001b[0m\u001b[1;33m(\u001b[0m\u001b[0mbackend\u001b[0m\u001b[1;33m)\u001b[0m\u001b[1;33m\u001b[0m\u001b[0m\n\u001b[0;32m    289\u001b[0m \u001b[1;33m\u001b[0m\u001b[0m\n",
        "\u001b[1;32mC:\\Python27\\lib\\site-packages\\matplotlib\\pyplot.pyc\u001b[0m in \u001b[0;36m<module>\u001b[1;34m()\u001b[0m\n\u001b[0;32m     24\u001b[0m \u001b[1;32mfrom\u001b[0m \u001b[0mmatplotlib\u001b[0m\u001b[1;33m.\u001b[0m\u001b[0mcbook\u001b[0m \u001b[1;32mimport\u001b[0m \u001b[0mdedent\u001b[0m\u001b[1;33m,\u001b[0m \u001b[0msilent_list\u001b[0m\u001b[1;33m,\u001b[0m \u001b[0mis_string_like\u001b[0m\u001b[1;33m,\u001b[0m \u001b[0mis_numlike\u001b[0m\u001b[1;33m\u001b[0m\u001b[0m\n\u001b[0;32m     25\u001b[0m \u001b[1;32mfrom\u001b[0m \u001b[0mmatplotlib\u001b[0m \u001b[1;32mimport\u001b[0m \u001b[0mdocstring\u001b[0m\u001b[1;33m\u001b[0m\u001b[0m\n\u001b[1;32m---> 26\u001b[1;33m \u001b[1;32mfrom\u001b[0m \u001b[0mmatplotlib\u001b[0m\u001b[1;33m.\u001b[0m\u001b[0mfigure\u001b[0m \u001b[1;32mimport\u001b[0m \u001b[0mFigure\u001b[0m\u001b[1;33m,\u001b[0m \u001b[0mfigaspect\u001b[0m\u001b[1;33m\u001b[0m\u001b[0m\n\u001b[0m\u001b[0;32m     27\u001b[0m \u001b[1;32mfrom\u001b[0m \u001b[0mmatplotlib\u001b[0m\u001b[1;33m.\u001b[0m\u001b[0mbackend_bases\u001b[0m \u001b[1;32mimport\u001b[0m \u001b[0mFigureCanvasBase\u001b[0m\u001b[1;33m\u001b[0m\u001b[0m\n\u001b[0;32m     28\u001b[0m \u001b[1;32mfrom\u001b[0m \u001b[0mmatplotlib\u001b[0m\u001b[1;33m.\u001b[0m\u001b[0mimage\u001b[0m \u001b[1;32mimport\u001b[0m \u001b[0mimread\u001b[0m \u001b[1;32mas\u001b[0m \u001b[0m_imread\u001b[0m\u001b[1;33m\u001b[0m\u001b[0m\n",
        "\u001b[1;32mC:\\Python27\\lib\\site-packages\\matplotlib\\figure.pyc\u001b[0m in \u001b[0;36m<module>\u001b[1;34m()\u001b[0m\n\u001b[0;32m     32\u001b[0m \u001b[1;32mfrom\u001b[0m \u001b[0mmatplotlib\u001b[0m\u001b[1;33m.\u001b[0m\u001b[0mimage\u001b[0m \u001b[1;32mimport\u001b[0m \u001b[0mFigureImage\u001b[0m\u001b[1;33m\u001b[0m\u001b[0m\n\u001b[0;32m     33\u001b[0m \u001b[1;33m\u001b[0m\u001b[0m\n\u001b[1;32m---> 34\u001b[1;33m \u001b[1;32mimport\u001b[0m \u001b[0mmatplotlib\u001b[0m\u001b[1;33m.\u001b[0m\u001b[0mcolorbar\u001b[0m \u001b[1;32mas\u001b[0m \u001b[0mcbar\u001b[0m\u001b[1;33m\u001b[0m\u001b[0m\n\u001b[0m\u001b[0;32m     35\u001b[0m \u001b[1;33m\u001b[0m\u001b[0m\n\u001b[0;32m     36\u001b[0m \u001b[1;32mfrom\u001b[0m \u001b[0mmatplotlib\u001b[0m\u001b[1;33m.\u001b[0m\u001b[0maxes\u001b[0m \u001b[1;32mimport\u001b[0m \u001b[0mAxes\u001b[0m\u001b[1;33m,\u001b[0m \u001b[0mSubplotBase\u001b[0m\u001b[1;33m,\u001b[0m \u001b[0msubplot_class_factory\u001b[0m\u001b[1;33m\u001b[0m\u001b[0m\n",
        "\u001b[1;32mC:\\Python27\\lib\\site-packages\\matplotlib\\colorbar.pyc\u001b[0m in \u001b[0;36m<module>\u001b[1;34m()\u001b[0m\n\u001b[0;32m     27\u001b[0m \u001b[1;32mimport\u001b[0m \u001b[0mmatplotlib\u001b[0m\u001b[1;33m.\u001b[0m\u001b[0martist\u001b[0m \u001b[1;32mas\u001b[0m \u001b[0mmartist\u001b[0m\u001b[1;33m\u001b[0m\u001b[0m\n\u001b[0;32m     28\u001b[0m \u001b[1;32mimport\u001b[0m \u001b[0mmatplotlib\u001b[0m\u001b[1;33m.\u001b[0m\u001b[0mcbook\u001b[0m \u001b[1;32mas\u001b[0m \u001b[0mcbook\u001b[0m\u001b[1;33m\u001b[0m\u001b[0m\n\u001b[1;32m---> 29\u001b[1;33m \u001b[1;32mimport\u001b[0m \u001b[0mmatplotlib\u001b[0m\u001b[1;33m.\u001b[0m\u001b[0mcollections\u001b[0m \u001b[1;32mas\u001b[0m \u001b[0mcollections\u001b[0m\u001b[1;33m\u001b[0m\u001b[0m\n\u001b[0m\u001b[0;32m     30\u001b[0m \u001b[1;32mimport\u001b[0m \u001b[0mmatplotlib\u001b[0m\u001b[1;33m.\u001b[0m\u001b[0mcolors\u001b[0m \u001b[1;32mas\u001b[0m \u001b[0mcolors\u001b[0m\u001b[1;33m\u001b[0m\u001b[0m\n\u001b[0;32m     31\u001b[0m \u001b[1;32mimport\u001b[0m \u001b[0mmatplotlib\u001b[0m\u001b[1;33m.\u001b[0m\u001b[0mcontour\u001b[0m \u001b[1;32mas\u001b[0m \u001b[0mcontour\u001b[0m\u001b[1;33m\u001b[0m\u001b[0m\n",
        "\u001b[1;32mC:\\Python27\\lib\\site-packages\\matplotlib\\collections.pyc\u001b[0m in \u001b[0;36m<module>\u001b[1;34m()\u001b[0m\n\u001b[0;32m     21\u001b[0m \u001b[1;32mimport\u001b[0m \u001b[0mmatplotlib\u001b[0m\u001b[1;33m.\u001b[0m\u001b[0martist\u001b[0m \u001b[1;32mas\u001b[0m \u001b[0martist\u001b[0m\u001b[1;33m\u001b[0m\u001b[0m\n\u001b[0;32m     22\u001b[0m \u001b[1;32mfrom\u001b[0m \u001b[0mmatplotlib\u001b[0m\u001b[1;33m.\u001b[0m\u001b[0martist\u001b[0m \u001b[1;32mimport\u001b[0m \u001b[0mallow_rasterization\u001b[0m\u001b[1;33m\u001b[0m\u001b[0m\n\u001b[1;32m---> 23\u001b[1;33m \u001b[1;32mimport\u001b[0m \u001b[0mmatplotlib\u001b[0m\u001b[1;33m.\u001b[0m\u001b[0mbackend_bases\u001b[0m \u001b[1;32mas\u001b[0m \u001b[0mbackend_bases\u001b[0m\u001b[1;33m\u001b[0m\u001b[0m\n\u001b[0m\u001b[0;32m     24\u001b[0m \u001b[1;32mimport\u001b[0m \u001b[0mmatplotlib\u001b[0m\u001b[1;33m.\u001b[0m\u001b[0mpath\u001b[0m \u001b[1;32mas\u001b[0m \u001b[0mmpath\u001b[0m\u001b[1;33m\u001b[0m\u001b[0m\n\u001b[0;32m     25\u001b[0m \u001b[1;32mimport\u001b[0m \u001b[0mmatplotlib\u001b[0m\u001b[1;33m.\u001b[0m\u001b[0mmlab\u001b[0m \u001b[1;32mas\u001b[0m \u001b[0mmlab\u001b[0m\u001b[1;33m\u001b[0m\u001b[0m\n",
        "\u001b[1;32mC:\\Python27\\lib\\site-packages\\matplotlib\\backend_bases.pyc\u001b[0m in \u001b[0;36m<module>\u001b[1;34m()\u001b[0m\n\u001b[0;32m     45\u001b[0m \u001b[1;33m\u001b[0m\u001b[0m\n\u001b[0;32m     46\u001b[0m \u001b[1;32mimport\u001b[0m \u001b[0mmatplotlib\u001b[0m\u001b[1;33m.\u001b[0m\u001b[0mtight_bbox\u001b[0m \u001b[1;32mas\u001b[0m \u001b[0mtight_bbox\u001b[0m\u001b[1;33m\u001b[0m\u001b[0m\n\u001b[1;32m---> 47\u001b[1;33m \u001b[1;32mimport\u001b[0m \u001b[0mmatplotlib\u001b[0m\u001b[1;33m.\u001b[0m\u001b[0mtextpath\u001b[0m \u001b[1;32mas\u001b[0m \u001b[0mtextpath\u001b[0m\u001b[1;33m\u001b[0m\u001b[0m\n\u001b[0m\u001b[0;32m     48\u001b[0m \u001b[1;32mfrom\u001b[0m \u001b[0mmatplotlib\u001b[0m\u001b[1;33m.\u001b[0m\u001b[0mpath\u001b[0m \u001b[1;32mimport\u001b[0m \u001b[0mPath\u001b[0m\u001b[1;33m\u001b[0m\u001b[0m\n\u001b[0;32m     49\u001b[0m \u001b[1;33m\u001b[0m\u001b[0m\n",
        "\u001b[1;32mC:\\Python27\\lib\\site-packages\\matplotlib\\textpath.pyc\u001b[0m in \u001b[0;36m<module>\u001b[1;34m()\u001b[0m\n\u001b[0;32m      9\u001b[0m \u001b[1;32mfrom\u001b[0m \u001b[0mmatplotlib\u001b[0m\u001b[1;33m.\u001b[0m\u001b[0mft2font\u001b[0m \u001b[1;32mimport\u001b[0m \u001b[0mFT2Font\u001b[0m\u001b[1;33m,\u001b[0m \u001b[0mKERNING_DEFAULT\u001b[0m\u001b[1;33m,\u001b[0m \u001b[0mLOAD_NO_HINTING\u001b[0m\u001b[1;33m,\u001b[0m \u001b[0mLOAD_TARGET_LIGHT\u001b[0m\u001b[1;33m\u001b[0m\u001b[0m\n\u001b[0;32m     10\u001b[0m \u001b[1;33m\u001b[0m\u001b[0m\n\u001b[1;32m---> 11\u001b[1;33m \u001b[1;32mfrom\u001b[0m \u001b[0mmatplotlib\u001b[0m\u001b[1;33m.\u001b[0m\u001b[0mmathtext\u001b[0m \u001b[1;32mimport\u001b[0m \u001b[0mMathTextParser\u001b[0m\u001b[1;33m\u001b[0m\u001b[0m\n\u001b[0m\u001b[0;32m     12\u001b[0m \u001b[1;33m\u001b[0m\u001b[0m\n\u001b[0;32m     13\u001b[0m \u001b[1;32mimport\u001b[0m \u001b[0mmatplotlib\u001b[0m\u001b[1;33m.\u001b[0m\u001b[0mdviread\u001b[0m \u001b[1;32mas\u001b[0m \u001b[0mdviread\u001b[0m\u001b[1;33m\u001b[0m\u001b[0m\n",
        "\u001b[1;32mC:\\Python27\\lib\\site-packages\\matplotlib\\mathtext.pyc\u001b[0m in \u001b[0;36m<module>\u001b[1;34m()\u001b[0m\n\u001b[0;32m     29\u001b[0m \u001b[1;32mexcept\u001b[0m \u001b[0mNameError\u001b[0m\u001b[1;33m:\u001b[0m\u001b[1;33m\u001b[0m\u001b[0m\n\u001b[0;32m     30\u001b[0m     \u001b[1;32mfrom\u001b[0m \u001b[0msets\u001b[0m \u001b[1;32mimport\u001b[0m \u001b[0mSet\u001b[0m \u001b[1;32mas\u001b[0m \u001b[0mset\u001b[0m\u001b[1;33m\u001b[0m\u001b[0m\n\u001b[1;32m---> 31\u001b[1;33m \u001b[1;32mimport\u001b[0m \u001b[0municodedata\u001b[0m\u001b[1;33m\u001b[0m\u001b[0m\n\u001b[0m\u001b[0;32m     32\u001b[0m \u001b[1;32mfrom\u001b[0m \u001b[0mwarnings\u001b[0m \u001b[1;32mimport\u001b[0m \u001b[0mwarn\u001b[0m\u001b[1;33m\u001b[0m\u001b[0m\n\u001b[0;32m     33\u001b[0m \u001b[1;33m\u001b[0m\u001b[0m\n",
        "\u001b[1;31mImportError\u001b[0m: No module named unicodedata"
       ]
      }
     ],
     "prompt_number": 15
    },
    {
     "cell_type": "code",
     "collapsed": false,
     "input": [
      "frame1['a'].values\n"
     ],
     "language": "python",
     "metadata": {},
     "outputs": [
      {
       "metadata": {},
       "output_type": "pyout",
       "prompt_number": 27,
       "text": [
        "array([97, 47, 17, 67,  3,  1, 32, 82, 59, 19, 54, 61, 60, 84, 77, 15, 21,\n",
        "       55, 46, 64, 62, 45, 41, 94, 22, 49,  0, 74, 52, 50, 79, 70, 93,  7,\n",
        "       63, 95, 66, 83, 56, 34, 78, 36,  8, 27, 35, 75, 85, 14,  5,  2,  6,\n",
        "       18, 44, 40, 43, 10, 86, 80, 96, 16, 38, 65, 53,  4, 51, 73, 72, 89,\n",
        "       12, 76, 24, 39,  9, 29, 13, 87, 88, 20, 26, 92, 11, 42, 98, 33, 58,\n",
        "       68, 99, 30, 31, 25, 91, 23, 90, 48, 69, 37, 71, 57, 81, 28], dtype=int64)"
       ]
      }
     ],
     "prompt_number": 27
    },
    {
     "cell_type": "code",
     "collapsed": false,
     "input": [
      "#derivative function\n",
      "%matplotlib inline\n",
      "\n",
      "\n",
      "\n",
      "import matplotlib.pyplot as plt\n",
      "import numpy\n",
      "dx = 0.1\n",
      "y = [97, 47, 17, 67,  3,  1, 32, 82, 59, 19, 54, 61, 60, 84, 77, 15, 21,55, 46, 64, 62, 45, 41, 94, 22, 49,  0, 74, 52, 50, 79, 70, 93,  7,63, 95, 66, 83, 56, 34, 78, 36,  8, 27, 35, 75, 85, 14,  5,  2,  6,18, 44, 40, 43, 10, 86, 80, 96, 16, 38, 65, 53,  4, 51, 73, 72, 89,12, 76, 24, 39,  9, 29, 13, 87, 88, 20, 26, 92, 11, 42, 98, 33, 58,68, 99, 30, 31, 25, 91, 23, 90, 48, 69, 37, 71, 57, 81, 28]\n",
      "#y=frame1['b'].values\n",
      "dy = diff(y)/dx\n",
      "ddy = diff(dy)/dx\n",
      "\n",
      "plt.figure(1)\n",
      "plt.subplot(211)\n",
      "plt.plot(y)\n",
      "plt.plot(dy)\n",
      "\n",
      "plt.subplot(212)\n",
      "\n",
      "plt.plot(ddy)\n",
      "\n",
      "plt.figure(2)\n",
      "dymax=numpy.r_[True, dy[1:] < dy[:-1]] & numpy.r_[dy[:-1] < dy[1:], True]\n",
      "plt.plot(dymax)"
     ],
     "language": "python",
     "metadata": {},
     "outputs": [
      {
       "metadata": {},
       "output_type": "pyout",
       "prompt_number": 4,
       "text": [
        "[<matplotlib.lines.Line2D at 0x56ebe10>]"
       ]
      },
      {
       "metadata": {},
       "output_type": "display_data",
       "png": "[encoded data removed]",
       "text": [
        "<matplotlib.figure.Figure at 0x5808710>"
       ]
      },
      {
       "metadata": {},
       "output_type": "display_data",
       "png": "[encoded data removed]",
       "text": [
        "<matplotlib.figure.Figure at 0x32dc270>"
       ]
      }
     ],
     "prompt_number": 4
    },
    {
     "cell_type": "code",
     "collapsed": false,
     "input": [],
     "language": "python",
     "metadata": {},
     "outputs": []
    }
   ],
   "metadata": {}
  }
 ]
}