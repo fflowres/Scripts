{
 "metadata": {
  "name": "",
  "signature": "sha256:8e307693bc3091f5badf1023f02d2c6b99c48fabd4b20d882268afd85689188c"
 },
 "nbformat": 3,
 "nbformat_minor": 0,
 "worksheets": [
  {
   "cells": [
    {
     "cell_type": "code",
     "collapsed": false,
     "input": [
      "from CodernityDB.database import Database\n",
      "from CodernityDB.database import RecordNotFound\n",
      "from CodernityDB.database_thread_safe import ThreadSafeDatabase\n",
      "dbName='testDB'\n",
      "#db=Database(dbName)\n",
      "db=Database(dbName)\n",
      "def spill():\n",
      "    if(db.exists()):\n",
      "        db.open()\n",
      "        for curr in db.all('id'):\n",
      "            print curr\n",
      "        db.close()\n",
      "\n",
      "def createDB():\n",
      "    if(db.exists() == True):\n",
      "        return False\n",
      "    if(db.exists() == False):\n",
      "        db.create()\n",
      "        db.close()\n",
      "        return True"
     ],
     "language": "python",
     "metadata": {},
     "outputs": [],
     "prompt_number": 1
    },
    {
     "cell_type": "code",
     "collapsed": false,
     "input": [
      "db.opened"
     ],
     "language": "python",
     "metadata": {},
     "outputs": [
      {
       "metadata": {},
       "output_type": "pyout",
       "prompt_number": 10,
       "text": [
        "True"
       ]
      }
     ],
     "prompt_number": 10
    },
    {
     "cell_type": "code",
     "collapsed": false,
     "input": [
      "db3.open()"
     ],
     "language": "python",
     "metadata": {},
     "outputs": [
      {
       "metadata": {},
       "output_type": "pyout",
       "prompt_number": 13,
       "text": [
        "True"
       ]
      }
     ],
     "prompt_number": 13
    },
    {
     "cell_type": "code",
     "collapsed": false,
     "input": [
      "def insert():\n",
      "    if(db.exists() == True):\n",
      "        db.open()\n",
      "        db.insert(dict(a=True))\n",
      "        db.close()\n",
      "        return True"
     ],
     "language": "python",
     "metadata": {},
     "outputs": [],
     "prompt_number": 11
    },
    {
     "cell_type": "code",
     "collapsed": false,
     "input": [
      "db3=Database(dbName)"
     ],
     "language": "python",
     "metadata": {},
     "outputs": [],
     "prompt_number": 12
    },
    {
     "cell_type": "code",
     "collapsed": false,
     "input": [
      "spill()"
     ],
     "language": "python",
     "metadata": {},
     "outputs": [
      {
       "output_type": "stream",
       "stream": "stdout",
       "text": [
        "{'a': 1, '_rev': '00026d48', '_id': 'df04e43e67d849b8837a5b38f9175afc', 'update': 'True'}\n",
        "{'a': True, '_rev': '0001abc8', '_id': '01c5a47236654cf1b6b4abf399627d9d'}\n"
       ]
      }
     ],
     "prompt_number": 4
    },
    {
     "cell_type": "code",
     "collapsed": false,
     "input": [
      "def update(id):\n",
      "    if(db.exists() == True):\n",
      "        db.open()\n",
      "        row = db.get('id', id, with_doc=True)\n",
      "        row.update(dict(update='True'))\n",
      "        db.update(row)\n",
      "        db.close()\n",
      "        return True"
     ],
     "language": "python",
     "metadata": {},
     "outputs": [],
     "prompt_number": 8
    },
    {
     "cell_type": "code",
     "collapsed": false,
     "input": [
      "update('df04e43e67d849b8837a5b38f9175afc')"
     ],
     "language": "python",
     "metadata": {},
     "outputs": [
      {
       "metadata": {},
       "output_type": "pyout",
       "prompt_number": 9,
       "text": [
        "True"
       ]
      }
     ],
     "prompt_number": 9
    },
    {
     "cell_type": "code",
     "collapsed": false,
     "input": [
      "spill()"
     ],
     "language": "python",
     "metadata": {},
     "outputs": [
      {
       "output_type": "stream",
       "stream": "stdout",
       "text": [
        "{'a': 1, '_rev': '00026d48', '_id': 'df04e43e67d849b8837a5b38f9175afc', 'update': 'True'}\n"
       ]
      }
     ],
     "prompt_number": 10
    },
    {
     "cell_type": "code",
     "collapsed": false,
     "input": [],
     "language": "python",
     "metadata": {},
     "outputs": []
    }
   ],
   "metadata": {}
  }
 ]
}