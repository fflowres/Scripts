{
 "metadata": {
  "name": "",
  "signature": "sha256:401cd32342fb1e83a7b36fba1c62539c68e80a02108113e2cb750b95e0607969"
 },
 "nbformat": 3,
 "nbformat_minor": 0,
 "worksheets": [
  {
   "cells": [
    {
     "cell_type": "heading",
     "level": 2,
     "metadata": {},
     "source": [
      "Delete Database & Configuration"
     ]
    },
    {
     "cell_type": "code",
     "collapsed": false,
     "input": [
      "from SecApp.FileHandlerClass import FileHandler\n",
      "fileio = FileHandler()\n",
      "fileio.eraseALL()\n"
     ],
     "language": "python",
     "metadata": {},
     "outputs": [],
     "prompt_number": 1
    },
    {
     "cell_type": "heading",
     "level": 1,
     "metadata": {},
     "source": [
      "Import Database"
     ]
    },
    {
     "cell_type": "code",
     "collapsed": false,
     "input": [
      "from SecApp.ConfigClass import AppConfig\n",
      "from SecApp.DBImportClass import DBImport\n",
      "DBImport('','hello')"
     ],
     "language": "python",
     "metadata": {},
     "outputs": [
      {
       "metadata": {},
       "output_type": "pyout",
       "prompt_number": 3,
       "text": [
        "<SecApp.DBImportClass.DBImport instance at 0x0000000009A270C8>"
       ]
      }
     ],
     "prompt_number": 3
    },
    {
     "cell_type": "heading",
     "level": 2,
     "metadata": {},
     "source": [
      "Create Database"
     ]
    },
    {
     "cell_type": "code",
     "collapsed": false,
     "input": [
      "#create database\n",
      "from SecApp.DBBaseClass import DBSubsystem\n",
      "initdb = DBSubsystem('key123','_secappD2Bs').createDB()"
     ],
     "language": "python",
     "metadata": {},
     "outputs": [],
     "prompt_number": 2
    },
    {
     "cell_type": "heading",
     "level": 2,
     "metadata": {},
     "source": [
      "Check Database"
     ]
    },
    {
     "cell_type": "code",
     "collapsed": false,
     "input": [
      "from SecApp.IntegrityClass import Integrity\n",
      "checkInt = Integrity()\n",
      "checkInt.checkExists()"
     ],
     "language": "python",
     "metadata": {},
     "outputs": [
      {
       "metadata": {},
       "output_type": "pyout",
       "prompt_number": 2,
       "text": [
        "True"
       ]
      }
     ],
     "prompt_number": 2
    },
    {
     "cell_type": "heading",
     "level": 4,
     "metadata": {},
     "source": [
      "check database password"
     ]
    },
    {
     "cell_type": "code",
     "collapsed": false,
     "input": [
      "from SecApp.DBBaseClass import DBIndexSystem\n",
      "DBIndexSystem('thewrongpassworrd').sanitycheck\n",
      "\n"
     ],
     "language": "python",
     "metadata": {},
     "outputs": [
      {
       "output_type": "stream",
       "stream": "stdout",
       "text": [
        "bad index\n"
       ]
      },
      {
       "metadata": {},
       "output_type": "pyout",
       "prompt_number": 3,
       "text": [
        "False"
       ]
      }
     ],
     "prompt_number": 3
    },
    {
     "cell_type": "markdown",
     "metadata": {},
     "source": [
      "\n",
      "def passwordCheck(passkey,CPP=None):\n",
      "    dbName=ConfigSectionMap('databaseinfo')['databasename']\n",
      "    dbIndexKey=ConfigSectionMap('databaseinfo')['indexkey']\n",
      "    db=Database(dbName)\n",
      "    try:\n",
      "        if(db.exists()):\n",
      "            db.open()\n",
      "            db.id_ind.enc_key = passkey\n",
      "            #try to load master index\n",
      "            masterRow = db.get('id', dbIndexKey, with_doc=True)\n",
      "            db.close()\n",
      "            if(CPP!=None):\n",
      "                log.CaptureStdout(\"True\")\n",
      "            return True\n",
      "    except ValueError,TypeError:\n",
      "        #bad marshall data\n",
      "        db.close()\n",
      "        if(CPP!=None):\n",
      "            log.CaptureStdout(\"False\")\n",
      "        return False\n"
     ]
    },
    {
     "cell_type": "heading",
     "level": 1,
     "metadata": {},
     "source": [
      "Question Input"
     ]
    },
    {
     "cell_type": "heading",
     "level": 2,
     "metadata": {},
     "source": [
      "Format:"
     ]
    },
    {
     "cell_type": "heading",
     "level": 3,
     "metadata": {},
     "source": [
      "\n",
      "{\n",
      "'a':{'active':'True','typ':'slider','range':'0-100','aggregate':'True', 'multipoint':'True'},\n",
      "\n",
      "'b':{'active':'True','typ':'slider','range':'0-100','aggregate':'True', 'multipoint':'False'},\n",
      "\n",
      "'c':{'active':'True','typ':'slider','range':'0-100','aggregate':'False', 'multipoint':'True'},\n",
      "\n",
      "'d':{'active':'True','typ':'slider','range':'0-100','aggregate':'False', 'multipoint':'False'},\n",
      "\n",
      "'note':{'active':'True','typ':'note', 'aggregate':'False','multipoint':\"False\"}\n",
      "}\n"
     ]
    },
    {
     "cell_type": "code",
     "collapsed": false,
     "input": [
      "#insert question\n",
      "question_set1 = {'a':{'active':'True','typ':'slider','range':'0-100','aggregate':'True', 'multipoint':'True'},'b':{'active':'True','typ':'slider','range':'0-100','aggregate':'True', 'multipoint':'False'}}\n",
      "question_set2 = {'a':{'active':'unInit','typ':'slider','range':'0-100','aggregate':'True', 'multipoint':'True'},'b':{'active':'True','typ':'slider','range':'0-100','aggregate':'True', 'multipoint':'False'},'c':{'active':'True','typ':'slider','range':'0-100','aggregate':'False', 'multipoint':'True'},'d':{'active':'True','typ':'slider','range':'0-100','aggregate':'False', 'multipoint':'False'},'note':{'active':'True','typ':'note', 'aggregate':'False', 'multipoint':\"False\"}}\n",
      "question_set3_test = {'a':{'active':'unInit','typ':'slider','range':'0-100','aggregate':'True', 'multipoint':'True'},'b':{'active':'True','typ':'slider','range':'0-100','aggregate':'True', 'multipoint':'True'},'c':{'active':'False','typ':'slider','range':'0-100','aggregate':'False', 'multipoint':'True'},'d':{'active':'True','typ':'slider','range':'0-100','aggregate':'False', 'multipoint':'False'},'note':{'active':'True','typ':'note', 'aggregate':'False', 'multipoint':\"True\"}}\n",
      "from SecApp.DBQuestionClass import SecuQ\n",
      "initQ = SecuQ('')\n",
      "\n",
      "\n",
      "initQ.questionInsert(question_set3_test,descriptor='inclusive')\n",
      "\n",
      "#question output\n",
      "\n",
      "#initQ.active\n",
      "#initQ.multipoint\n",
      "#initQ.aggregate\n",
      "#initQ.typ\n",
      "initQ.valid"
     ],
     "language": "python",
     "metadata": {},
     "outputs": [
      {
       "metadata": {},
       "output_type": "pyout",
       "prompt_number": 2,
       "text": [
        "{'a': {'active': 'unInit',\n",
        "  'aggregate': 'True',\n",
        "  'multipoint': 'True',\n",
        "  'range': '0-100',\n",
        "  'typ': 'slider'},\n",
        " 'b': {'active': 'True',\n",
        "  'aggregate': 'True',\n",
        "  'multipoint': 'True',\n",
        "  'range': '0-100',\n",
        "  'typ': 'slider'},\n",
        " 'd': {'active': 'True',\n",
        "  'aggregate': 'False',\n",
        "  'multipoint': 'False',\n",
        "  'range': '0-100',\n",
        "  'typ': 'slider'},\n",
        " 'dependant_question': {'active': 'True',\n",
        "  'aggregate': 'False',\n",
        "  'multipoint': 'False',\n",
        "  'range': '0-100',\n",
        "  'typ': 'slider'},\n",
        " 'independant_question': {'active': 'True',\n",
        "  'aggregate': 'False',\n",
        "  'multipoint': 'True',\n",
        "  'range': '0-100',\n",
        "  'typ': 'slider'},\n",
        " 'note': {'active': 'True',\n",
        "  'aggregate': 'False',\n",
        "  'multipoint': 'True',\n",
        "  'typ': 'note'}}"
       ]
      }
     ],
     "prompt_number": 2
    },
    {
     "cell_type": "heading",
     "level": 1,
     "metadata": {},
     "source": [
      "Question Output"
     ]
    },
    {
     "cell_type": "code",
     "collapsed": false,
     "input": [
      "from SecApp.DBQuestionClass import SecuQ\n",
      "initQ = SecuQ('')\n",
      "\n",
      "\n",
      "initQ.all"
     ],
     "language": "python",
     "metadata": {},
     "outputs": [
      {
       "metadata": {},
       "output_type": "pyout",
       "prompt_number": 2,
       "text": [
        "{'a': {'active': 'unInit',\n",
        "  'aggregate': 'True',\n",
        "  'multipoint': 'True',\n",
        "  'range': '0-100',\n",
        "  'typ': 'slider'},\n",
        " 'b': {'active': 'True',\n",
        "  'aggregate': 'True',\n",
        "  'multipoint': 'True',\n",
        "  'range': '0-100',\n",
        "  'typ': 'slider'},\n",
        " 'c': {'active': 'False',\n",
        "  'aggregate': 'False',\n",
        "  'multipoint': 'True',\n",
        "  'range': '0-100',\n",
        "  'typ': 'slider'},\n",
        " 'd': {'active': 'True',\n",
        "  'aggregate': 'False',\n",
        "  'multipoint': 'False',\n",
        "  'range': '0-100',\n",
        "  'typ': 'slider'},\n",
        " 'dependant_question': {'active': 'True',\n",
        "  'aggregate': 'False',\n",
        "  'multipoint': 'False',\n",
        "  'range': '0-100',\n",
        "  'typ': 'slider'},\n",
        " 'independant_question': {'active': 'True',\n",
        "  'aggregate': 'False',\n",
        "  'multipoint': 'True',\n",
        "  'range': '0-100',\n",
        "  'typ': 'slider'},\n",
        " 'note': {'active': 'True',\n",
        "  'aggregate': 'False',\n",
        "  'multipoint': 'True',\n",
        "  'typ': 'note'}}"
       ]
      }
     ],
     "prompt_number": 2
    },
    {
     "cell_type": "heading",
     "level": 1,
     "metadata": {},
     "source": [
      "Data Input"
     ]
    },
    {
     "cell_type": "heading",
     "level": 3,
     "metadata": {},
     "source": [
      "Format (MUST BE RAW STRING):"
     ]
    },
    {
     "cell_type": "markdown",
     "metadata": {},
     "source": [
      "{'a' : 2, 'b': 14 , 'c': 11, 'd': 43, 'note' : 'hello'}"
     ]
    },
    {
     "cell_type": "code",
     "collapsed": false,
     "input": [
      "#insert data\n",
      "data1 = {'a' : 2}\n",
      "data2 = {'a' : 2, 'b': 14 , 'c': 11, 'd': 43, 'note' : 'first day was okay'}\n",
      "from SecApp.DBInputClass import SecuIn\n",
      "initDI = SecuIn('key123')\n",
      "initDI.questionDataIN(str(data1))"
     ],
     "language": "python",
     "metadata": {},
     "outputs": [],
     "prompt_number": 4
    },
    {
     "cell_type": "code",
     "collapsed": false,
     "input": [
      "def saveresponsedata(passkey,data): # input\n",
      "\n",
      "\tfrom SecApp.DBInputClass import SecuIn\n",
      "\tinitDI = SecuIn(passkey)\n",
      "\tprint data\n",
      "\tinitDI.questionDataIN(str(data))\n",
      "\treturn True\n",
      "\n",
      "\n",
      "saveresponsedata('key123','{\"test\":\"35\"}')"
     ],
     "language": "python",
     "metadata": {},
     "outputs": [
      {
       "output_type": "stream",
       "stream": "stdout",
       "text": [
        "{\"test\":\"35\"}\n"
       ]
      },
      {
       "metadata": {},
       "output_type": "pyout",
       "prompt_number": 12,
       "text": [
        "True"
       ]
      }
     ],
     "prompt_number": 12
    },
    {
     "cell_type": "code",
     "collapsed": false,
     "input": [
      "if(True): print 'hello'"
     ],
     "language": "python",
     "metadata": {},
     "outputs": [
      {
       "output_type": "stream",
       "stream": "stdout",
       "text": [
        "hello\n"
       ]
      }
     ],
     "prompt_number": 13
    },
    {
     "cell_type": "heading",
     "level": 1,
     "metadata": {},
     "source": [
      "Data Output"
     ]
    },
    {
     "cell_type": "heading",
     "level": 3,
     "metadata": {},
     "source": [
      "parse data methods:"
     ]
    },
    {
     "cell_type": "code",
     "collapsed": false,
     "input": [
      "#read out data\n",
      "from SecApp.DBOutputClass import SecuFrame\n",
      "initDO = SecuFrame('')\n",
      "#initDO.dbparseable\n",
      "initDO.iffo()\n",
      "#initDO.dbfiltered\n",
      "initDO.dbdatemapped \n",
      "\n",
      "#read out graphable data\n",
      "#initDO.iffo().igraph().graphFrame\n",
      "\n",
      "#initDO = SecuFrame('key123','today') #get today only\n",
      "#initDO.iffo().dayresponse().responseFrame\n"
     ],
     "language": "python",
     "metadata": {},
     "outputs": [
      {
       "metadata": {},
       "output_type": "pyout",
       "prompt_number": 4,
       "text": [
        "{'2014-07-28 04:59:26': {'b': 43, 'd': 50},\n",
        " '2014-07-28 06:59:26': {'b': 39, 'd': 63},\n",
        " '2014-07-28 08:59:26': {'b': 81, 'd': 3},\n",
        " '2014-07-28 10:59:26': {'b': 81, 'd': 43},\n",
        " '2014-07-28 12:59:26': {'b': 11, 'd': 67},\n",
        " '2014-07-29 04:59:26': {'b': 30, 'd': 71},\n",
        " '2014-07-29 06:59:26': {'b': 65, 'd': 50},\n",
        " '2014-07-29 08:59:26': {'b': 64, 'd': 41},\n",
        " '2014-07-29 10:59:26': {'b': 39, 'd': 21},\n",
        " '2014-07-29 12:59:26': {'b': 65, 'd': 11},\n",
        " '2014-07-30 04:59:26': {'b': 72, 'd': 34},\n",
        " '2014-07-30 06:59:26': {'b': 12, 'd': 31},\n",
        " '2014-07-30 08:59:26': {'b': 41, 'd': 91},\n",
        " '2014-07-30 10:59:26': {'b': 47, 'd': 27},\n",
        " '2014-07-30 12:59:26': {'b': 26, 'd': 61},\n",
        " '2014-07-31 04:59:26': {'b': 49, 'd': 16},\n",
        " '2014-07-31 06:59:26': {'b': 75, 'd': 85},\n",
        " '2014-07-31 08:59:26': {'b': 87, 'd': 35},\n",
        " '2014-07-31 10:59:26': {'b': 96, 'd': 17},\n",
        " '2014-07-31 12:59:26': {'b': 98, 'd': 82},\n",
        " '2014-08-01 04:59:26': {'b': 17, 'd': 69},\n",
        " '2014-08-01 06:59:26': {'b': 4, 'd': 44},\n",
        " '2014-08-01 08:59:26': {'b': 81, 'd': 5},\n",
        " '2014-08-01 10:59:26': {'b': 68, 'd': 20},\n",
        " '2014-08-01 12:59:26': {'b': 47, 'd': 43},\n",
        " '2014-08-02 04:59:26': {'b': 57, 'd': 94},\n",
        " '2014-08-02 06:59:26': {'b': 96, 'd': 32},\n",
        " '2014-08-02 08:59:26': {'b': 19, 'd': 66},\n",
        " '2014-08-02 10:59:26': {'b': 41, 'd': 50},\n",
        " '2014-08-02 12:59:26': {'b': 19, 'd': 92},\n",
        " '2014-08-03 04:59:26': {'b': 32, 'd': 30},\n",
        " '2014-08-03 06:59:26': {'b': 22, 'd': 51},\n",
        " '2014-08-03 08:59:26': {'b': 96, 'd': 72},\n",
        " '2014-08-03 10:59:26': {'b': 45, 'd': 60},\n",
        " '2014-08-03 12:59:26': {'b': 60, 'd': 100},\n",
        " '2014-08-04 04:59:26': {'b': 36, 'd': 49},\n",
        " '2014-08-04 06:59:26': {'b': 51, 'd': 24},\n",
        " '2014-08-04 08:59:26': {'b': 38, 'd': 13},\n",
        " '2014-08-04 10:59:26': {'b': 24, 'd': 52},\n",
        " '2014-08-04 12:59:26': {'b': 43, 'd': 77},\n",
        " '2014-08-05 04:59:26': {'b': 2, 'd': 57},\n",
        " '2014-08-05 06:59:26': {'b': 70, 'd': 71},\n",
        " '2014-08-05 08:59:26': {'b': 11, 'd': 100},\n",
        " '2014-08-05 10:59:26': {'b': 18, 'd': 99},\n",
        " '2014-08-05 12:59:26': {'b': 24, 'd': 14},\n",
        " '2014-08-06 04:59:26': {'b': 56, 'd': 42},\n",
        " '2014-08-06 06:59:26': {'b': 30, 'd': 6},\n",
        " '2014-08-06 08:59:26': {'b': 85, 'd': 100},\n",
        " '2014-08-06 10:59:26': {'b': 25, 'd': 3},\n",
        " '2014-08-06 12:59:26': {'b': 88, 'd': 74},\n",
        " '2014-08-07 04:59:26': {'b': 94, 'd': 70},\n",
        " '2014-08-07 06:59:26': {'b': 100, 'd': 98},\n",
        " '2014-08-07 08:59:26': {'b': 56, 'd': 56},\n",
        " '2014-08-07 10:59:26': {'b': 51, 'd': 24},\n",
        " '2014-08-07 12:59:26': {'b': 9, 'd': 5},\n",
        " '2014-08-08 04:59:26': {'b': 3, 'd': 47},\n",
        " '2014-08-08 06:59:26': {'b': 8, 'd': 4},\n",
        " '2014-08-08 08:59:26': {'b': 74, 'd': 47},\n",
        " '2014-08-08 10:59:26': {'b': 63, 'd': 52},\n",
        " '2014-08-08 12:59:26': {'b': 65, 'd': 91},\n",
        " '2014-08-09 04:59:26': {'b': 58, 'd': 28},\n",
        " '2014-08-09 06:59:26': {'b': 23, 'd': 76},\n",
        " '2014-08-09 08:59:26': {'b': 23, 'd': 37},\n",
        " '2014-08-09 10:59:26': {'b': 28, 'd': 47},\n",
        " '2014-08-09 12:59:26': {'b': 5, 'd': 6},\n",
        " '2014-08-10 04:59:26': {'b': 13, 'd': 52},\n",
        " '2014-08-10 06:59:26': {'b': 90, 'd': 56},\n",
        " '2014-08-10 08:59:26': {'b': 74, 'd': 37},\n",
        " '2014-08-10 10:59:26': {'b': 28, 'd': 86},\n",
        " '2014-08-10 12:59:26': {'b': 8, 'd': 62},\n",
        " '2014-08-11 04:59:26': {'b': 93, 'd': 5},\n",
        " '2014-08-11 06:59:26': {'b': 8, 'd': 52},\n",
        " '2014-08-11 08:59:26': {'b': 92, 'd': 70},\n",
        " '2014-08-11 10:59:26': {'b': 73, 'd': 18},\n",
        " '2014-08-11 12:59:26': {'b': 2, 'd': 46},\n",
        " '2014-08-12 04:59:26': {'b': 55, 'd': 65},\n",
        " '2014-08-12 06:59:26': {'b': 75, 'd': 21},\n",
        " '2014-08-12 08:59:26': {'b': 92, 'd': 85},\n",
        " '2014-08-12 10:59:26': {'b': 74, 'd': 69},\n",
        " '2014-08-12 12:59:26': {'b': 62, 'd': 30},\n",
        " '2014-08-13 04:59:26': {'b': 35, 'd': 40},\n",
        " '2014-08-13 06:59:26': {'b': 12, 'd': 90},\n",
        " '2014-08-13 08:59:26': {'b': 47, 'd': 76},\n",
        " '2014-08-13 10:59:26': {'b': 100, 'd': 35},\n",
        " '2014-08-13 12:59:26': {'b': 8, 'd': 62},\n",
        " '2014-08-14 04:59:26': {'b': 53, 'd': 6},\n",
        " '2014-08-14 06:59:26': {'b': 96, 'd': 15},\n",
        " '2014-08-14 08:59:26': {'b': 96, 'd': 62},\n",
        " '2014-08-14 10:59:26': {'b': 88, 'd': 94},\n",
        " '2014-08-14 12:59:26': {'b': 69, 'd': 31},\n",
        " '2014-08-15 04:59:26': {'b': 81, 'd': 28},\n",
        " '2014-08-15 06:59:26': {'b': 83, 'd': 74},\n",
        " '2014-08-15 08:59:26': {'b': 12, 'd': 24},\n",
        " '2014-08-15 10:59:26': {'b': 88, 'd': 46},\n",
        " '2014-08-15 12:59:26': {'b': 10, 'd': 96},\n",
        " '2014-08-16 04:59:26': {'b': 92, 'd': 80},\n",
        " '2014-08-16 06:59:26': {'b': 9, 'd': 26},\n",
        " '2014-08-16 08:59:26': {'b': 56, 'd': 23},\n",
        " '2014-08-16 10:59:26': {'b': 18, 'd': 53},\n",
        " '2014-08-16 12:59:26': {'b': 35, 'd': 90},\n",
        " '2014-7-28 00:00:00.000000': {'a': 90, 'c': 68},\n",
        " '2014-7-29 00:00:00.000000': {'a': 77, 'c': 72},\n",
        " '2014-7-30 00:00:00.000000': {'a': 13, 'c': 44},\n",
        " '2014-7-31 00:00:00.000000': {'a': 19, 'c': 78},\n",
        " '2014-8-1 00:00:00.000000': {'a': 70, 'c': 75},\n",
        " '2014-8-10 00:00:00.000000': {'a': 84, 'c': 5},\n",
        " '2014-8-11 00:00:00.000000': {'a': 18, 'c': 18},\n",
        " '2014-8-12 00:00:00.000000': {'a': 19, 'c': 8},\n",
        " '2014-8-13 00:00:00.000000': {'a': 97, 'c': 55},\n",
        " '2014-8-14 00:00:00.000000': {'a': 40, 'c': 66},\n",
        " '2014-8-15 00:00:00.000000': {'a': 55, 'c': 53},\n",
        " '2014-8-16 00:00:00.000000': {'a': 16, 'c': 2},\n",
        " '2014-8-18 00:00:00.000000': {'a': 89, 'c': 40},\n",
        " '2014-8-2 00:00:00.000000': {'a': 65, 'c': 95},\n",
        " '2014-8-3 00:00:00.000000': {'a': 50, 'c': 24},\n",
        " '2014-8-4 00:00:00.000000': {'a': 10, 'c': 25},\n",
        " '2014-8-5 00:00:00.000000': {'a': 3, 'c': 92},\n",
        " '2014-8-6 00:00:00.000000': {'a': 91, 'c': 1},\n",
        " '2014-8-7 00:00:00.000000': {'a': 71, 'c': 96},\n",
        " '2014-8-8 00:00:00.000000': {'a': 23, 'c': 24},\n",
        " '2014-8-9 00:00:00.000000': {'a': 91, 'c': 18}}"
       ]
      }
     ],
     "prompt_number": 4
    },
    {
     "cell_type": "code",
     "collapsed": false,
     "input": [
      "from SecApp.DBOutputClass import SecuFrame\n",
      "initDO = SecuFrame('')\n",
      "timeObj=initDO.iffo().orderedmap().processFrameList\n",
      "timeObj"
     ],
     "language": "python",
     "metadata": {},
     "outputs": [
      {
       "metadata": {},
       "output_type": "pyout",
       "prompt_number": 6,
       "text": [
        "[{datetime.datetime(2014, 7, 23, 0, 0): {'dependant_question': 7}},\n",
        " {datetime.datetime(2014, 7, 23, 12, 22, 43): {'independant_question': 9}},\n",
        " {datetime.datetime(2014, 7, 23, 14, 22, 43): {'independant_question': 10}},\n",
        " {datetime.datetime(2014, 7, 23, 16, 22, 43): {'independant_question': 5}},\n",
        " {datetime.datetime(2014, 7, 23, 18, 22, 43): {'independant_question': 7}},\n",
        " {datetime.datetime(2014, 7, 23, 20, 22, 43): {'independant_question': 10}},\n",
        " {datetime.datetime(2014, 7, 24, 0, 0): {'dependant_question': 1}},\n",
        " {datetime.datetime(2014, 7, 24, 12, 22, 43): {'independant_question': 10}},\n",
        " {datetime.datetime(2014, 7, 24, 14, 22, 43): {'independant_question': 4}},\n",
        " {datetime.datetime(2014, 7, 24, 16, 22, 43): {'independant_question': 6}},\n",
        " {datetime.datetime(2014, 7, 24, 18, 22, 43): {'independant_question': 2}},\n",
        " {datetime.datetime(2014, 7, 24, 20, 22, 43): {'independant_question': 4}},\n",
        " {datetime.datetime(2014, 7, 25, 0, 0): {'dependant_question': 9}},\n",
        " {datetime.datetime(2014, 7, 25, 12, 22, 43): {'independant_question': 8}},\n",
        " {datetime.datetime(2014, 7, 25, 14, 22, 43): {'independant_question': 9}},\n",
        " {datetime.datetime(2014, 7, 25, 16, 22, 43): {'independant_question': 8}},\n",
        " {datetime.datetime(2014, 7, 25, 18, 22, 43): {'independant_question': 3}},\n",
        " {datetime.datetime(2014, 7, 25, 20, 22, 43): {'independant_question': 2}},\n",
        " {datetime.datetime(2014, 7, 26, 0, 0): {'dependant_question': 3}},\n",
        " {datetime.datetime(2014, 7, 26, 12, 22, 43): {'independant_question': 3}},\n",
        " {datetime.datetime(2014, 7, 26, 14, 22, 43): {'independant_question': 3}},\n",
        " {datetime.datetime(2014, 7, 26, 16, 22, 43): {'independant_question': 4}},\n",
        " {datetime.datetime(2014, 7, 26, 18, 22, 43): {'independant_question': 8}},\n",
        " {datetime.datetime(2014, 7, 26, 20, 22, 43): {'independant_question': 4}},\n",
        " {datetime.datetime(2014, 7, 27, 0, 0): {'dependant_question': 7}},\n",
        " {datetime.datetime(2014, 7, 27, 12, 22, 43): {'independant_question': 1}},\n",
        " {datetime.datetime(2014, 7, 27, 14, 22, 43): {'independant_question': 1}},\n",
        " {datetime.datetime(2014, 7, 27, 16, 22, 43): {'independant_question': 5}},\n",
        " {datetime.datetime(2014, 7, 27, 18, 22, 43): {'independant_question': 8}},\n",
        " {datetime.datetime(2014, 7, 27, 20, 22, 43): {'independant_question': 6}},\n",
        " {datetime.datetime(2014, 7, 28, 0, 0): {'dependant_question': 3}},\n",
        " {datetime.datetime(2014, 7, 28, 12, 22, 43): {'independant_question': 6}},\n",
        " {datetime.datetime(2014, 7, 28, 14, 22, 43): {'independant_question': 9}},\n",
        " {datetime.datetime(2014, 7, 28, 16, 22, 43): {'independant_question': 7}},\n",
        " {datetime.datetime(2014, 7, 28, 18, 22, 43): {'independant_question': 8}},\n",
        " {datetime.datetime(2014, 7, 28, 20, 22, 43): {'independant_question': 6}},\n",
        " {datetime.datetime(2014, 7, 29, 0, 0): {'dependant_question': 6}},\n",
        " {datetime.datetime(2014, 7, 29, 12, 22, 43): {'independant_question': 1}},\n",
        " {datetime.datetime(2014, 7, 29, 14, 22, 43): {'independant_question': 1}},\n",
        " {datetime.datetime(2014, 7, 29, 16, 22, 43): {'independant_question': 7}},\n",
        " {datetime.datetime(2014, 7, 29, 18, 22, 43): {'independant_question': 2}},\n",
        " {datetime.datetime(2014, 7, 29, 20, 22, 43): {'independant_question': 2}},\n",
        " {datetime.datetime(2014, 7, 30, 0, 0): {'dependant_question': 10}},\n",
        " {datetime.datetime(2014, 7, 30, 12, 22, 43): {'independant_question': 1}},\n",
        " {datetime.datetime(2014, 7, 30, 14, 22, 43): {'independant_question': 7}},\n",
        " {datetime.datetime(2014, 7, 30, 16, 22, 43): {'independant_question': 9}},\n",
        " {datetime.datetime(2014, 7, 30, 18, 22, 43): {'independant_question': 7}},\n",
        " {datetime.datetime(2014, 7, 30, 20, 22, 43): {'independant_question': 10}},\n",
        " {datetime.datetime(2014, 7, 31, 0, 0): {'dependant_question': 9}},\n",
        " {datetime.datetime(2014, 7, 31, 12, 22, 43): {'independant_question': 10}},\n",
        " {datetime.datetime(2014, 7, 31, 14, 22, 43): {'independant_question': 9}},\n",
        " {datetime.datetime(2014, 7, 31, 16, 22, 43): {'independant_question': 8}},\n",
        " {datetime.datetime(2014, 7, 31, 18, 22, 43): {'independant_question': 1}},\n",
        " {datetime.datetime(2014, 7, 31, 20, 22, 43): {'independant_question': 8}},\n",
        " {datetime.datetime(2014, 8, 1, 0, 0): {'dependant_question': 9}},\n",
        " {datetime.datetime(2014, 8, 1, 12, 22, 43): {'independant_question': 5}},\n",
        " {datetime.datetime(2014, 8, 1, 14, 22, 43): {'independant_question': 6}},\n",
        " {datetime.datetime(2014, 8, 1, 16, 22, 43): {'independant_question': 8}},\n",
        " {datetime.datetime(2014, 8, 1, 18, 22, 43): {'independant_question': 9}},\n",
        " {datetime.datetime(2014, 8, 1, 20, 22, 43): {'independant_question': 5}},\n",
        " {datetime.datetime(2014, 8, 2, 0, 0): {'dependant_question': 9}},\n",
        " {datetime.datetime(2014, 8, 2, 12, 22, 43): {'independant_question': 8}},\n",
        " {datetime.datetime(2014, 8, 2, 14, 22, 43): {'independant_question': 2}},\n",
        " {datetime.datetime(2014, 8, 2, 16, 22, 43): {'independant_question': 7}},\n",
        " {datetime.datetime(2014, 8, 2, 18, 22, 43): {'independant_question': 9}},\n",
        " {datetime.datetime(2014, 8, 2, 20, 22, 43): {'independant_question': 4}},\n",
        " {datetime.datetime(2014, 8, 3, 0, 0): {'dependant_question': 5}},\n",
        " {datetime.datetime(2014, 8, 3, 12, 22, 43): {'independant_question': 4}},\n",
        " {datetime.datetime(2014, 8, 3, 14, 22, 43): {'independant_question': 10}},\n",
        " {datetime.datetime(2014, 8, 3, 16, 22, 43): {'independant_question': 6}},\n",
        " {datetime.datetime(2014, 8, 3, 18, 22, 43): {'independant_question': 10}},\n",
        " {datetime.datetime(2014, 8, 3, 20, 22, 43): {'independant_question': 6}},\n",
        " {datetime.datetime(2014, 8, 4, 0, 0): {'dependant_question': 2}},\n",
        " {datetime.datetime(2014, 8, 4, 12, 22, 43): {'independant_question': 9}},\n",
        " {datetime.datetime(2014, 8, 4, 14, 22, 43): {'independant_question': 10}},\n",
        " {datetime.datetime(2014, 8, 4, 16, 22, 43): {'independant_question': 1}},\n",
        " {datetime.datetime(2014, 8, 4, 18, 22, 43): {'independant_question': 5}},\n",
        " {datetime.datetime(2014, 8, 4, 20, 22, 43): {'independant_question': 5}},\n",
        " {datetime.datetime(2014, 8, 5, 0, 0): {'dependant_question': 5}},\n",
        " {datetime.datetime(2014, 8, 5, 12, 22, 43): {'independant_question': 9}},\n",
        " {datetime.datetime(2014, 8, 5, 14, 22, 43): {'independant_question': 6}},\n",
        " {datetime.datetime(2014, 8, 5, 16, 22, 43): {'independant_question': 9}},\n",
        " {datetime.datetime(2014, 8, 5, 18, 22, 43): {'independant_question': 9}},\n",
        " {datetime.datetime(2014, 8, 5, 20, 22, 43): {'independant_question': 2}},\n",
        " {datetime.datetime(2014, 8, 6, 0, 0): {'dependant_question': 1}},\n",
        " {datetime.datetime(2014, 8, 6, 12, 22, 43): {'independant_question': 6}},\n",
        " {datetime.datetime(2014, 8, 6, 14, 22, 43): {'independant_question': 7}},\n",
        " {datetime.datetime(2014, 8, 6, 16, 22, 43): {'independant_question': 4}},\n",
        " {datetime.datetime(2014, 8, 6, 18, 22, 43): {'independant_question': 2}},\n",
        " {datetime.datetime(2014, 8, 6, 20, 22, 43): {'independant_question': 6}},\n",
        " {datetime.datetime(2014, 8, 7, 0, 0): {'dependant_question': 8}},\n",
        " {datetime.datetime(2014, 8, 7, 12, 22, 43): {'independant_question': 4}},\n",
        " {datetime.datetime(2014, 8, 7, 14, 22, 43): {'independant_question': 2}},\n",
        " {datetime.datetime(2014, 8, 7, 16, 22, 43): {'independant_question': 1}},\n",
        " {datetime.datetime(2014, 8, 7, 18, 22, 43): {'independant_question': 10}},\n",
        " {datetime.datetime(2014, 8, 7, 20, 22, 43): {'independant_question': 4}},\n",
        " {datetime.datetime(2014, 8, 8, 0, 0): {'dependant_question': 7}},\n",
        " {datetime.datetime(2014, 8, 8, 12, 22, 43): {'independant_question': 8}},\n",
        " {datetime.datetime(2014, 8, 8, 14, 22, 43): {'independant_question': 3}},\n",
        " {datetime.datetime(2014, 8, 8, 16, 22, 43): {'independant_question': 3}},\n",
        " {datetime.datetime(2014, 8, 8, 18, 22, 43): {'independant_question': 1}},\n",
        " {datetime.datetime(2014, 8, 8, 20, 22, 43): {'independant_question': 9}},\n",
        " {datetime.datetime(2014, 8, 9, 0, 0): {'dependant_question': 10}},\n",
        " {datetime.datetime(2014, 8, 9, 12, 22, 43): {'independant_question': 1}},\n",
        " {datetime.datetime(2014, 8, 9, 14, 22, 43): {'independant_question': 5}},\n",
        " {datetime.datetime(2014, 8, 9, 16, 22, 43): {'independant_question': 8}},\n",
        " {datetime.datetime(2014, 8, 9, 18, 22, 43): {'independant_question': 3}},\n",
        " {datetime.datetime(2014, 8, 9, 20, 22, 43): {'independant_question': 1}},\n",
        " {datetime.datetime(2014, 8, 10, 0, 0): {'dependant_question': 5}},\n",
        " {datetime.datetime(2014, 8, 10, 12, 22, 43): {'independant_question': 3}},\n",
        " {datetime.datetime(2014, 8, 10, 14, 22, 43): {'independant_question': 1}},\n",
        " {datetime.datetime(2014, 8, 10, 16, 22, 43): {'independant_question': 10}},\n",
        " {datetime.datetime(2014, 8, 10, 18, 22, 43): {'independant_question': 9}},\n",
        " {datetime.datetime(2014, 8, 10, 20, 22, 43): {'independant_question': 6}},\n",
        " {datetime.datetime(2014, 8, 11, 0, 0): {'dependant_question': 10}},\n",
        " {datetime.datetime(2014, 8, 11, 12, 22, 43): {'independant_question': 1}},\n",
        " {datetime.datetime(2014, 8, 11, 14, 22, 43): {'independant_question': 3}},\n",
        " {datetime.datetime(2014, 8, 11, 16, 22, 43): {'independant_question': 7}},\n",
        " {datetime.datetime(2014, 8, 11, 18, 22, 43): {'independant_question': 8}},\n",
        " {datetime.datetime(2014, 8, 11, 20, 22, 43): {'independant_question': 10}},\n",
        " {datetime.datetime(2014, 8, 13, 0, 0): {'dependant_question': 7}}]"
       ]
      }
     ],
     "prompt_number": 6
    },
    {
     "cell_type": "code",
     "collapsed": false,
     "input": [
      "initDO.iffo().orderedmap().processFrameDict"
     ],
     "language": "python",
     "metadata": {},
     "outputs": []
    },
    {
     "cell_type": "heading",
     "level": 4,
     "metadata": {},
     "source": [
      "graph"
     ]
    },
    {
     "cell_type": "code",
     "collapsed": false,
     "input": [
      "initDO = SecuFrame('key123')\n",
      "initDO.iffo().igraph().graphFrame"
     ],
     "language": "python",
     "metadata": {},
     "outputs": [
      {
       "metadata": {},
       "output_type": "pyout",
       "prompt_number": 12,
       "text": [
        "[{'a_aggregate': 4,\n",
        "  'b_aggregate': 28,\n",
        "  'd': 43,\n",
        "  'date': '2014-08-07T00:00:00Z',\n",
        "  'note': 'first day was okay'},\n",
        " {'a': 2,\n",
        "  'b': 14,\n",
        "  'c': 11,\n",
        "  'date': '2014-08-07T23:36:19.973000Z',\n",
        "  'note': 'first day was okay'},\n",
        " {'a': 2,\n",
        "  'b': 14,\n",
        "  'c': 11,\n",
        "  'date': '2014-08-07T23:38:07.261000Z',\n",
        "  'note': 'first day was okay'}]"
       ]
      }
     ],
     "prompt_number": 12
    },
    {
     "cell_type": "heading",
     "level": 1,
     "metadata": {},
     "source": [
      "Upload Database"
     ]
    },
    {
     "cell_type": "code",
     "collapsed": false,
     "input": [
      "#set upload parameters\n",
      "\n",
      "#ENTER PASSWORD\n",
      "configdat = {'action': 'upload', \n",
      "             'location':'dropbox',\n",
      "             'dropboxid':'fflowres@gmail.com',\n",
      "             'password':'', \n",
      "             'dbpassword':'key123'}\n",
      "#validlocation = ['ftp' , 'googledrive' , 'icloud' , 'dropbox' , 'skydrive']\n",
      "from SecApp.ConfigClass import AppConfig\n",
      "DBConfig = AppConfig()\n",
      "DBConfig.putmap('databaseinfo','packtype','compressed')\n",
      "\n",
      "\n",
      "#upload database\n",
      "from SecApp.SyncClass import Sync\n",
      "initsync = Sync()\n",
      "initsync.parseconfigjson(str(configdat))"
     ],
     "language": "python",
     "metadata": {},
     "outputs": [
      {
       "output_type": "stream",
       "stream": "stdout",
       "text": [
        "[Error 32] The process cannot access the file because it is being used by another process: '_secappD2Bs.z.crypt'\n"
       ]
      },
      {
       "metadata": {},
       "output_type": "pyout",
       "prompt_number": 1,
       "text": [
        "\"upload success: True [ERROR, Clean-up]: [Error 32] The process cannot access the file because it is being used by another process: '_secappD2Bs.z.crypt'\""
       ]
      }
     ],
     "prompt_number": 1
    },
    {
     "cell_type": "code",
     "collapsed": false,
     "input": [
      "#ENTER PASSWORD\n",
      "configdat = {'action': 'upload', \n",
      "             'location':'googledrive',\n",
      "             'dbpassword':'key123'}\n",
      "#validlocation = ['ftp' , 'googledrive' , 'icloud' , 'dropbox' , 'skydrive']\n",
      "from SecApp.ConfigClass import AppConfig\n",
      "DBConfig = AppConfig()\n",
      "DBConfig.putmap('databaseinfo','packtype','compressed')\n",
      "\n",
      "\n",
      "#upload database\n",
      "from SecApp.SyncClass import Sync\n",
      "initsync = Sync()\n",
      "initsync.parseconfigjson(str(configdat))"
     ],
     "language": "python",
     "metadata": {},
     "outputs": [
      {
       "output_type": "stream",
       "stream": "stdout",
       "text": [
        "C:\\Python27\\scripts\n",
        "Your browser has been opened to visit:\n",
        "\n",
        "    https://accounts.google.com/o/oauth2/auth?scope=https%3A%2F%2Fwww.googleapis.com%2Fauth%2Fdrive&redirect_uri=http%3A%2F%2Flocalhost%3A8080%2F&response_type=code&client_id=488339403697-t0jpshfv9v08a7tp8spce11uolmvp15v.apps.googleusercontent.com&access_type=offline\n",
        "\n",
        "Authentication successful."
       ]
      },
      {
       "output_type": "stream",
       "stream": "stdout",
       "text": [
        "\n"
       ]
      },
      {
       "metadata": {},
       "output_type": "pyout",
       "prompt_number": 1,
       "text": [
        "True"
       ]
      }
     ],
     "prompt_number": 1
    },
    {
     "cell_type": "heading",
     "level": 3,
     "metadata": {},
     "source": [
      "Get sync config"
     ]
    },
    {
     "cell_type": "code",
     "collapsed": false,
     "input": [
      "from SecApp.SyncClass import Sync\n",
      "initsync = Sync()\n",
      "print initsync.getcloudselection()\n",
      "print \"Cloud Location   : \" + initsync.backup\n",
      "print \"Cloud Credentials: \" + str(initsync.getconfig(initsync.backup))\n"
     ],
     "language": "python",
     "metadata": {},
     "outputs": [
      {
       "output_type": "stream",
       "stream": "stdout",
       "text": [
        "False\n",
        "Cloud Location   : False\n",
        "Cloud Credentials: False\n"
       ]
      }
     ],
     "prompt_number": 1
    },
    {
     "cell_type": "heading",
     "level": 1,
     "metadata": {},
     "source": [
      "Developer Class"
     ]
    },
    {
     "cell_type": "code",
     "collapsed": false,
     "input": [
      "#Developer Class\n",
      "from SecApp.DBBaseClass import Developer\n",
      "dev = Developer('key123')\n",
      "dev.dump()"
     ],
     "language": "python",
     "metadata": {},
     "outputs": [
      {
       "output_type": "stream",
       "stream": "stdout",
       "text": [
        "{'_rev': '0003fa58', '_id': '0495e1e1331240bfa0d004440a4e8063', 'Qindex': '7f2b8a4dee2a4737b123a0410b13f402', 'Tindex': '967c3b875b63438da1b9fb0221a8524e', 't': 'master'}\n",
        "{'a': {'active': 'True', 'aggregate': 'True', 'range': '0-100', 'typ': 'slider', 'multipoint': 'True'}, 'c': {'active': 'True', 'aggregate': 'False', 'range': '0-100', 'typ': 'slider', 'multipoint': 'True'}, 'b': {'active': 'True', 'aggregate': 'True', 'range': '0-100', 'typ': 'slider', 'multipoint': 'True'}, 'd': {'active': 'True', 'aggregate': 'False', 'range': '0-100', 'typ': 'slider', 'multipoint': 'False'}, '_rev': '000d925c', 'note': {'active': 'True', 'aggregate': 'False', 'typ': 'note', 'multipoint': 'True'}, 't': 'Qindex', '_id': '7f2b8a4dee2a4737b123a0410b13f402'}\n",
        "{'table': ['8b568e2a23b4498cad523bcc66741073'], '_rev': '00020a36', '_id': '967c3b875b63438da1b9fb0221a8524e', 't': 'Tindex'}\n",
        "{'a': {'2014-08-07 23:38:07.261000': 2, '2014-08-07 23:36:19.973000': 2}, 'c': {'2014-08-07 23:38:07.261000': 11, '2014-08-07 23:36:19.973000': 11}, 'b': {'2014-08-07 23:38:07.261000': 14, '2014-08-07 23:36:19.973000': 14}, 'd': {'2014-08-07 23:38:07.261000': 43, '2014-08-07 23:36:19.973000': 43}, '_rev': '00031faa', 'note': {'2014-08-07 23:38:07.261000': 'first day was okay', '2014-08-07 23:36:19.973000': 'first day was okay'}, 'date': '2014-8-7 00:00:00.000000', '_id': '8b568e2a23b4498cad523bcc66741073'}\n"
       ]
      }
     ],
     "prompt_number": 11
    },
    {
     "cell_type": "code",
     "collapsed": false,
     "input": [
      "from SecApp.IOClass import AppIO\n",
      "from SecApp.DBBaseClass import Developer\n",
      "dev = Developer('key123')\n",
      "AppIO(dev.dump())"
     ],
     "language": "python",
     "metadata": {},
     "outputs": []
    },
    {
     "cell_type": "code",
     "collapsed": false,
     "input": [
      "from SecApp.FileHandlerClass import FileHandler\n",
      "FH = FileHandler()\n",
      "FH.deletefile(\"_secappDB.z\")"
     ],
     "language": "python",
     "metadata": {},
     "outputs": [
      {
       "metadata": {},
       "output_type": "pyout",
       "prompt_number": 6,
       "text": [
        "True"
       ]
      }
     ],
     "prompt_number": 6
    },
    {
     "cell_type": "code",
     "collapsed": false,
     "input": [
      "from SecApp.SyncClass import Sync\n",
      "initsync = Sync('key123')\n",
      "initsync.upload()"
     ],
     "language": "python",
     "metadata": {},
     "outputs": [],
     "prompt_number": 1
    },
    {
     "cell_type": "code",
     "collapsed": false,
     "input": [
      "import string\n",
      "import random\n",
      "def ssl_seed(size=24, chars=string.ascii_uppercase + string.digits):\n",
      "    return ''.join(random.choice(chars) for _ in range(size))"
     ],
     "language": "python",
     "metadata": {},
     "outputs": [],
     "prompt_number": 7
    },
    {
     "cell_type": "code",
     "collapsed": false,
     "input": [
      "ssl_seed()"
     ],
     "language": "python",
     "metadata": {},
     "outputs": [
      {
       "metadata": {},
       "output_type": "pyout",
       "prompt_number": 8,
       "text": [
        "'JUGKVILAVRNC110E8JAK1TWE'"
       ]
      }
     ],
     "prompt_number": 8
    }
   ],
   "metadata": {}
  }
 ]
}