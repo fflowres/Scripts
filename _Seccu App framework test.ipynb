{
 "metadata": {
  "name": "",
  "signature": "sha256:1b9bf33d1ef236bfd29d71f88b74c68850eb986433b3f4b4e3122b6fe8537da9"
 },
 "nbformat": 3,
 "nbformat_minor": 0,
 "worksheets": [
  {
   "cells": [
    {
     "cell_type": "heading",
     "level": 2,
     "metadata": {},
     "source": [
      "Delete Database & Configuration"
     ]
    },
    {
     "cell_type": "code",
     "collapsed": false,
     "input": [
      "from SecApp.FileHandlerClass import FileHandler\n",
      "fileio = FileHandler()\n",
      "fileio.eraseALL()\n"
     ],
     "language": "python",
     "metadata": {},
     "outputs": [],
     "prompt_number": 1
    },
    {
     "cell_type": "heading",
     "level": 1,
     "metadata": {},
     "source": [
      "Import Database"
     ]
    },
    {
     "cell_type": "code",
     "collapsed": false,
     "input": [
      "from SecApp.ConfigClass import AppConfig\n",
      "from SecApp.DBImportClass import DBImport\n",
      "DBImport('','hello')"
     ],
     "language": "python",
     "metadata": {},
     "outputs": [
      {
       "metadata": {},
       "output_type": "pyout",
       "prompt_number": 3,
       "text": [
        "<SecApp.DBImportClass.DBImport instance at 0x0000000009A270C8>"
       ]
      }
     ],
     "prompt_number": 3
    },
    {
     "cell_type": "heading",
     "level": 2,
     "metadata": {},
     "source": [
      "Create Database"
     ]
    },
    {
     "cell_type": "code",
     "collapsed": false,
     "input": [
      "#create database\n",
      "from SecApp.DBBaseClass import DBSubsystem\n",
      "initdb = DBSubsystem('key123','_secappD2Bs').createDB()"
     ],
     "language": "python",
     "metadata": {},
     "outputs": [],
     "prompt_number": 2
    },
    {
     "cell_type": "heading",
     "level": 2,
     "metadata": {},
     "source": [
      "Check Database"
     ]
    },
    {
     "cell_type": "code",
     "collapsed": false,
     "input": [
      "from SecApp.IntegrityClass import Integrity\n",
      "checkInt = Integrity()\n",
      "checkInt.checkExists()"
     ],
     "language": "python",
     "metadata": {},
     "outputs": [
      {
       "metadata": {},
       "output_type": "pyout",
       "prompt_number": 2,
       "text": [
        "True"
       ]
      }
     ],
     "prompt_number": 2
    },
    {
     "cell_type": "heading",
     "level": 4,
     "metadata": {},
     "source": [
      "check database password"
     ]
    },
    {
     "cell_type": "code",
     "collapsed": false,
     "input": [
      "from SecApp.DBBaseClass import DBIndexSystem\n",
      "DBIndexSystem('thewrongpassworrd').sanitycheck\n",
      "\n"
     ],
     "language": "python",
     "metadata": {},
     "outputs": [
      {
       "output_type": "stream",
       "stream": "stdout",
       "text": [
        "bad index\n"
       ]
      },
      {
       "metadata": {},
       "output_type": "pyout",
       "prompt_number": 3,
       "text": [
        "False"
       ]
      }
     ],
     "prompt_number": 3
    },
    {
     "cell_type": "markdown",
     "metadata": {},
     "source": [
      "\n",
      "def passwordCheck(passkey,CPP=None):\n",
      "    dbName=ConfigSectionMap('databaseinfo')['databasename']\n",
      "    dbIndexKey=ConfigSectionMap('databaseinfo')['indexkey']\n",
      "    db=Database(dbName)\n",
      "    try:\n",
      "        if(db.exists()):\n",
      "            db.open()\n",
      "            db.id_ind.enc_key = passkey\n",
      "            #try to load master index\n",
      "            masterRow = db.get('id', dbIndexKey, with_doc=True)\n",
      "            db.close()\n",
      "            if(CPP!=None):\n",
      "                log.CaptureStdout(\"True\")\n",
      "            return True\n",
      "    except ValueError,TypeError:\n",
      "        #bad marshall data\n",
      "        db.close()\n",
      "        if(CPP!=None):\n",
      "            log.CaptureStdout(\"False\")\n",
      "        return False\n"
     ]
    },
    {
     "cell_type": "heading",
     "level": 1,
     "metadata": {},
     "source": [
      "Question Input"
     ]
    },
    {
     "cell_type": "heading",
     "level": 2,
     "metadata": {},
     "source": [
      "Format:"
     ]
    },
    {
     "cell_type": "heading",
     "level": 3,
     "metadata": {},
     "source": [
      "\n",
      "{\n",
      "'a':{'active':'True','typ':'slider','range':'0-100','aggregate':'True', 'multipoint':'True'},\n",
      "\n",
      "'b':{'active':'True','typ':'slider','range':'0-100','aggregate':'True', 'multipoint':'False'},\n",
      "\n",
      "'c':{'active':'True','typ':'slider','range':'0-100','aggregate':'False', 'multipoint':'True'},\n",
      "\n",
      "'d':{'active':'True','typ':'slider','range':'0-100','aggregate':'False', 'multipoint':'False'},\n",
      "\n",
      "'note':{'active':'True','typ':'note', 'aggregate':'False','multipoint':\"False\"}\n",
      "}\n"
     ]
    },
    {
     "cell_type": "code",
     "collapsed": false,
     "input": [
      "#insert question\n",
      "question_set1 = {'a':{'active':'True','typ':'slider','range':'0-100','aggregate':'True', 'multipoint':'True'},'b':{'active':'True','typ':'slider','range':'0-100','aggregate':'True', 'multipoint':'False'}}\n",
      "question_set2 = {'a':{'active':'unInit','typ':'slider','range':'0-100','aggregate':'True', 'multipoint':'True'},'b':{'active':'True','typ':'slider','range':'0-100','aggregate':'True', 'multipoint':'False'},'c':{'active':'True','typ':'slider','range':'0-100','aggregate':'False', 'multipoint':'True'},'d':{'active':'True','typ':'slider','range':'0-100','aggregate':'False', 'multipoint':'False'},'note':{'active':'True','typ':'note', 'aggregate':'False', 'multipoint':\"False\"}}\n",
      "question_set3_test = {'a':{'active':'unInit','typ':'slider','range':'0-100','aggregate':'True', 'multipoint':'True'},'b':{'active':'True','typ':'slider','range':'0-100','aggregate':'True', 'multipoint':'True'},'c':{'active':'False','typ':'slider','range':'0-100','aggregate':'False', 'multipoint':'True'},'d':{'active':'True','typ':'slider','range':'0-100','aggregate':'False', 'multipoint':'False'},'note':{'active':'True','typ':'note', 'aggregate':'False', 'multipoint':\"True\"}}\n",
      "from SecApp.DBQuestionClass import SecuQ\n",
      "initQ = SecuQ('')\n",
      "\n",
      "\n",
      "initQ.questionInsert(question_set3_test,descriptor='inclusive')\n",
      "\n",
      "#question output\n",
      "\n",
      "#initQ.active\n",
      "#initQ.multipoint\n",
      "#initQ.aggregate\n",
      "#initQ.typ\n",
      "initQ.valid"
     ],
     "language": "python",
     "metadata": {},
     "outputs": [
      {
       "metadata": {},
       "output_type": "pyout",
       "prompt_number": 2,
       "text": [
        "{'a': {'active': 'unInit',\n",
        "  'aggregate': 'True',\n",
        "  'multipoint': 'True',\n",
        "  'range': '0-100',\n",
        "  'typ': 'slider'},\n",
        " 'b': {'active': 'True',\n",
        "  'aggregate': 'True',\n",
        "  'multipoint': 'True',\n",
        "  'range': '0-100',\n",
        "  'typ': 'slider'},\n",
        " 'd': {'active': 'True',\n",
        "  'aggregate': 'False',\n",
        "  'multipoint': 'False',\n",
        "  'range': '0-100',\n",
        "  'typ': 'slider'},\n",
        " 'dependant_question': {'active': 'True',\n",
        "  'aggregate': 'False',\n",
        "  'multipoint': 'False',\n",
        "  'range': '0-100',\n",
        "  'typ': 'slider'},\n",
        " 'independant_question': {'active': 'True',\n",
        "  'aggregate': 'False',\n",
        "  'multipoint': 'True',\n",
        "  'range': '0-100',\n",
        "  'typ': 'slider'},\n",
        " 'note': {'active': 'True',\n",
        "  'aggregate': 'False',\n",
        "  'multipoint': 'True',\n",
        "  'typ': 'note'}}"
       ]
      }
     ],
     "prompt_number": 2
    },
    {
     "cell_type": "heading",
     "level": 1,
     "metadata": {},
     "source": [
      "Question Output"
     ]
    },
    {
     "cell_type": "code",
     "collapsed": false,
     "input": [
      "from SecApp.DBQuestionClass import SecuQ\n",
      "initQ = SecuQ('key123')\n",
      "\n",
      "\n",
      "initQ.all"
     ],
     "language": "python",
     "metadata": {},
     "outputs": [
      {
       "metadata": {},
       "output_type": "pyout",
       "prompt_number": 8,
       "text": [
        "{'a': {'active': 'unInit',\n",
        "  'aggregate': 'True',\n",
        "  'multipoint': 'True',\n",
        "  'range': '0-100',\n",
        "  'typ': 'slider'},\n",
        " 'b': {'active': 'True',\n",
        "  'aggregate': 'True',\n",
        "  'multipoint': 'True',\n",
        "  'range': '0-100',\n",
        "  'typ': 'slider'},\n",
        " 'c': {'active': 'True',\n",
        "  'aggregate': 'False',\n",
        "  'multipoint': 'True',\n",
        "  'range': '0-100',\n",
        "  'typ': 'slider'},\n",
        " 'd': {'active': 'True',\n",
        "  'aggregate': 'False',\n",
        "  'multipoint': 'False',\n",
        "  'range': '0-100',\n",
        "  'typ': 'slider'},\n",
        " 'note': {'active': 'True',\n",
        "  'aggregate': 'False',\n",
        "  'multipoint': 'True',\n",
        "  'typ': 'note'}}"
       ]
      }
     ],
     "prompt_number": 8
    },
    {
     "cell_type": "heading",
     "level": 1,
     "metadata": {},
     "source": [
      "Data Input"
     ]
    },
    {
     "cell_type": "heading",
     "level": 3,
     "metadata": {},
     "source": [
      "Format (MUST BE RAW STRING):"
     ]
    },
    {
     "cell_type": "markdown",
     "metadata": {},
     "source": [
      "{'a' : 2, 'b': 14 , 'c': 11, 'd': 43, 'note' : 'hello'}"
     ]
    },
    {
     "cell_type": "code",
     "collapsed": false,
     "input": [
      "#insert data\n",
      "data1 = {'a' : 2}\n",
      "data2 = {'a' : 2, 'b': 14 , 'c': 11, 'd': 43, 'note' : 'first day was okay'}\n",
      "from SecApp.DBInputClass import SecuIn\n",
      "initDI = SecuIn('key123')\n",
      "initDI.questionDataIN(str(data1))"
     ],
     "language": "python",
     "metadata": {},
     "outputs": [],
     "prompt_number": 4
    },
    {
     "cell_type": "code",
     "collapsed": false,
     "input": [
      "def saveresponsedata(passkey,data): # input\n",
      "\n",
      "\tfrom SecApp.DBInputClass import SecuIn\n",
      "\tinitDI = SecuIn(passkey)\n",
      "\tprint data\n",
      "\tinitDI.questionDataIN(str(data))\n",
      "\treturn True\n",
      "\n",
      "\n",
      "saveresponsedata('key123','{\"test\":\"35\"}')"
     ],
     "language": "python",
     "metadata": {},
     "outputs": [
      {
       "output_type": "stream",
       "stream": "stdout",
       "text": [
        "{\"test\":\"35\"}\n"
       ]
      },
      {
       "metadata": {},
       "output_type": "pyout",
       "prompt_number": 12,
       "text": [
        "True"
       ]
      }
     ],
     "prompt_number": 12
    },
    {
     "cell_type": "code",
     "collapsed": false,
     "input": [
      "if(True): print 'hello'"
     ],
     "language": "python",
     "metadata": {},
     "outputs": [
      {
       "output_type": "stream",
       "stream": "stdout",
       "text": [
        "hello\n"
       ]
      }
     ],
     "prompt_number": 13
    },
    {
     "cell_type": "heading",
     "level": 1,
     "metadata": {},
     "source": [
      "Data Output"
     ]
    },
    {
     "cell_type": "heading",
     "level": 3,
     "metadata": {},
     "source": [
      "parse data methods:"
     ]
    },
    {
     "cell_type": "code",
     "collapsed": false,
     "input": [
      "#read out data\n",
      "from SecApp.DBOutputClass import SecuFrame\n",
      "#initDO = SecuFrame('key123')\n",
      "#initDO.dbparseable\n",
      "#initDO.iffo()\n",
      "#initDO.dbfiltered\n",
      "#initDO.dbdatemapped \n",
      "\n",
      "#read out graphable data\n",
      "#initDO.iffo().igraph().graphFrame\n",
      "\n",
      "initDO = SecuFrame('key123','today') #get today only\n",
      "initDO.iffo().dayresponse().responseFrame\n"
     ],
     "language": "python",
     "metadata": {},
     "outputs": [
      {
       "ename": "TypeError",
       "evalue": "unsupported operand type(s) for +: 'int' and 'str'",
       "output_type": "pyerr",
       "traceback": [
        "\u001b[1;31m---------------------------------------------------------------------------\u001b[0m\n\u001b[1;31mTypeError\u001b[0m                                 Traceback (most recent call last)",
        "\u001b[1;32m<ipython-input-6-2dd46bae364b>\u001b[0m in \u001b[0;36m<module>\u001b[1;34m()\u001b[0m\n\u001b[0;32m     11\u001b[0m \u001b[1;33m\u001b[0m\u001b[0m\n\u001b[0;32m     12\u001b[0m \u001b[0minitDO\u001b[0m \u001b[1;33m=\u001b[0m \u001b[0mSecuFrame\u001b[0m\u001b[1;33m(\u001b[0m\u001b[1;34m'key123'\u001b[0m\u001b[1;33m,\u001b[0m\u001b[1;34m'today'\u001b[0m\u001b[1;33m)\u001b[0m \u001b[1;31m#get today only\u001b[0m\u001b[1;33m\u001b[0m\u001b[0m\n\u001b[1;32m---> 13\u001b[1;33m \u001b[0minitDO\u001b[0m\u001b[1;33m.\u001b[0m\u001b[0miffo\u001b[0m\u001b[1;33m(\u001b[0m\u001b[1;33m)\u001b[0m\u001b[1;33m.\u001b[0m\u001b[0mdayresponse\u001b[0m\u001b[1;33m(\u001b[0m\u001b[1;33m)\u001b[0m\u001b[1;33m.\u001b[0m\u001b[0mresponseFrame\u001b[0m\u001b[1;33m\u001b[0m\u001b[0m\n\u001b[0m",
        "\u001b[1;32mC:\\Python27\\scripts\\SecApp\\DBOutputClass.py\u001b[0m in \u001b[0;36miffo\u001b[1;34m(self, daterange, obey)\u001b[0m\n\u001b[0;32m    206\u001b[0m                                                         \u001b[0maggregate_sum\u001b[0m \u001b[1;33m=\u001b[0m \u001b[1;34m\"\"\u001b[0m\u001b[1;33m\u001b[0m\u001b[0m\n\u001b[0;32m    207\u001b[0m                                                         \u001b[1;32mfor\u001b[0m \u001b[0mpoint\u001b[0m \u001b[1;32min\u001b[0m \u001b[0mdatelist\u001b[0m\u001b[1;33m:\u001b[0m\u001b[1;33m\u001b[0m\u001b[0m\n\u001b[1;32m--> 208\u001b[1;33m                                                                 \u001b[0maggregate_sum\u001b[0m \u001b[1;33m+=\u001b[0m \u001b[0mcurr\u001b[0m\u001b[1;33m[\u001b[0m\u001b[0mquestion\u001b[0m\u001b[1;33m]\u001b[0m\u001b[1;33m[\u001b[0m\u001b[0mpoint\u001b[0m\u001b[1;33m]\u001b[0m \u001b[1;33m+\u001b[0m \u001b[1;34m\"\\n\"\u001b[0m\u001b[1;33m\u001b[0m\u001b[0m\n\u001b[0m\u001b[0;32m    209\u001b[0m \u001b[1;33m\u001b[0m\u001b[0m\n\u001b[0;32m    210\u001b[0m \u001b[1;33m\u001b[0m\u001b[0m\n",
        "\u001b[1;31mTypeError\u001b[0m: unsupported operand type(s) for +: 'int' and 'str'"
       ]
      }
     ],
     "prompt_number": 6
    },
    {
     "cell_type": "code",
     "collapsed": false,
     "input": [
      "from SecApp.DBOutputClass import SecuFrame\n",
      "initDO = SecuFrame('')\n",
      "timeObjinitDO.iffo().orderedmap().processFrameList"
     ],
     "language": "python",
     "metadata": {},
     "outputs": [
      {
       "metadata": {},
       "output_type": "pyout",
       "prompt_number": 2,
       "text": [
        "[{datetime.datetime(2014, 7, 23, 0, 0): {'dependant_question': 7}},\n",
        " {datetime.datetime(2014, 7, 23, 12, 22, 43): {'independant_question': 9}},\n",
        " {datetime.datetime(2014, 7, 23, 14, 22, 43): {'independant_question': 10}},\n",
        " {datetime.datetime(2014, 7, 23, 16, 22, 43): {'independant_question': 5}},\n",
        " {datetime.datetime(2014, 7, 23, 18, 22, 43): {'independant_question': 7}},\n",
        " {datetime.datetime(2014, 7, 23, 20, 22, 43): {'independant_question': 10}},\n",
        " {datetime.datetime(2014, 7, 24, 0, 0): {'dependant_question': 1}},\n",
        " {datetime.datetime(2014, 7, 24, 12, 22, 43): {'independant_question': 10}},\n",
        " {datetime.datetime(2014, 7, 24, 14, 22, 43): {'independant_question': 4}},\n",
        " {datetime.datetime(2014, 7, 24, 16, 22, 43): {'independant_question': 6}},\n",
        " {datetime.datetime(2014, 7, 24, 18, 22, 43): {'independant_question': 2}},\n",
        " {datetime.datetime(2014, 7, 24, 20, 22, 43): {'independant_question': 4}},\n",
        " {datetime.datetime(2014, 7, 25, 0, 0): {'dependant_question': 9}},\n",
        " {datetime.datetime(2014, 7, 25, 12, 22, 43): {'independant_question': 8}},\n",
        " {datetime.datetime(2014, 7, 25, 14, 22, 43): {'independant_question': 9}},\n",
        " {datetime.datetime(2014, 7, 25, 16, 22, 43): {'independant_question': 8}},\n",
        " {datetime.datetime(2014, 7, 25, 18, 22, 43): {'independant_question': 3}},\n",
        " {datetime.datetime(2014, 7, 25, 20, 22, 43): {'independant_question': 2}},\n",
        " {datetime.datetime(2014, 7, 26, 0, 0): {'dependant_question': 3}},\n",
        " {datetime.datetime(2014, 7, 26, 12, 22, 43): {'independant_question': 3}},\n",
        " {datetime.datetime(2014, 7, 26, 14, 22, 43): {'independant_question': 3}},\n",
        " {datetime.datetime(2014, 7, 26, 16, 22, 43): {'independant_question': 4}},\n",
        " {datetime.datetime(2014, 7, 26, 18, 22, 43): {'independant_question': 8}},\n",
        " {datetime.datetime(2014, 7, 26, 20, 22, 43): {'independant_question': 4}},\n",
        " {datetime.datetime(2014, 7, 27, 0, 0): {'dependant_question': 7}},\n",
        " {datetime.datetime(2014, 7, 27, 12, 22, 43): {'independant_question': 1}},\n",
        " {datetime.datetime(2014, 7, 27, 14, 22, 43): {'independant_question': 1}},\n",
        " {datetime.datetime(2014, 7, 27, 16, 22, 43): {'independant_question': 5}},\n",
        " {datetime.datetime(2014, 7, 27, 18, 22, 43): {'independant_question': 8}},\n",
        " {datetime.datetime(2014, 7, 27, 20, 22, 43): {'independant_question': 6}},\n",
        " {datetime.datetime(2014, 7, 28, 0, 0): {'dependant_question': 3}},\n",
        " {datetime.datetime(2014, 7, 28, 12, 22, 43): {'independant_question': 6}},\n",
        " {datetime.datetime(2014, 7, 28, 14, 22, 43): {'independant_question': 9}},\n",
        " {datetime.datetime(2014, 7, 28, 16, 22, 43): {'independant_question': 7}},\n",
        " {datetime.datetime(2014, 7, 28, 18, 22, 43): {'independant_question': 8}},\n",
        " {datetime.datetime(2014, 7, 28, 20, 22, 43): {'independant_question': 6}},\n",
        " {datetime.datetime(2014, 7, 29, 0, 0): {'dependant_question': 6}},\n",
        " {datetime.datetime(2014, 7, 29, 12, 22, 43): {'independant_question': 1}},\n",
        " {datetime.datetime(2014, 7, 29, 14, 22, 43): {'independant_question': 1}},\n",
        " {datetime.datetime(2014, 7, 29, 16, 22, 43): {'independant_question': 7}},\n",
        " {datetime.datetime(2014, 7, 29, 18, 22, 43): {'independant_question': 2}},\n",
        " {datetime.datetime(2014, 7, 29, 20, 22, 43): {'independant_question': 2}},\n",
        " {datetime.datetime(2014, 7, 30, 0, 0): {'dependant_question': 10}},\n",
        " {datetime.datetime(2014, 7, 30, 12, 22, 43): {'independant_question': 1}},\n",
        " {datetime.datetime(2014, 7, 30, 14, 22, 43): {'independant_question': 7}},\n",
        " {datetime.datetime(2014, 7, 30, 16, 22, 43): {'independant_question': 9}},\n",
        " {datetime.datetime(2014, 7, 30, 18, 22, 43): {'independant_question': 7}},\n",
        " {datetime.datetime(2014, 7, 30, 20, 22, 43): {'independant_question': 10}},\n",
        " {datetime.datetime(2014, 7, 31, 0, 0): {'dependant_question': 9}},\n",
        " {datetime.datetime(2014, 7, 31, 12, 22, 43): {'independant_question': 10}},\n",
        " {datetime.datetime(2014, 7, 31, 14, 22, 43): {'independant_question': 9}},\n",
        " {datetime.datetime(2014, 7, 31, 16, 22, 43): {'independant_question': 8}},\n",
        " {datetime.datetime(2014, 7, 31, 18, 22, 43): {'independant_question': 1}},\n",
        " {datetime.datetime(2014, 7, 31, 20, 22, 43): {'independant_question': 8}},\n",
        " {datetime.datetime(2014, 8, 1, 0, 0): {'dependant_question': 9}},\n",
        " {datetime.datetime(2014, 8, 1, 12, 22, 43): {'independant_question': 5}},\n",
        " {datetime.datetime(2014, 8, 1, 14, 22, 43): {'independant_question': 6}},\n",
        " {datetime.datetime(2014, 8, 1, 16, 22, 43): {'independant_question': 8}},\n",
        " {datetime.datetime(2014, 8, 1, 18, 22, 43): {'independant_question': 9}},\n",
        " {datetime.datetime(2014, 8, 1, 20, 22, 43): {'independant_question': 5}},\n",
        " {datetime.datetime(2014, 8, 2, 0, 0): {'dependant_question': 9}},\n",
        " {datetime.datetime(2014, 8, 2, 12, 22, 43): {'independant_question': 8}},\n",
        " {datetime.datetime(2014, 8, 2, 14, 22, 43): {'independant_question': 2}},\n",
        " {datetime.datetime(2014, 8, 2, 16, 22, 43): {'independant_question': 7}},\n",
        " {datetime.datetime(2014, 8, 2, 18, 22, 43): {'independant_question': 9}},\n",
        " {datetime.datetime(2014, 8, 2, 20, 22, 43): {'independant_question': 4}},\n",
        " {datetime.datetime(2014, 8, 3, 0, 0): {'dependant_question': 5}},\n",
        " {datetime.datetime(2014, 8, 3, 12, 22, 43): {'independant_question': 4}},\n",
        " {datetime.datetime(2014, 8, 3, 14, 22, 43): {'independant_question': 10}},\n",
        " {datetime.datetime(2014, 8, 3, 16, 22, 43): {'independant_question': 6}},\n",
        " {datetime.datetime(2014, 8, 3, 18, 22, 43): {'independant_question': 10}},\n",
        " {datetime.datetime(2014, 8, 3, 20, 22, 43): {'independant_question': 6}},\n",
        " {datetime.datetime(2014, 8, 4, 0, 0): {'dependant_question': 2}},\n",
        " {datetime.datetime(2014, 8, 4, 12, 22, 43): {'independant_question': 9}},\n",
        " {datetime.datetime(2014, 8, 4, 14, 22, 43): {'independant_question': 10}},\n",
        " {datetime.datetime(2014, 8, 4, 16, 22, 43): {'independant_question': 1}},\n",
        " {datetime.datetime(2014, 8, 4, 18, 22, 43): {'independant_question': 5}},\n",
        " {datetime.datetime(2014, 8, 4, 20, 22, 43): {'independant_question': 5}},\n",
        " {datetime.datetime(2014, 8, 5, 0, 0): {'dependant_question': 5}},\n",
        " {datetime.datetime(2014, 8, 5, 12, 22, 43): {'independant_question': 9}},\n",
        " {datetime.datetime(2014, 8, 5, 14, 22, 43): {'independant_question': 6}},\n",
        " {datetime.datetime(2014, 8, 5, 16, 22, 43): {'independant_question': 9}},\n",
        " {datetime.datetime(2014, 8, 5, 18, 22, 43): {'independant_question': 9}},\n",
        " {datetime.datetime(2014, 8, 5, 20, 22, 43): {'independant_question': 2}},\n",
        " {datetime.datetime(2014, 8, 6, 0, 0): {'dependant_question': 1}},\n",
        " {datetime.datetime(2014, 8, 6, 12, 22, 43): {'independant_question': 6}},\n",
        " {datetime.datetime(2014, 8, 6, 14, 22, 43): {'independant_question': 7}},\n",
        " {datetime.datetime(2014, 8, 6, 16, 22, 43): {'independant_question': 4}},\n",
        " {datetime.datetime(2014, 8, 6, 18, 22, 43): {'independant_question': 2}},\n",
        " {datetime.datetime(2014, 8, 6, 20, 22, 43): {'independant_question': 6}},\n",
        " {datetime.datetime(2014, 8, 7, 0, 0): {'dependant_question': 8}},\n",
        " {datetime.datetime(2014, 8, 7, 12, 22, 43): {'independant_question': 4}},\n",
        " {datetime.datetime(2014, 8, 7, 14, 22, 43): {'independant_question': 2}},\n",
        " {datetime.datetime(2014, 8, 7, 16, 22, 43): {'independant_question': 1}},\n",
        " {datetime.datetime(2014, 8, 7, 18, 22, 43): {'independant_question': 10}},\n",
        " {datetime.datetime(2014, 8, 7, 20, 22, 43): {'independant_question': 4}},\n",
        " {datetime.datetime(2014, 8, 8, 0, 0): {'dependant_question': 7}},\n",
        " {datetime.datetime(2014, 8, 8, 12, 22, 43): {'independant_question': 8}},\n",
        " {datetime.datetime(2014, 8, 8, 14, 22, 43): {'independant_question': 3}},\n",
        " {datetime.datetime(2014, 8, 8, 16, 22, 43): {'independant_question': 3}},\n",
        " {datetime.datetime(2014, 8, 8, 18, 22, 43): {'independant_question': 1}},\n",
        " {datetime.datetime(2014, 8, 8, 20, 22, 43): {'independant_question': 9}},\n",
        " {datetime.datetime(2014, 8, 9, 0, 0): {'dependant_question': 10}},\n",
        " {datetime.datetime(2014, 8, 9, 12, 22, 43): {'independant_question': 1}},\n",
        " {datetime.datetime(2014, 8, 9, 14, 22, 43): {'independant_question': 5}},\n",
        " {datetime.datetime(2014, 8, 9, 16, 22, 43): {'independant_question': 8}},\n",
        " {datetime.datetime(2014, 8, 9, 18, 22, 43): {'independant_question': 3}},\n",
        " {datetime.datetime(2014, 8, 9, 20, 22, 43): {'independant_question': 1}},\n",
        " {datetime.datetime(2014, 8, 10, 0, 0): {'dependant_question': 5}},\n",
        " {datetime.datetime(2014, 8, 10, 12, 22, 43): {'independant_question': 3}},\n",
        " {datetime.datetime(2014, 8, 10, 14, 22, 43): {'independant_question': 1}},\n",
        " {datetime.datetime(2014, 8, 10, 16, 22, 43): {'independant_question': 10}},\n",
        " {datetime.datetime(2014, 8, 10, 18, 22, 43): {'independant_question': 9}},\n",
        " {datetime.datetime(2014, 8, 10, 20, 22, 43): {'independant_question': 6}},\n",
        " {datetime.datetime(2014, 8, 11, 0, 0): {'dependant_question': 10}},\n",
        " {datetime.datetime(2014, 8, 11, 12, 22, 43): {'independant_question': 1}},\n",
        " {datetime.datetime(2014, 8, 11, 14, 22, 43): {'independant_question': 3}},\n",
        " {datetime.datetime(2014, 8, 11, 16, 22, 43): {'independant_question': 7}},\n",
        " {datetime.datetime(2014, 8, 11, 18, 22, 43): {'independant_question': 8}},\n",
        " {datetime.datetime(2014, 8, 11, 20, 22, 43): {'independant_question': 10}},\n",
        " {datetime.datetime(2014, 8, 13, 0, 0): {'dependant_question': 7}}]"
       ]
      }
     ],
     "prompt_number": 2
    },
    {
     "cell_type": "code",
     "collapsed": false,
     "input": [
      "initDO.iffo().orderedmap().processFrameDict"
     ],
     "language": "python",
     "metadata": {},
     "outputs": []
    },
    {
     "cell_type": "heading",
     "level": 4,
     "metadata": {},
     "source": [
      "graph"
     ]
    },
    {
     "cell_type": "code",
     "collapsed": false,
     "input": [
      "initDO = SecuFrame('key123')\n",
      "initDO.iffo().igraph().graphFrame"
     ],
     "language": "python",
     "metadata": {},
     "outputs": [
      {
       "metadata": {},
       "output_type": "pyout",
       "prompt_number": 12,
       "text": [
        "[{'a_aggregate': 4,\n",
        "  'b_aggregate': 28,\n",
        "  'd': 43,\n",
        "  'date': '2014-08-07T00:00:00Z',\n",
        "  'note': 'first day was okay'},\n",
        " {'a': 2,\n",
        "  'b': 14,\n",
        "  'c': 11,\n",
        "  'date': '2014-08-07T23:36:19.973000Z',\n",
        "  'note': 'first day was okay'},\n",
        " {'a': 2,\n",
        "  'b': 14,\n",
        "  'c': 11,\n",
        "  'date': '2014-08-07T23:38:07.261000Z',\n",
        "  'note': 'first day was okay'}]"
       ]
      }
     ],
     "prompt_number": 12
    },
    {
     "cell_type": "heading",
     "level": 1,
     "metadata": {},
     "source": [
      "Upload Database"
     ]
    },
    {
     "cell_type": "code",
     "collapsed": false,
     "input": [
      "#set upload parameters\n",
      "\n",
      "#ENTER PASSWORD\n",
      "configdat = {'action': 'upload', \n",
      "             'location':'dropbox',\n",
      "             'dropboxid':'fflowres@gmail.com',\n",
      "             'password':'', \n",
      "             'dbpassword':'key123'}\n",
      "#validlocation = ['ftp' , 'googledrive' , 'icloud' , 'dropbox' , 'skydrive']\n",
      "from SecApp.ConfigClass import AppConfig\n",
      "DBConfig = AppConfig()\n",
      "DBConfig.putmap('databaseinfo','packtype','compressed')\n",
      "\n",
      "\n",
      "#upload database\n",
      "from SecApp.SyncClass import Sync\n",
      "initsync = Sync()\n",
      "initsync.parseconfigjson(str(configdat))"
     ],
     "language": "python",
     "metadata": {},
     "outputs": [
      {
       "output_type": "stream",
       "stream": "stdout",
       "text": [
        "[Error 32] The process cannot access the file because it is being used by another process: '_secappD2Bs.z.crypt'\n"
       ]
      },
      {
       "metadata": {},
       "output_type": "pyout",
       "prompt_number": 1,
       "text": [
        "\"upload success: True [ERROR, Clean-up]: [Error 32] The process cannot access the file because it is being used by another process: '_secappD2Bs.z.crypt'\""
       ]
      }
     ],
     "prompt_number": 1
    },
    {
     "cell_type": "code",
     "collapsed": false,
     "input": [
      "#ENTER PASSWORD\n",
      "configdat = {'action': 'upload', \n",
      "             'location':'googledrive',\n",
      "             'dbpassword':'key123'}\n",
      "#validlocation = ['ftp' , 'googledrive' , 'icloud' , 'dropbox' , 'skydrive']\n",
      "from SecApp.ConfigClass import AppConfig\n",
      "DBConfig = AppConfig()\n",
      "DBConfig.putmap('databaseinfo','packtype','compressed')\n",
      "\n",
      "\n",
      "#upload database\n",
      "from SecApp.SyncClass import Sync\n",
      "initsync = Sync()\n",
      "initsync.parseconfigjson(str(configdat))"
     ],
     "language": "python",
     "metadata": {},
     "outputs": [
      {
       "output_type": "stream",
       "stream": "stdout",
       "text": [
        "C:\\Python27\\scripts\n",
        "Your browser has been opened to visit:\n",
        "\n",
        "    https://accounts.google.com/o/oauth2/auth?scope=https%3A%2F%2Fwww.googleapis.com%2Fauth%2Fdrive&redirect_uri=http%3A%2F%2Flocalhost%3A8080%2F&response_type=code&client_id=488339403697-t0jpshfv9v08a7tp8spce11uolmvp15v.apps.googleusercontent.com&access_type=offline\n",
        "\n",
        "Authentication successful."
       ]
      },
      {
       "output_type": "stream",
       "stream": "stdout",
       "text": [
        "\n"
       ]
      },
      {
       "metadata": {},
       "output_type": "pyout",
       "prompt_number": 1,
       "text": [
        "True"
       ]
      }
     ],
     "prompt_number": 1
    },
    {
     "cell_type": "heading",
     "level": 3,
     "metadata": {},
     "source": [
      "Get sync config"
     ]
    },
    {
     "cell_type": "code",
     "collapsed": false,
     "input": [
      "from SecApp.SyncClass import Sync\n",
      "initsync = Sync()\n",
      "print initsync.getcloudselection()\n",
      "print \"Cloud Location   : \" + initsync.backup\n",
      "print \"Cloud Credentials: \" + str(initsync.getconfig(initsync.backup))\n"
     ],
     "language": "python",
     "metadata": {},
     "outputs": [
      {
       "output_type": "stream",
       "stream": "stdout",
       "text": [
        "False\n",
        "Cloud Location   : False\n",
        "Cloud Credentials: None\n"
       ]
      }
     ],
     "prompt_number": 1
    },
    {
     "cell_type": "heading",
     "level": 1,
     "metadata": {},
     "source": [
      "Developer Class"
     ]
    },
    {
     "cell_type": "code",
     "collapsed": false,
     "input": [
      "#Developer Class\n",
      "from SecApp.DBBaseClass import Developer\n",
      "dev = Developer('key123')\n",
      "dev.dump()"
     ],
     "language": "python",
     "metadata": {},
     "outputs": [
      {
       "output_type": "stream",
       "stream": "stdout",
       "text": [
        "{'_rev': '0003fa58', '_id': '0495e1e1331240bfa0d004440a4e8063', 'Qindex': '7f2b8a4dee2a4737b123a0410b13f402', 'Tindex': '967c3b875b63438da1b9fb0221a8524e', 't': 'master'}\n",
        "{'a': {'active': 'True', 'aggregate': 'True', 'range': '0-100', 'typ': 'slider', 'multipoint': 'True'}, 'c': {'active': 'True', 'aggregate': 'False', 'range': '0-100', 'typ': 'slider', 'multipoint': 'True'}, 'b': {'active': 'True', 'aggregate': 'True', 'range': '0-100', 'typ': 'slider', 'multipoint': 'True'}, 'd': {'active': 'True', 'aggregate': 'False', 'range': '0-100', 'typ': 'slider', 'multipoint': 'False'}, '_rev': '000d925c', 'note': {'active': 'True', 'aggregate': 'False', 'typ': 'note', 'multipoint': 'True'}, 't': 'Qindex', '_id': '7f2b8a4dee2a4737b123a0410b13f402'}\n",
        "{'table': ['8b568e2a23b4498cad523bcc66741073'], '_rev': '00020a36', '_id': '967c3b875b63438da1b9fb0221a8524e', 't': 'Tindex'}\n",
        "{'a': {'2014-08-07 23:38:07.261000': 2, '2014-08-07 23:36:19.973000': 2}, 'c': {'2014-08-07 23:38:07.261000': 11, '2014-08-07 23:36:19.973000': 11}, 'b': {'2014-08-07 23:38:07.261000': 14, '2014-08-07 23:36:19.973000': 14}, 'd': {'2014-08-07 23:38:07.261000': 43, '2014-08-07 23:36:19.973000': 43}, '_rev': '00031faa', 'note': {'2014-08-07 23:38:07.261000': 'first day was okay', '2014-08-07 23:36:19.973000': 'first day was okay'}, 'date': '2014-8-7 00:00:00.000000', '_id': '8b568e2a23b4498cad523bcc66741073'}\n"
       ]
      }
     ],
     "prompt_number": 11
    },
    {
     "cell_type": "code",
     "collapsed": false,
     "input": [
      "from SecApp.IOClass import AppIO\n",
      "from SecApp.DBBaseClass import Developer\n",
      "dev = Developer('key123')\n",
      "AppIO(dev.dump())"
     ],
     "language": "python",
     "metadata": {},
     "outputs": []
    },
    {
     "cell_type": "code",
     "collapsed": false,
     "input": [
      "from SecApp.FileHandlerClass import FileHandler\n",
      "FH = FileHandler()\n",
      "FH.deletefile(\"_secappDB.z\")"
     ],
     "language": "python",
     "metadata": {},
     "outputs": [
      {
       "metadata": {},
       "output_type": "pyout",
       "prompt_number": 6,
       "text": [
        "True"
       ]
      }
     ],
     "prompt_number": 6
    },
    {
     "cell_type": "code",
     "collapsed": false,
     "input": [
      "from SecApp.SyncClass import Sync\n",
      "initsync = Sync('key123')\n",
      "initsync.upload()"
     ],
     "language": "python",
     "metadata": {},
     "outputs": [],
     "prompt_number": 1
    },
    {
     "cell_type": "code",
     "collapsed": false,
     "input": [
      "import string\n",
      "import random\n",
      "def ssl_seed(size=24, chars=string.ascii_uppercase + string.digits):\n",
      "    return ''.join(random.choice(chars) for _ in range(size))"
     ],
     "language": "python",
     "metadata": {},
     "outputs": [],
     "prompt_number": 7
    },
    {
     "cell_type": "code",
     "collapsed": false,
     "input": [
      "ssl_seed()"
     ],
     "language": "python",
     "metadata": {},
     "outputs": [
      {
       "metadata": {},
       "output_type": "pyout",
       "prompt_number": 8,
       "text": [
        "'JUGKVILAVRNC110E8JAK1TWE'"
       ]
      }
     ],
     "prompt_number": 8
    }
   ],
   "metadata": {}
  }
 ]
}