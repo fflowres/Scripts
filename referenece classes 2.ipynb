{
 "metadata": {
  "name": "",
  "signature": "sha256:0f14bfae72ddf68ca05f8ab1ada15c7b6a4122a2f9997012f6374e39dbed4ac5"
 },
 "nbformat": 3,
 "nbformat_minor": 0,
 "worksheets": [
  {
   "cells": [
    {
     "cell_type": "code",
     "collapsed": false,
     "input": [],
     "language": "python",
     "metadata": {},
     "outputs": []
    },
    {
     "cell_type": "raw",
     "metadata": {},
     "source": []
    },
    {
     "cell_type": "code",
     "collapsed": false,
     "input": [
      "class ClassA(object):\n",
      "\n",
      "    def __init__(self):\n",
      "        ClassA.var1 = 1\n",
      "        ClassA.var2 = 2\n",
      "\n",
      "\n",
      "class ClassB(object):\n",
      "\n",
      "    def __init__(self):\n",
      "        ClassB.var3 = 6\n",
      "\n",
      "    def trainMeth(self,test):\n",
      "        print ClassMain.var4\n",
      "        print test\n",
      "        return ClassA.var2 * ClassB.var3 \n",
      "        \n",
      "class ClassMain(ClassA,ClassB):\n",
      "    def __init__(self):\n",
      "        ClassMain.var4 =17\n",
      "        print \"ok\"\n",
      "        ClassA.__init__(self)\n",
      "        ClassB.__init__(self)\n",
      "        \n",
      "        print ClassA.var1\n",
      "        print ClassA.var2\n",
      "        print ClassB.var3\n",
      "        print ClassB.trainMeth(self,\"aaa\")\n",
      "\n",
      "object2 = ClassMain()\n"
     ],
     "language": "python",
     "metadata": {},
     "outputs": [
      {
       "output_type": "stream",
       "stream": "stdout",
       "text": [
        "ok\n",
        "1\n",
        "2\n",
        "6\n",
        "17\n",
        "aaa\n",
        "12\n"
       ]
      }
     ],
     "prompt_number": 4
    },
    {
     "cell_type": "code",
     "collapsed": false,
     "input": [
      "print sum"
     ],
     "language": "python",
     "metadata": {},
     "outputs": [
      {
       "output_type": "stream",
       "stream": "stdout",
       "text": [
        "3\n"
       ]
      }
     ],
     "prompt_number": 6
    },
    {
     "cell_type": "raw",
     "metadata": {},
     "source": []
    }
   ],
   "metadata": {}
  }
 ]
}