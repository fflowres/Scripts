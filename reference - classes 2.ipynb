{
 "metadata": {
  "name": "",
  "signature": "sha256:18412ec4a12ccab7bf287617238deb4deb483e2ac032b577ca2ccb25610ea433"
 },
 "nbformat": 3,
 "nbformat_minor": 0,
 "worksheets": [
  {
   "cells": [
    {
     "cell_type": "code",
     "collapsed": false,
     "input": [
      "data = [1,2,3,4,5]"
     ],
     "language": "python",
     "metadata": {},
     "outputs": [],
     "prompt_number": 6
    },
    {
     "cell_type": "code",
     "collapsed": false,
     "input": [
      "class god(object):\n",
      "    def __init__(self):\n",
      "        self.a=data[0]\n",
      "        self.b=data[1]\n",
      "    def add(self,numbers):\n",
      "        if numbers != None:\n",
      "            for num in numbers:\n",
      "                self.value = self.value + num\n",
      "        else:\n",
      "            self.value = self.a + self.b\n",
      "        return self\n",
      "\n",
      "    def multiply(self,numbers):\n",
      "        if (self.value !=None):\n",
      "            self.value = self.value * 50\n",
      "        else:\n",
      "            self.value = self.a * self.b\n",
      "            \n",
      "        return self\n",
      "\n",
      "class operations(object):\n",
      "\n",
      "    def __init__(self):\n",
      "        self.a=data[0]\n",
      "        self.b=data[1]\n",
      "        \n",
      "    def valid(self):\n",
      "        return all(field.valid for field in self.fields)"
     ],
     "language": "python",
     "metadata": {},
     "outputs": [],
     "prompt_number": 30
    },
    {
     "cell_type": "code",
     "collapsed": false,
     "input": [
      "class Person: \n",
      "    def __init__(self,a=\"hunter\"):\n",
      "        self.name = a\n",
      "    def setName(self, name):\n",
      "        self.name = name\n",
      "        return self   ## this is what makes this work\n",
      "\n",
      "    def setAge(self, age):\n",
      "        self.age = age;\n",
      "        return self;\n",
      "\n",
      "    def setSSN(self, ssn):\n",
      "       self.ssn = ssn\n",
      "       return self"
     ],
     "language": "python",
     "metadata": {},
     "outputs": [],
     "prompt_number": 40
    },
    {
     "cell_type": "code",
     "collapsed": false,
     "input": [
      "p = Person()\n",
      "p.setName(\"Hunter\").setAge(24).setSSN(\"111-22-3333\")"
     ],
     "language": "python",
     "metadata": {},
     "outputs": [
      {
       "metadata": {},
       "output_type": "pyout",
       "prompt_number": 41,
       "text": [
        "<__main__.Person instance at 0x0000000009A15588>"
       ]
      }
     ],
     "prompt_number": 41
    },
    {
     "cell_type": "code",
     "collapsed": false,
     "input": [
      "p = Person('ch')"
     ],
     "language": "python",
     "metadata": {},
     "outputs": [],
     "prompt_number": 45
    },
    {
     "cell_type": "code",
     "collapsed": false,
     "input": [
      "p.name"
     ],
     "language": "python",
     "metadata": {},
     "outputs": [
      {
       "metadata": {},
       "output_type": "pyout",
       "prompt_number": 46,
       "text": [
        "'ch'"
       ]
      }
     ],
     "prompt_number": 46
    },
    {
     "cell_type": "code",
     "collapsed": false,
     "input": [
      "print test.multiply()"
     ],
     "language": "python",
     "metadata": {},
     "outputs": [
      {
       "output_type": "stream",
       "stream": "stdout",
       "text": [
        "2\n"
       ]
      }
     ],
     "prompt_number": 28
    },
    {
     "cell_type": "code",
     "collapsed": false,
     "input": [
      "test.add().multiply()"
     ],
     "language": "python",
     "metadata": {},
     "outputs": [
      {
       "ename": "AttributeError",
       "evalue": "'int' object has no attribute 'multiply'",
       "output_type": "pyerr",
       "traceback": [
        "\u001b[1;31m---------------------------------------------------------------------------\u001b[0m\n\u001b[1;31mAttributeError\u001b[0m                            Traceback (most recent call last)",
        "\u001b[1;32m<ipython-input-32-3e9abb824029>\u001b[0m in \u001b[0;36m<module>\u001b[1;34m()\u001b[0m\n\u001b[1;32m----> 1\u001b[1;33m \u001b[0mtest\u001b[0m\u001b[1;33m.\u001b[0m\u001b[0madd\u001b[0m\u001b[1;33m(\u001b[0m\u001b[1;33m)\u001b[0m\u001b[1;33m.\u001b[0m\u001b[0mmultiply\u001b[0m\u001b[1;33m(\u001b[0m\u001b[1;33m)\u001b[0m\u001b[1;33m\u001b[0m\u001b[0m\n\u001b[0m",
        "\u001b[1;31mAttributeError\u001b[0m: 'int' object has no attribute 'multiply'"
       ]
      }
     ],
     "prompt_number": 32
    },
    {
     "cell_type": "code",
     "collapsed": false,
     "input": [],
     "language": "python",
     "metadata": {},
     "outputs": []
    }
   ],
   "metadata": {}
  }
 ]
}