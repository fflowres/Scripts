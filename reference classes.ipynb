{
 "metadata": {
  "name": "",
  "signature": "sha256:1e7837a36842789ad195b43538aa1b53ddbdba234c3bcbfa8ef63e0ea8174ad3"
 },
 "nbformat": 3,
 "nbformat_minor": 0,
 "worksheets": [
  {
   "cells": [
    {
     "cell_type": "code",
     "collapsed": false,
     "input": [
      "class health: \n",
      "    def __init__(self,a=\"45\"):\n",
      "        self.oxygen = a\n",
      "        return self\n",
      "    def setName(self, name):\n",
      "        self.name = name\n",
      "        return self   ## this is what makes this work\n",
      "\n",
      "    def setblood(self, age):\n",
      "        self.blood = age;\n",
      "        return self;\n",
      "\n",
      "    def setglucose(self, ssn):\n",
      "       self.glucose = ssn\n",
      "       return self"
     ],
     "language": "python",
     "metadata": {},
     "outputs": [],
     "prompt_number": 10
    },
    {
     "cell_type": "code",
     "collapsed": false,
     "input": [
      "class Person(health): \n",
      "    def __init__(self,a=\"hunter\"):\n",
      "        self.name = a\n",
      "        health.__init__(self)\n",
      "\n",
      "    def setName(self, name):\n",
      "        self.name = name\n",
      "        return self   ## this is what makes this work\n",
      "\n",
      "    def setAge(self, age):\n",
      "        self.age = age;\n",
      "        return self;\n",
      "\n",
      "    def setSSN(self, ssn):\n",
      "       self.ssn = ssn\n",
      "       return self"
     ],
     "language": "python",
     "metadata": {},
     "outputs": [],
     "prompt_number": 15
    },
    {
     "cell_type": "code",
     "collapsed": false,
     "input": [
      "t = Person()"
     ],
     "language": "python",
     "metadata": {},
     "outputs": [],
     "prompt_number": 19
    },
    {
     "cell_type": "code",
     "collapsed": false,
     "input": [
      "t.setblood('15')"
     ],
     "language": "python",
     "metadata": {},
     "outputs": [
      {
       "metadata": {},
       "output_type": "pyout",
       "prompt_number": 21,
       "text": [
        "<__main__.Person instance at 0x0000000009A5E308>"
       ]
      }
     ],
     "prompt_number": 21
    },
    {
     "cell_type": "code",
     "collapsed": false,
     "input": [
      "t.blood"
     ],
     "language": "python",
     "metadata": {},
     "outputs": [
      {
       "metadata": {},
       "output_type": "pyout",
       "prompt_number": 22,
       "text": [
        "'15'"
       ]
      }
     ],
     "prompt_number": 22
    },
    {
     "cell_type": "code",
     "collapsed": false,
     "input": [
      "t.health.oxygen"
     ],
     "language": "python",
     "metadata": {},
     "outputs": [
      {
       "ename": "AttributeError",
       "evalue": "Person instance has no attribute 'health'",
       "output_type": "pyerr",
       "traceback": [
        "\u001b[1;31m---------------------------------------------------------------------------\u001b[0m\n\u001b[1;31mAttributeError\u001b[0m                            Traceback (most recent call last)",
        "\u001b[1;32m<ipython-input-20-0884c35dad4d>\u001b[0m in \u001b[0;36m<module>\u001b[1;34m()\u001b[0m\n\u001b[1;32m----> 1\u001b[1;33m \u001b[0mt\u001b[0m\u001b[1;33m.\u001b[0m\u001b[0mhealth\u001b[0m\u001b[1;33m.\u001b[0m\u001b[0moxygen\u001b[0m\u001b[1;33m\u001b[0m\u001b[0m\n\u001b[0m",
        "\u001b[1;31mAttributeError\u001b[0m: Person instance has no attribute 'health'"
       ]
      }
     ],
     "prompt_number": 20
    },
    {
     "cell_type": "code",
     "collapsed": false,
     "input": [],
     "language": "python",
     "metadata": {},
     "outputs": []
    }
   ],
   "metadata": {}
  }
 ]
}