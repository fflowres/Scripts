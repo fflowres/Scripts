{
 "metadata": {
  "name": "",
  "signature": "sha256:3edf3fd4ae8ab5703f22f0d11d166b3741bebc8c2eb0a526abf280e18e357674"
 },
 "nbformat": 3,
 "nbformat_minor": 0,
 "worksheets": [
  {
   "cells": [
    {
     "cell_type": "code",
     "collapsed": false,
     "input": [
      "%matplotlib inline\n",
      "import matplotlib.pyplot as plt\n",
      "import numpy\n",
      "import pandas as pd\n",
      "import json"
     ],
     "language": "python",
     "metadata": {},
     "outputs": [
      {
       "output_type": "stream",
       "stream": "stderr",
       "text": [
        "C:\\Python27\\lib\\site-packages\\pandas\\io\\excel.py:626: UserWarning: Installed openpyxl is not supported at this time. Use >=1.6.1 and <2.0.0.\n",
        "  .format(openpyxl_compat.start_ver, openpyxl_compat.stop_ver))\n"
       ]
      }
     ],
     "prompt_number": 1
    },
    {
     "cell_type": "code",
     "collapsed": false,
     "input": [
      "data=[{\"Baseline: Energy (Feeling)\": \"20\", \"_rev\": \"000193fe\", \"Level of Wasted\": \"9\", \"Hours of Sleep\": \"6\", \"date\": \"2014-07-09T12:34:19.000Z\", \"Baseline: General Happiness (Feeling)\": \"29\", \"Minutes Reading\": \"2\", \"Minutes of Excersise ( intense 80% )\": \"30\", \"Baseline: Accomplished (Feeling)\": \"2\", \"Number of Meals\": \"1\", \"_id\": \"e4a3235d933c423ba72443af14aa569c\", \"Baseline: Libido (Feeling)\": \"40\"},{\"Baseline: Energy (Feeling)\": \"80\", \"_rev\": \"00016816\", \"Minutes of Excersise ( intense 80% )\": \"76\", \"Hours of Sleep\": \"1\", \"date\": \"2014-07-09T12:35:17.000Z\", \"Baseline: General Happiness (Feeling)\": \"64\", \"Minutes Reading\": \"62\", \"Level of Wasted\": \"81\", \"Baseline: Accomplished (Feeling)\": \"18\", \"Number of Meals\": \"3\", \"_id\": \"e9de4e61d443482ba6acb42e1d34d5cd\", \"Baseline: Libido (Feeling)\": \"80\"},{\"Baseline: Energy (Feeling)\": \"13\", \"_rev\": \"00012377\", \"Minutes of Excersise ( intense 80% )\": \"0\", \"Hours of Sleep\": \"5\", \"date\": \"2014-07-10T07:46:09.000Z\", \"Baseline: General Happiness (Feeling)\": \"29\", \"Minutes Reading\": \"0\", \"Level of Wasted\": \"0\", \"Baseline: Accomplished (Feeling)\": \"41\", \"Number of Meals\": \"1\", \"_id\": \"0eafa992689646549e13664b58325265\", \"Baseline: Libido (Feeling)\": \"11\"},{\"Baseline: Energy (Feeling)\": \"35\", \"_rev\": \"000106cc\", \"Minutes of Excersise ( intense 80% )\": \"92\", \"Hours of Sleep\": \"6\", \"date\": \"2014-07-10T07:46:44.000Z\", \"Baseline: General Happiness (Feeling)\": \"20\", \"Minutes Reading\": \"103\", \"Level of Wasted\": \"36\", \"Baseline: Accomplished (Feeling)\": \"25\", \"Number of Meals\": \"1\", \"_id\": \"cfc12fcf7f414d6bb6d83e76d96dbb91\", \"Baseline: Libido (Feeling)\": \"17\"}]\n"
     ],
     "language": "python",
     "metadata": {},
     "outputs": [],
     "prompt_number": 2
    },
    {
     "cell_type": "code",
     "collapsed": false,
     "input": [
      "frame1= pd.DataFrame(data)"
     ],
     "language": "python",
     "metadata": {},
     "outputs": [],
     "prompt_number": 16
    },
    {
     "cell_type": "code",
     "collapsed": false,
     "input": [
      "frame1"
     ],
     "language": "python",
     "metadata": {},
     "outputs": [
      {
       "html": [
        "<div style=\"max-height:1000px;max-width:1500px;overflow:auto;\">\n",
        "<table border=\"1\" class=\"dataframe\">\n",
        "  <thead>\n",
        "    <tr style=\"text-align: right;\">\n",
        "      <th></th>\n",
        "      <th>Baseline: Accomplished (Feeling)</th>\n",
        "      <th>Baseline: Energy (Feeling)</th>\n",
        "      <th>Baseline: General Happiness (Feeling)</th>\n",
        "      <th>Baseline: Libido (Feeling)</th>\n",
        "      <th>Hours of Sleep</th>\n",
        "      <th>Level of Wasted</th>\n",
        "      <th>Minutes Reading</th>\n",
        "      <th>Minutes of Excersise ( intense 80% )</th>\n",
        "      <th>Number of Meals</th>\n",
        "      <th>_id</th>\n",
        "      <th>_rev</th>\n",
        "      <th>date</th>\n",
        "    </tr>\n",
        "  </thead>\n",
        "  <tbody>\n",
        "    <tr>\n",
        "      <th>0</th>\n",
        "      <td>  2</td>\n",
        "      <td> 20</td>\n",
        "      <td> 29</td>\n",
        "      <td> 40</td>\n",
        "      <td> 6</td>\n",
        "      <td>  9</td>\n",
        "      <td>   2</td>\n",
        "      <td> 30</td>\n",
        "      <td> 1</td>\n",
        "      <td> e4a3235d933c423ba72443af14aa569c</td>\n",
        "      <td> 000193fe</td>\n",
        "      <td> 2014-07-09T12:34:19.000Z</td>\n",
        "    </tr>\n",
        "    <tr>\n",
        "      <th>1</th>\n",
        "      <td> 18</td>\n",
        "      <td> 80</td>\n",
        "      <td> 64</td>\n",
        "      <td> 80</td>\n",
        "      <td> 1</td>\n",
        "      <td> 81</td>\n",
        "      <td>  62</td>\n",
        "      <td> 76</td>\n",
        "      <td> 3</td>\n",
        "      <td> e9de4e61d443482ba6acb42e1d34d5cd</td>\n",
        "      <td> 00016816</td>\n",
        "      <td> 2014-07-09T12:35:17.000Z</td>\n",
        "    </tr>\n",
        "    <tr>\n",
        "      <th>2</th>\n",
        "      <td> 41</td>\n",
        "      <td> 13</td>\n",
        "      <td> 29</td>\n",
        "      <td> 11</td>\n",
        "      <td> 5</td>\n",
        "      <td>  0</td>\n",
        "      <td>   0</td>\n",
        "      <td>  0</td>\n",
        "      <td> 1</td>\n",
        "      <td> 0eafa992689646549e13664b58325265</td>\n",
        "      <td> 00012377</td>\n",
        "      <td> 2014-07-10T07:46:09.000Z</td>\n",
        "    </tr>\n",
        "    <tr>\n",
        "      <th>3</th>\n",
        "      <td> 25</td>\n",
        "      <td> 35</td>\n",
        "      <td> 20</td>\n",
        "      <td> 17</td>\n",
        "      <td> 6</td>\n",
        "      <td> 36</td>\n",
        "      <td> 103</td>\n",
        "      <td> 92</td>\n",
        "      <td> 1</td>\n",
        "      <td> cfc12fcf7f414d6bb6d83e76d96dbb91</td>\n",
        "      <td> 000106cc</td>\n",
        "      <td> 2014-07-10T07:46:44.000Z</td>\n",
        "    </tr>\n",
        "  </tbody>\n",
        "</table>\n",
        "</div>"
       ],
       "metadata": {},
       "output_type": "pyout",
       "prompt_number": 6,
       "text": [
        "  Baseline: Accomplished (Feeling) Baseline: Energy (Feeling)  \\\n",
        "0                                2                         20   \n",
        "1                               18                         80   \n",
        "2                               41                         13   \n",
        "3                               25                         35   \n",
        "\n",
        "  Baseline: General Happiness (Feeling) Baseline: Libido (Feeling)  \\\n",
        "0                                    29                         40   \n",
        "1                                    64                         80   \n",
        "2                                    29                         11   \n",
        "3                                    20                         17   \n",
        "\n",
        "  Hours of Sleep Level of Wasted Minutes Reading  \\\n",
        "0              6               9               2   \n",
        "1              1              81              62   \n",
        "2              5               0               0   \n",
        "3              6              36             103   \n",
        "\n",
        "  Minutes of Excersise ( intense 80% ) Number of Meals  \\\n",
        "0                                   30               1   \n",
        "1                                   76               3   \n",
        "2                                    0               1   \n",
        "3                                   92               1   \n",
        "\n",
        "                                _id      _rev                      date  \n",
        "0  e4a3235d933c423ba72443af14aa569c  000193fe  2014-07-09T12:34:19.000Z  \n",
        "1  e9de4e61d443482ba6acb42e1d34d5cd  00016816  2014-07-09T12:35:17.000Z  \n",
        "2  0eafa992689646549e13664b58325265  00012377  2014-07-10T07:46:09.000Z  \n",
        "3  cfc12fcf7f414d6bb6d83e76d96dbb91  000106cc  2014-07-10T07:46:44.000Z  "
       ]
      }
     ],
     "prompt_number": 6
    },
    {
     "cell_type": "code",
     "collapsed": false,
     "input": [
      "dates=frame1['date']\n",
      "frame2=pd.DataFrame(data,index=dates))"
     ],
     "language": "python",
     "metadata": {},
     "outputs": [
      {
       "ename": "SyntaxError",
       "evalue": "invalid syntax (<ipython-input-19-4173934df71c>, line 2)",
       "output_type": "pyerr",
       "traceback": [
        "\u001b[1;36m  File \u001b[1;32m\"<ipython-input-19-4173934df71c>\"\u001b[1;36m, line \u001b[1;32m2\u001b[0m\n\u001b[1;33m    frame2=pd.DataFrame(data,index=dates))\u001b[0m\n\u001b[1;37m                                         ^\u001b[0m\n\u001b[1;31mSyntaxError\u001b[0m\u001b[1;31m:\u001b[0m invalid syntax\n"
       ]
      }
     ],
     "prompt_number": 19
    },
    {
     "cell_type": "code",
     "collapsed": false,
     "input": [
      "basedata=frame1[\"Baseline: General Happiness (Feeling)\"].values.astype(\"int\")\n",
      "analysisdata=frame1[\"Hours of Sleep\"].values.astype(\"int\")"
     ],
     "language": "python",
     "metadata": {},
     "outputs": [],
     "prompt_number": 7
    },
    {
     "cell_type": "code",
     "collapsed": false,
     "input": [
      "def getLocalMax(var):\n",
      "    maxArray=numpy.r_[True, var[1:] < var[:-1]] & numpy.r_[var[:-1] < var[1:], True]\n",
      "    return maxArray\n",
      "\n",
      "#scale\n",
      "dx = 0.1\n",
      "#data points\n",
      "AD = analysisdata\n",
      "dAD = numpy.diff(AD)/dx\n",
      "mAD = getLocalMax(dAD)\n",
      "BD = basedata\n",
      "dBD = numpy.diff(BD)/dx\n",
      "mBD = getLocalMax(dBD)\n"
     ],
     "language": "python",
     "metadata": {},
     "outputs": [],
     "prompt_number": 8
    },
    {
     "cell_type": "code",
     "collapsed": false,
     "input": [
      "print AD\n",
      "print BD\n",
      "print \"-----------------\"\n",
      "cov = numpy.cov(AD, BD)\n",
      "print cov\n",
      "plt.figure(1)\n",
      "plt.plot(cov)\n",
      "print \"-----------------\"\n",
      "print cov[1, 0]\n",
      "\n",
      "\n",
      "beta = cov[1, 0] / cov[0, 0]\n",
      "print beta\n",
      "\n",
      "\n",
      "plt.figure(2)\n",
      "\n",
      "\n",
      "plt.plot(AD)\n",
      "plt.plot(dAD)\n",
      "plt.plot(mAD)\n",
      "print dAD\n",
      "print mAD\n",
      "\n",
      "plt.figure(3)\n",
      "plt.plot(BD)\n",
      "plt.plot(dBD)\n",
      "plt.plot(mBD)\n",
      "\n"
     ],
     "language": "python",
     "metadata": {},
     "outputs": [
      {
       "output_type": "stream",
       "stream": "stdout",
       "text": [
        "[6 1 5 6]\n",
        "[29 64 29 20]\n",
        "-----------------\n",
        "[[   5.66666667  -45.33333333]\n",
        " [ -45.33333333  379.        ]]\n",
        "-----------------\n",
        "-45.3333333333\n",
        "-8.0\n",
        "[-50.  40.  10.]"
       ]
      },
      {
       "output_type": "stream",
       "stream": "stdout",
       "text": [
        "\n",
        "[ True False  True]\n"
       ]
      },
      {
       "metadata": {},
       "output_type": "pyout",
       "prompt_number": 9,
       "text": [
        "[<matplotlib.lines.Line2D at 0x5cd06f0>]"
       ]
      },
      {
       "metadata": {},
       "output_type": "display_data",
       "png": "[encoded data removed]",
       "text": [
        "<matplotlib.figure.Figure at 0x5b906f0>"
       ]
      },
      {
       "metadata": {},
       "output_type": "display_data",
       "png": "[encoded data removed]",
       "text": [
        "<matplotlib.figure.Figure at 0x5bdbaf0>"
       ]
      },
      {
       "metadata": {},
       "output_type": "display_data",
       "png": "[encoded data removed]",
       "text": [
        "<matplotlib.figure.Figure at 0x5ca6990>"
       ]
      }
     ],
     "prompt_number": 9
    },
    {
     "cell_type": "code",
     "collapsed": false,
     "input": [
      "\n",
      "frame1.groupby(lambda x: x.date()).aggregate(lambda x: sum(x) if len(x) >= 40 else numpy.nan)"
     ],
     "language": "python",
     "metadata": {},
     "outputs": [
      {
       "ename": "AttributeError",
       "evalue": "'long' object has no attribute 'date'",
       "output_type": "pyerr",
       "traceback": [
        "\u001b[1;31m---------------------------------------------------------------------------\u001b[0m\n\u001b[1;31mAttributeError\u001b[0m                            Traceback (most recent call last)",
        "\u001b[1;32m<ipython-input-11-9652bab5e4b4>\u001b[0m in \u001b[0;36m<module>\u001b[1;34m()\u001b[0m\n\u001b[0;32m      1\u001b[0m \u001b[1;33m\u001b[0m\u001b[0m\n\u001b[1;32m----> 2\u001b[1;33m \u001b[0mframe1\u001b[0m\u001b[1;33m.\u001b[0m\u001b[0mgroupby\u001b[0m\u001b[1;33m(\u001b[0m\u001b[1;32mlambda\u001b[0m \u001b[0mx\u001b[0m\u001b[1;33m:\u001b[0m \u001b[0mx\u001b[0m\u001b[1;33m.\u001b[0m\u001b[0mdate\u001b[0m\u001b[1;33m(\u001b[0m\u001b[1;33m)\u001b[0m\u001b[1;33m)\u001b[0m\u001b[1;33m.\u001b[0m\u001b[0maggregate\u001b[0m\u001b[1;33m(\u001b[0m\u001b[1;32mlambda\u001b[0m \u001b[0mx\u001b[0m\u001b[1;33m:\u001b[0m \u001b[0msum\u001b[0m\u001b[1;33m(\u001b[0m\u001b[0mx\u001b[0m\u001b[1;33m)\u001b[0m \u001b[1;32mif\u001b[0m \u001b[0mlen\u001b[0m\u001b[1;33m(\u001b[0m\u001b[0mx\u001b[0m\u001b[1;33m)\u001b[0m \u001b[1;33m>=\u001b[0m \u001b[1;36m40\u001b[0m \u001b[1;32melse\u001b[0m \u001b[0mnumpy\u001b[0m\u001b[1;33m.\u001b[0m\u001b[0mnan\u001b[0m\u001b[1;33m)\u001b[0m\u001b[1;33m\u001b[0m\u001b[0m\n\u001b[0m",
        "\u001b[1;32mC:\\Python27\\lib\\site-packages\\pandas\\core\\generic.pyc\u001b[0m in \u001b[0;36mgroupby\u001b[1;34m(self, by, axis, level, as_index, sort, group_keys, squeeze)\u001b[0m\n\u001b[0;32m   2727\u001b[0m         \u001b[0maxis\u001b[0m \u001b[1;33m=\u001b[0m \u001b[0mself\u001b[0m\u001b[1;33m.\u001b[0m\u001b[0m_get_axis_number\u001b[0m\u001b[1;33m(\u001b[0m\u001b[0maxis\u001b[0m\u001b[1;33m)\u001b[0m\u001b[1;33m\u001b[0m\u001b[0m\n\u001b[0;32m   2728\u001b[0m         return groupby(self, by, axis=axis, level=level, as_index=as_index,\n\u001b[1;32m-> 2729\u001b[1;33m                        sort=sort, group_keys=group_keys, squeeze=squeeze)\n\u001b[0m\u001b[0;32m   2730\u001b[0m \u001b[1;33m\u001b[0m\u001b[0m\n\u001b[0;32m   2731\u001b[0m     \u001b[1;32mdef\u001b[0m \u001b[0masfreq\u001b[0m\u001b[1;33m(\u001b[0m\u001b[0mself\u001b[0m\u001b[1;33m,\u001b[0m \u001b[0mfreq\u001b[0m\u001b[1;33m,\u001b[0m \u001b[0mmethod\u001b[0m\u001b[1;33m=\u001b[0m\u001b[0mNone\u001b[0m\u001b[1;33m,\u001b[0m \u001b[0mhow\u001b[0m\u001b[1;33m=\u001b[0m\u001b[0mNone\u001b[0m\u001b[1;33m,\u001b[0m \u001b[0mnormalize\u001b[0m\u001b[1;33m=\u001b[0m\u001b[0mFalse\u001b[0m\u001b[1;33m)\u001b[0m\u001b[1;33m:\u001b[0m\u001b[1;33m\u001b[0m\u001b[0m\n",
        "\u001b[1;32mC:\\Python27\\lib\\site-packages\\pandas\\core\\groupby.pyc\u001b[0m in \u001b[0;36mgroupby\u001b[1;34m(obj, by, **kwds)\u001b[0m\n\u001b[0;32m   1098\u001b[0m         \u001b[1;32mraise\u001b[0m \u001b[0mTypeError\u001b[0m\u001b[1;33m(\u001b[0m\u001b[1;34m'invalid type: %s'\u001b[0m \u001b[1;33m%\u001b[0m \u001b[0mtype\u001b[0m\u001b[1;33m(\u001b[0m\u001b[0mobj\u001b[0m\u001b[1;33m)\u001b[0m\u001b[1;33m)\u001b[0m\u001b[1;33m\u001b[0m\u001b[0m\n\u001b[0;32m   1099\u001b[0m \u001b[1;33m\u001b[0m\u001b[0m\n\u001b[1;32m-> 1100\u001b[1;33m     \u001b[1;32mreturn\u001b[0m \u001b[0mklass\u001b[0m\u001b[1;33m(\u001b[0m\u001b[0mobj\u001b[0m\u001b[1;33m,\u001b[0m \u001b[0mby\u001b[0m\u001b[1;33m,\u001b[0m \u001b[1;33m**\u001b[0m\u001b[0mkwds\u001b[0m\u001b[1;33m)\u001b[0m\u001b[1;33m\u001b[0m\u001b[0m\n\u001b[0m\u001b[0;32m   1101\u001b[0m \u001b[1;33m\u001b[0m\u001b[0m\n\u001b[0;32m   1102\u001b[0m \u001b[1;33m\u001b[0m\u001b[0m\n",
        "\u001b[1;32mC:\\Python27\\lib\\site-packages\\pandas\\core\\groupby.pyc\u001b[0m in \u001b[0;36m__init__\u001b[1;34m(self, obj, keys, axis, level, grouper, exclusions, selection, as_index, sort, group_keys, squeeze)\u001b[0m\n\u001b[0;32m    384\u001b[0m         \u001b[1;32mif\u001b[0m \u001b[0mgrouper\u001b[0m \u001b[1;32mis\u001b[0m \u001b[0mNone\u001b[0m\u001b[1;33m:\u001b[0m\u001b[1;33m\u001b[0m\u001b[0m\n\u001b[0;32m    385\u001b[0m             grouper, exclusions, obj = _get_grouper(obj, keys, axis=axis,\n\u001b[1;32m--> 386\u001b[1;33m                                                     level=level, sort=sort)\n\u001b[0m\u001b[0;32m    387\u001b[0m \u001b[1;33m\u001b[0m\u001b[0m\n\u001b[0;32m    388\u001b[0m         \u001b[0mself\u001b[0m\u001b[1;33m.\u001b[0m\u001b[0mobj\u001b[0m \u001b[1;33m=\u001b[0m \u001b[0mobj\u001b[0m\u001b[1;33m\u001b[0m\u001b[0m\n",
        "\u001b[1;32mC:\\Python27\\lib\\site-packages\\pandas\\core\\groupby.pyc\u001b[0m in \u001b[0;36m_get_grouper\u001b[1;34m(obj, key, axis, level, sort)\u001b[0m\n\u001b[0;32m   1984\u001b[0m             \u001b[1;32mraise\u001b[0m \u001b[0mAssertionError\u001b[0m\u001b[1;33m(\u001b[0m\u001b[0merrmsg\u001b[0m\u001b[1;33m)\u001b[0m\u001b[1;33m\u001b[0m\u001b[0m\n\u001b[0;32m   1985\u001b[0m \u001b[1;33m\u001b[0m\u001b[0m\n\u001b[1;32m-> 1986\u001b[1;33m         \u001b[0mping\u001b[0m \u001b[1;33m=\u001b[0m \u001b[0mGrouping\u001b[0m\u001b[1;33m(\u001b[0m\u001b[0mgroup_axis\u001b[0m\u001b[1;33m,\u001b[0m \u001b[0mgpr\u001b[0m\u001b[1;33m,\u001b[0m \u001b[0mobj\u001b[0m\u001b[1;33m=\u001b[0m\u001b[0mobj\u001b[0m\u001b[1;33m,\u001b[0m \u001b[0mname\u001b[0m\u001b[1;33m=\u001b[0m\u001b[0mname\u001b[0m\u001b[1;33m,\u001b[0m \u001b[0mlevel\u001b[0m\u001b[1;33m=\u001b[0m\u001b[0mlevel\u001b[0m\u001b[1;33m,\u001b[0m \u001b[0msort\u001b[0m\u001b[1;33m=\u001b[0m\u001b[0msort\u001b[0m\u001b[1;33m)\u001b[0m\u001b[1;33m\u001b[0m\u001b[0m\n\u001b[0m\u001b[0;32m   1987\u001b[0m         \u001b[0mgroupings\u001b[0m\u001b[1;33m.\u001b[0m\u001b[0mappend\u001b[0m\u001b[1;33m(\u001b[0m\u001b[0mping\u001b[0m\u001b[1;33m)\u001b[0m\u001b[1;33m\u001b[0m\u001b[0m\n\u001b[0;32m   1988\u001b[0m \u001b[1;33m\u001b[0m\u001b[0m\n",
        "\u001b[1;32mC:\\Python27\\lib\\site-packages\\pandas\\core\\groupby.pyc\u001b[0m in \u001b[0;36m__init__\u001b[1;34m(self, index, grouper, obj, name, level, sort)\u001b[0m\n\u001b[0;32m   1825\u001b[0m             \u001b[1;31m# no level passed\u001b[0m\u001b[1;33m\u001b[0m\u001b[1;33m\u001b[0m\u001b[0m\n\u001b[0;32m   1826\u001b[0m             \u001b[1;32mif\u001b[0m \u001b[1;32mnot\u001b[0m \u001b[0misinstance\u001b[0m\u001b[1;33m(\u001b[0m\u001b[0mself\u001b[0m\u001b[1;33m.\u001b[0m\u001b[0mgrouper\u001b[0m\u001b[1;33m,\u001b[0m \u001b[1;33m(\u001b[0m\u001b[0mSeries\u001b[0m\u001b[1;33m,\u001b[0m \u001b[0mnp\u001b[0m\u001b[1;33m.\u001b[0m\u001b[0mndarray\u001b[0m\u001b[1;33m)\u001b[0m\u001b[1;33m)\u001b[0m\u001b[1;33m:\u001b[0m\u001b[1;33m\u001b[0m\u001b[0m\n\u001b[1;32m-> 1827\u001b[1;33m                 \u001b[0mself\u001b[0m\u001b[1;33m.\u001b[0m\u001b[0mgrouper\u001b[0m \u001b[1;33m=\u001b[0m \u001b[0mself\u001b[0m\u001b[1;33m.\u001b[0m\u001b[0mindex\u001b[0m\u001b[1;33m.\u001b[0m\u001b[0mmap\u001b[0m\u001b[1;33m(\u001b[0m\u001b[0mself\u001b[0m\u001b[1;33m.\u001b[0m\u001b[0mgrouper\u001b[0m\u001b[1;33m)\u001b[0m\u001b[1;33m\u001b[0m\u001b[0m\n\u001b[0m\u001b[0;32m   1828\u001b[0m                 if not (hasattr(self.grouper, \"__len__\") and\n\u001b[0;32m   1829\u001b[0m                         len(self.grouper) == len(self.index)):\n",
        "\u001b[1;32mC:\\Python27\\lib\\site-packages\\pandas\\core\\index.pyc\u001b[0m in \u001b[0;36mmap\u001b[1;34m(self, mapper)\u001b[0m\n\u001b[0;32m   1311\u001b[0m \u001b[1;33m\u001b[0m\u001b[0m\n\u001b[0;32m   1312\u001b[0m     \u001b[1;32mdef\u001b[0m \u001b[0mmap\u001b[0m\u001b[1;33m(\u001b[0m\u001b[0mself\u001b[0m\u001b[1;33m,\u001b[0m \u001b[0mmapper\u001b[0m\u001b[1;33m)\u001b[0m\u001b[1;33m:\u001b[0m\u001b[1;33m\u001b[0m\u001b[0m\n\u001b[1;32m-> 1313\u001b[1;33m         \u001b[1;32mreturn\u001b[0m \u001b[0mself\u001b[0m\u001b[1;33m.\u001b[0m\u001b[0m_arrmap\u001b[0m\u001b[1;33m(\u001b[0m\u001b[0mself\u001b[0m\u001b[1;33m.\u001b[0m\u001b[0mvalues\u001b[0m\u001b[1;33m,\u001b[0m \u001b[0mmapper\u001b[0m\u001b[1;33m)\u001b[0m\u001b[1;33m\u001b[0m\u001b[0m\n\u001b[0m\u001b[0;32m   1314\u001b[0m \u001b[1;33m\u001b[0m\u001b[0m\n\u001b[0;32m   1315\u001b[0m     \u001b[1;32mdef\u001b[0m \u001b[0misin\u001b[0m\u001b[1;33m(\u001b[0m\u001b[0mself\u001b[0m\u001b[1;33m,\u001b[0m \u001b[0mvalues\u001b[0m\u001b[1;33m)\u001b[0m\u001b[1;33m:\u001b[0m\u001b[1;33m\u001b[0m\u001b[0m\n",
        "\u001b[1;32mC:\\Python27\\lib\\site-packages\\pandas\\algos.pyd\u001b[0m in \u001b[0;36mpandas.algos.arrmap_int64 (pandas\\algos.c:71500)\u001b[1;34m()\u001b[0m\n",
        "\u001b[1;32m<ipython-input-11-9652bab5e4b4>\u001b[0m in \u001b[0;36m<lambda>\u001b[1;34m(x)\u001b[0m\n\u001b[0;32m      1\u001b[0m \u001b[1;33m\u001b[0m\u001b[0m\n\u001b[1;32m----> 2\u001b[1;33m \u001b[0mframe1\u001b[0m\u001b[1;33m.\u001b[0m\u001b[0mgroupby\u001b[0m\u001b[1;33m(\u001b[0m\u001b[1;32mlambda\u001b[0m \u001b[0mx\u001b[0m\u001b[1;33m:\u001b[0m \u001b[0mx\u001b[0m\u001b[1;33m.\u001b[0m\u001b[0mdate\u001b[0m\u001b[1;33m(\u001b[0m\u001b[1;33m)\u001b[0m\u001b[1;33m)\u001b[0m\u001b[1;33m.\u001b[0m\u001b[0maggregate\u001b[0m\u001b[1;33m(\u001b[0m\u001b[1;32mlambda\u001b[0m \u001b[0mx\u001b[0m\u001b[1;33m:\u001b[0m \u001b[0msum\u001b[0m\u001b[1;33m(\u001b[0m\u001b[0mx\u001b[0m\u001b[1;33m)\u001b[0m \u001b[1;32mif\u001b[0m \u001b[0mlen\u001b[0m\u001b[1;33m(\u001b[0m\u001b[0mx\u001b[0m\u001b[1;33m)\u001b[0m \u001b[1;33m>=\u001b[0m \u001b[1;36m40\u001b[0m \u001b[1;32melse\u001b[0m \u001b[0mnumpy\u001b[0m\u001b[1;33m.\u001b[0m\u001b[0mnan\u001b[0m\u001b[1;33m)\u001b[0m\u001b[1;33m\u001b[0m\u001b[0m\n\u001b[0m",
        "\u001b[1;31mAttributeError\u001b[0m: 'long' object has no attribute 'date'"
       ]
      }
     ],
     "prompt_number": 11
    },
    {
     "cell_type": "code",
     "collapsed": false,
     "input": [],
     "language": "python",
     "metadata": {},
     "outputs": []
    }
   ],
   "metadata": {}
  }
 ]
}