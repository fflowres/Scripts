{
 "metadata": {
  "name": "",
  "signature": "sha256:ad49b6d27abe1ea8d9cfe6fd27f8a25d2796cb0fa3cee6462ecbfe3834351bef"
 },
 "nbformat": 3,
 "nbformat_minor": 0,
 "worksheets": [
  {
   "cells": [
    {
     "cell_type": "code",
     "collapsed": false,
     "input": [],
     "language": "python",
     "metadata": {},
     "outputs": []
    },
    {
     "cell_type": "raw",
     "metadata": {},
     "source": []
    },
    {
     "cell_type": "code",
     "collapsed": false,
     "input": [],
     "language": "python",
     "metadata": {},
     "outputs": []
    },
    {
     "cell_type": "raw",
     "metadata": {},
     "source": [
      "class ud: \n",
      "    '''\n",
      "    UberDate class \n",
      "    any date to > date time object > any date format\n",
      "\n",
      "    call\n",
      "\n",
      "    ud.dts( ' date time string ' ) - auto detects formats\n",
      "\n",
      "\n",
      "        attribute .dto returns datetime object\n",
      "\n",
      "    ex:\n",
      "    ud.dts( ' date time string ' ).dts\n",
      "\n",
      "\n",
      "    ---\n",
      "    to other format\n",
      "\n",
      "    ud.dts( ' date time string ' ).udiso (parameters)\n",
      "\n",
      "    '''\n",
      "    import datetime as dt\n",
      "    def __init__(self,daterange='all'):\n",
      "\n",
      "\n",
      "\n",
      "    def conv_dts_dto(self, dts):\n",
      "        dto=dt.datetime.strptime(dts,\"%Y-%m-%d %H:%M:%S.%f\")\n",
      "    return dto"
     ]
    }
   ],
   "metadata": {}
  }
 ]
}