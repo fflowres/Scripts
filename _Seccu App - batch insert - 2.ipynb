{
 "metadata": {
  "name": "",
  "signature": "sha256:d5b7b02fcb9f54381ec68e119e386dfddc21623ecc23a9fcb8c245c1d9fb64f6"
 },
 "nbformat": 3,
 "nbformat_minor": 0,
 "worksheets": [
  {
   "cells": [
    {
     "cell_type": "markdown",
     "metadata": {},
     "source": [
      "{\n",
      "\"a\":[89,27,45,44,95,90,71,79,51,13,77,87,65,9,62,13,32,83,51,35,19,30,50,27,4,70,36,84,91,66,65,31,30,44,99,50,52,57,96,97,10,92,91,8,92,3,40,57,96,97,91,40,34,46,26,71,88,64,89,35,23,24,51,47,89,91,96,9,35,30,84,69,18,76,16,18,82,92,60,100,19,20,47,95,88,97,46,38,11,31,40,13,100,3,56,55,57,15,18,16],\n",
      "\n",
      "\"b\":[43,39,81,81,11,30,65,64,39,65,72,12,41,47,26,49,75,87,96,98,17,4,81,68,47,57,96,19,41,19,32,22,96,45,60,36,51,38,24,43,2,70,11,18,24,56,30,85,25,88,94,100,56,51,9,3,8,74,63,65,58,23,23,28,5,13,90,74,28,8,93,8,92,73,2,55,75,92,74,62,35,12,47,100,8,53,96,96,88,69,81,83,12,88,10,92,9,56,18,35],\n",
      "\n",
      "\"c\":[40,51,68,51,61,68,46,36,18,50,72,66,54,19,4,44,18,96,5,13,78,19,47,92,99,75,26,38,2,87,95,76,65,5,100,24,30,80,11,17,25,63,96,54,39,92,5,68,28,80,1,31,1,15,47,96,64,27,33,100,24,87,77,70,38,18,72,61,33,20,5,40,65,4,59,18,89,2,94,84,8,55,56,57,52,55,88,9,58,78,66,53,89,97,66,53,100,69,46,2],\n",
      "\n",
      "\"d\":[50,63,3,43,67,71,50,41,21,11,34,31,91,27,61,16,85,35,17,82,69,44,5,20,43,94,32,66,50,92,30,51,72,60,100,49,24,13,52,77,57,71,100,99,14,42,6,100,3,74,70,98,56,24,5,47,4,47,52,91,28,76,37,47,6,52,56,37,86,62,5,52,70,18,46,65,21,85,69,30,40,90,76,35,62,6,15,62,94,31,28,74,24,46,96,80,26,23,53,90]\n",
      "}\n"
     ]
    },
    {
     "cell_type": "heading",
     "level": 1,
     "metadata": {},
     "source": [
      "DATA CLASS"
     ]
    },
    {
     "cell_type": "heading",
     "level": 6,
     "metadata": {},
     "source": [
      "For simplicity keep all automated data arrays the same length"
     ]
    },
    {
     "cell_type": "code",
     "collapsed": false,
     "input": [
      "class dataObject(object):\n",
      "    def __init__(self):\n",
      "        dataObject.QuestionSet = {'a':{'active':'True','typ':'slider','range':'0-100','aggregate':'False', 'multipoint':'False'},'b':{'active':'True','typ':'slider','range':'0-100','aggregate':'False', 'multipoint':'True'},'c':{'active':'True','typ':'slider','range':'0-100','aggregate':'False', 'multipoint':'False'},'d':{'active':'True','typ':'slider','range':'0-100','aggregate':'False', 'multipoint':'True'}}\n",
      "        dataObject.Dataset = {\"a\":[89,27,45,44,95,90,71,79,51,13,77,87,65,9,62,13,32,83,51,35,19,30,50,27,4,70,36,84,91,66,65,31,30,44,99,50,52,57,96,97,10,92,91,8,92,3,40,57,96,97,91,40,34,46,26,71,88,64,89,35,23,24,51,47,89,91,96,9,35,30,84,69,18,76,16,18,82,92,60,100,19,20,47,95,88,97,46,38,11,31,40,13,100,3,56,55,57,15,18,16],\"b\":[43,39,81,81,11,30,65,64,39,65,72,12,41,47,26,49,75,87,96,98,17,4,81,68,47,57,96,19,41,19,32,22,96,45,60,36,51,38,24,43,2,70,11,18,24,56,30,85,25,88,94,100,56,51,9,3,8,74,63,65,58,23,23,28,5,13,90,74,28,8,93,8,92,73,2,55,75,92,74,62,35,12,47,100,8,53,96,96,88,69,81,83,12,88,10,92,9,56,18,35],\"c\":[40,51,68,51,61,68,46,36,18,50,72,66,54,19,4,44,18,96,5,13,78,19,47,92,99,75,26,38,2,87,95,76,65,5,100,24,30,80,11,17,25,63,96,54,39,92,5,68,28,80,1,31,1,15,47,96,64,27,33,100,24,87,77,70,38,18,72,61,33,20,5,40,65,4,59,18,89,2,94,84,8,55,56,57,52,55,88,9,58,78,66,53,89,97,66,53,100,69,46,2],\"d\":[50,63,3,43,67,71,50,41,21,11,34,31,91,27,61,16,85,35,17,82,69,44,5,20,43,94,32,66,50,92,30,51,72,60,100,49,24,13,52,77,57,71,100,99,14,42,6,100,3,74,70,98,56,24,5,47,4,47,52,91,28,76,37,47,6,52,56,37,86,62,5,52,70,18,46,65,21,85,69,30,40,90,76,35,62,6,15,62,94,31,28,74,24,46,96,80,26,23,53,90]}"
     ],
     "language": "python",
     "metadata": {},
     "outputs": [],
     "prompt_number": 9
    },
    {
     "cell_type": "heading",
     "level": 1,
     "metadata": {},
     "source": [
      "CONSTRUCTED CLASS"
     ]
    },
    {
     "cell_type": "code",
     "collapsed": false,
     "input": [
      "from SecApp.DBBaseClass import DBSubsystem\n",
      "import SecApp.DBInputClass\n",
      "from SecApp.DBQuestionClass import SecuQ\n",
      "\n",
      "import time\n",
      "import datetime\n",
      "import calendar\n",
      "\n",
      "class BatchInsert(dataObject):\n",
      "    def __init__(self,multi,multihours):\n",
      "        \n",
      "        self.key = ''\n",
      "        self.dbname = '_autopopulate'\n",
      "        dataObject.__init__(self) # load data variables\n",
      "        \n",
      "        \n",
      "        self.ammount = len(dataObject.Dataset[dataObject.Dataset.keys()[0]]) #just measure the length of the first array\n",
      "        \n",
      "        self.multi = multi\n",
      "        self.multihours = multihours\n",
      "        self.shift = 0\n",
      "  \n",
      "        self.getfirstdate()\n",
      "        self.timeshifts()\n",
      "        self.shifts2utc()\n",
      "        self.createdb()\n",
      "        self.addquestionsdb()\n",
      "        self.timewarp()\n",
      "        \n",
      "        \n",
      "    def constructdataentry(self,index):\n",
      "        \n",
      "        \n",
      "        # this builds the response for the individual day\n",
      "        response = {}\n",
      "        for variable in dataObject.QuestionSet.keys():\n",
      "            response[variable] = dataObject.Dataset[variable][index]\n",
      "        return response     \n",
      "        \n",
      "        \n",
      "        '''\n",
      "        ^^^ importand to change or add data\n",
      "        '''\n",
      "        \n",
      "    def preparedb(self):\n",
      "        self.createdb()\n",
      "        self.addquestionsdb()\n",
      "        return self\n",
      "        \n",
      "        \n",
      "        \n",
      "    def createdb(self):\n",
      "        #create database\n",
      "        \n",
      "        initdb = DBSubsystem(self.key,self.dbname).createDB()\n",
      "        return self\n",
      "        \n",
      "        \n",
      "    def addquestionsdb(self):\n",
      "        #input questions\n",
      "        \n",
      "        \n",
      "        initQ = SecuQ(self.key)\n",
      "        initQ.questionInsert(dataObject.QuestionSet,descriptor='inclusive')\n",
      "        return self\n",
      "    \n",
      "    \n",
      "    def getfirstdate(self):\n",
      "        if (self.multi != 0):\n",
      "            self.first_step = (self.ammount / self.multi) \n",
      "        else:\n",
      "            self.first_step = (self.ammount) \n",
      "        \n",
      "        timenow = datetime.datetime.now()\n",
      "        self.firsttime = timenow + datetime.timedelta(days=-(self.first_step + 1)) #always a day behind\n",
      "        return self\n",
      "        \n",
      "    def timeshifts(self):\n",
      "        self.shift_list = []\n",
      "        self.lastdate = self.firsttime\n",
      "        self.startdate = self.firsttime\n",
      "        for ind in range(self.first_step):\n",
      "            self.lastdate = self.startdate\n",
      "            if (self.multi != 0):\n",
      "                for subind in range(self.multi):\n",
      "                    self.lastdate = self.lastdate + datetime.timedelta(hours=self.multihours)\n",
      "                    \n",
      "                    self.shift_list.append(self.lastdate)\n",
      "                    \n",
      "            self.startdate = self.startdate + datetime.timedelta(days=1)\n",
      "        return self.shift_list\n",
      "                    \n",
      "    def shifts2utc(self):\n",
      "        self.utcshifts = []\n",
      "\n",
      "        for date in self.shift_list:\n",
      "            self.utcshifts.append(calendar.timegm(date.utctimetuple()))\n",
      "        return self\n",
      "            \n",
      "    def mytime(self): return self.utcshifts[self.shift]\n",
      "    \n",
      "    def shifttime(self):\n",
      "        time.time = self.mytime\n",
      "        return self\n",
      "    \n",
      "    \n",
      "\n",
      "    \n",
      "    \n",
      "    \n",
      "    #Population starts here\n",
      "    def timewarp(self):\n",
      "        \n",
      "        for number in range(len(self.utcshifts)):\n",
      "            \n",
      "            initDI = SecApp.DBInputClass.SecuIn(self.key)\n",
      "            \n",
      "            self.shift = number # funky global indexing for time warping function\n",
      "            self.shifttime() # changes perceived time\n",
      "            #print datetime.datetime.now()\n",
      "            \n",
      "            \n",
      "            responsedata = self.constructdataentry(number)\n",
      "            print responsedata\n",
      "            initDI.questionDataIN(str(responsedata))\n",
      "            \n",
      "            del initDI\n",
      "        return self\n",
      "            \n",
      "            \n",
      "        \n",
      "        \n",
      "        "
     ],
     "language": "python",
     "metadata": {},
     "outputs": [],
     "prompt_number": 10
    },
    {
     "cell_type": "heading",
     "level": 1,
     "metadata": {},
     "source": [
      "AUTOMATED DATA ENTRY"
     ]
    },
    {
     "cell_type": "code",
     "collapsed": false,
     "input": [
      "#data sets\n",
      "\n",
      "#these have 100 entries\n",
      "a = BatchInsert(multi=5, multihours=2)\n"
     ],
     "language": "python",
     "metadata": {},
     "outputs": [
      {
       "output_type": "stream",
       "stream": "stdout",
       "text": [
        "{'a': 89, 'c': 40, 'b': 43, 'd': 50}\n",
        "{'a': 27, 'c': 51, 'b': 39, 'd': 63}"
       ]
      },
      {
       "output_type": "stream",
       "stream": "stdout",
       "text": [
        "\n",
        "{'a': 45, 'c': 68, 'b': 81, 'd': 3}"
       ]
      },
      {
       "output_type": "stream",
       "stream": "stdout",
       "text": [
        "\n",
        "{'a': 44, 'c': 51, 'b': 81, 'd': 43}"
       ]
      },
      {
       "output_type": "stream",
       "stream": "stdout",
       "text": [
        "\n",
        "{'a': 95, 'c': 61, 'b': 11, 'd': 67}"
       ]
      },
      {
       "output_type": "stream",
       "stream": "stdout",
       "text": [
        "\n",
        "{'a': 90, 'c': 68, 'b': 30, 'd': 71}"
       ]
      },
      {
       "output_type": "stream",
       "stream": "stdout",
       "text": [
        "\n",
        "{'a': 71, 'c': 46, 'b': 65, 'd': 50}"
       ]
      },
      {
       "output_type": "stream",
       "stream": "stdout",
       "text": [
        "\n",
        "{'a': 79, 'c': 36, 'b': 64, 'd': 41}"
       ]
      },
      {
       "output_type": "stream",
       "stream": "stdout",
       "text": [
        "\n",
        "{'a': 51, 'c': 18, 'b': 39, 'd': 21}"
       ]
      },
      {
       "output_type": "stream",
       "stream": "stdout",
       "text": [
        "\n",
        "{'a': 13, 'c': 50, 'b': 65, 'd': 11}"
       ]
      },
      {
       "output_type": "stream",
       "stream": "stdout",
       "text": [
        "\n",
        "{'a': 77, 'c': 72, 'b': 72, 'd': 34}"
       ]
      },
      {
       "output_type": "stream",
       "stream": "stdout",
       "text": [
        "\n",
        "{'a': 87, 'c': 66, 'b': 12, 'd': 31}"
       ]
      },
      {
       "output_type": "stream",
       "stream": "stdout",
       "text": [
        "\n",
        "{'a': 65, 'c': 54, 'b': 41, 'd': 91}"
       ]
      },
      {
       "output_type": "stream",
       "stream": "stdout",
       "text": [
        "\n",
        "{'a': 9, 'c': 19, 'b': 47, 'd': 27}"
       ]
      },
      {
       "output_type": "stream",
       "stream": "stdout",
       "text": [
        "\n",
        "{'a': 62, 'c': 4, 'b': 26, 'd': 61}"
       ]
      },
      {
       "output_type": "stream",
       "stream": "stdout",
       "text": [
        "\n",
        "{'a': 13, 'c': 44, 'b': 49, 'd': 16}"
       ]
      },
      {
       "output_type": "stream",
       "stream": "stdout",
       "text": [
        "\n",
        "{'a': 32, 'c': 18, 'b': 75, 'd': 85}"
       ]
      },
      {
       "output_type": "stream",
       "stream": "stdout",
       "text": [
        "\n",
        "{'a': 83, 'c': 96, 'b': 87, 'd': 35}"
       ]
      },
      {
       "output_type": "stream",
       "stream": "stdout",
       "text": [
        "\n",
        "{'a': 51, 'c': 5, 'b': 96, 'd': 17}"
       ]
      },
      {
       "output_type": "stream",
       "stream": "stdout",
       "text": [
        "\n",
        "{'a': 35, 'c': 13, 'b': 98, 'd': 82}"
       ]
      },
      {
       "output_type": "stream",
       "stream": "stdout",
       "text": [
        "\n",
        "{'a': 19, 'c': 78, 'b': 17, 'd': 69}"
       ]
      },
      {
       "output_type": "stream",
       "stream": "stdout",
       "text": [
        "\n",
        "{'a': 30, 'c': 19, 'b': 4, 'd': 44}"
       ]
      },
      {
       "output_type": "stream",
       "stream": "stdout",
       "text": [
        "\n",
        "{'a': 50, 'c': 47, 'b': 81, 'd': 5}"
       ]
      },
      {
       "output_type": "stream",
       "stream": "stdout",
       "text": [
        "\n",
        "{'a': 27, 'c': 92, 'b': 68, 'd': 20}"
       ]
      },
      {
       "output_type": "stream",
       "stream": "stdout",
       "text": [
        "\n",
        "{'a': 4, 'c': 99, 'b': 47, 'd': 43}"
       ]
      },
      {
       "output_type": "stream",
       "stream": "stdout",
       "text": [
        "\n",
        "{'a': 70, 'c': 75, 'b': 57, 'd': 94}"
       ]
      },
      {
       "output_type": "stream",
       "stream": "stdout",
       "text": [
        "\n",
        "{'a': 36, 'c': 26, 'b': 96, 'd': 32}"
       ]
      },
      {
       "output_type": "stream",
       "stream": "stdout",
       "text": [
        "\n",
        "{'a': 84, 'c': 38, 'b': 19, 'd': 66}"
       ]
      },
      {
       "output_type": "stream",
       "stream": "stdout",
       "text": [
        "\n",
        "{'a': 91, 'c': 2, 'b': 41, 'd': 50}"
       ]
      },
      {
       "output_type": "stream",
       "stream": "stdout",
       "text": [
        "\n",
        "{'a': 66, 'c': 87, 'b': 19, 'd': 92}"
       ]
      },
      {
       "output_type": "stream",
       "stream": "stdout",
       "text": [
        "\n",
        "{'a': 65, 'c': 95, 'b': 32, 'd': 30}"
       ]
      },
      {
       "output_type": "stream",
       "stream": "stdout",
       "text": [
        "\n",
        "{'a': 31, 'c': 76, 'b': 22, 'd': 51}"
       ]
      },
      {
       "output_type": "stream",
       "stream": "stdout",
       "text": [
        "\n",
        "{'a': 30, 'c': 65, 'b': 96, 'd': 72}"
       ]
      },
      {
       "output_type": "stream",
       "stream": "stdout",
       "text": [
        "\n",
        "{'a': 44, 'c': 5, 'b': 45, 'd': 60}"
       ]
      },
      {
       "output_type": "stream",
       "stream": "stdout",
       "text": [
        "\n",
        "{'a': 99, 'c': 100, 'b': 60, 'd': 100}"
       ]
      },
      {
       "output_type": "stream",
       "stream": "stdout",
       "text": [
        "\n",
        "{'a': 50, 'c': 24, 'b': 36, 'd': 49}"
       ]
      },
      {
       "output_type": "stream",
       "stream": "stdout",
       "text": [
        "\n",
        "{'a': 52, 'c': 30, 'b': 51, 'd': 24}"
       ]
      },
      {
       "output_type": "stream",
       "stream": "stdout",
       "text": [
        "\n",
        "{'a': 57, 'c': 80, 'b': 38, 'd': 13}"
       ]
      },
      {
       "output_type": "stream",
       "stream": "stdout",
       "text": [
        "\n",
        "{'a': 96, 'c': 11, 'b': 24, 'd': 52}"
       ]
      },
      {
       "output_type": "stream",
       "stream": "stdout",
       "text": [
        "\n",
        "{'a': 97, 'c': 17, 'b': 43, 'd': 77}"
       ]
      },
      {
       "output_type": "stream",
       "stream": "stdout",
       "text": [
        "\n",
        "{'a': 10, 'c': 25, 'b': 2, 'd': 57}"
       ]
      },
      {
       "output_type": "stream",
       "stream": "stdout",
       "text": [
        "\n",
        "{'a': 92, 'c': 63, 'b': 70, 'd': 71}"
       ]
      },
      {
       "output_type": "stream",
       "stream": "stdout",
       "text": [
        "\n",
        "{'a': 91, 'c': 96, 'b': 11, 'd': 100}"
       ]
      },
      {
       "output_type": "stream",
       "stream": "stdout",
       "text": [
        "\n",
        "{'a': 8, 'c': 54, 'b': 18, 'd': 99}"
       ]
      },
      {
       "output_type": "stream",
       "stream": "stdout",
       "text": [
        "\n",
        "{'a': 92, 'c': 39, 'b': 24, 'd': 14}"
       ]
      },
      {
       "output_type": "stream",
       "stream": "stdout",
       "text": [
        "\n",
        "{'a': 3, 'c': 92, 'b': 56, 'd': 42}"
       ]
      },
      {
       "output_type": "stream",
       "stream": "stdout",
       "text": [
        "\n",
        "{'a': 40, 'c': 5, 'b': 30, 'd': 6}"
       ]
      },
      {
       "output_type": "stream",
       "stream": "stdout",
       "text": [
        "\n",
        "{'a': 57, 'c': 68, 'b': 85, 'd': 100}"
       ]
      },
      {
       "output_type": "stream",
       "stream": "stdout",
       "text": [
        "\n",
        "{'a': 96, 'c': 28, 'b': 25, 'd': 3}"
       ]
      },
      {
       "output_type": "stream",
       "stream": "stdout",
       "text": [
        "\n",
        "{'a': 97, 'c': 80, 'b': 88, 'd': 74}"
       ]
      },
      {
       "output_type": "stream",
       "stream": "stdout",
       "text": [
        "\n",
        "{'a': 91, 'c': 1, 'b': 94, 'd': 70}"
       ]
      },
      {
       "output_type": "stream",
       "stream": "stdout",
       "text": [
        "\n",
        "{'a': 40, 'c': 31, 'b': 100, 'd': 98}"
       ]
      },
      {
       "output_type": "stream",
       "stream": "stdout",
       "text": [
        "\n",
        "{'a': 34, 'c': 1, 'b': 56, 'd': 56}"
       ]
      },
      {
       "output_type": "stream",
       "stream": "stdout",
       "text": [
        "\n",
        "{'a': 46, 'c': 15, 'b': 51, 'd': 24}"
       ]
      },
      {
       "output_type": "stream",
       "stream": "stdout",
       "text": [
        "\n",
        "{'a': 26, 'c': 47, 'b': 9, 'd': 5}"
       ]
      },
      {
       "output_type": "stream",
       "stream": "stdout",
       "text": [
        "\n",
        "{'a': 71, 'c': 96, 'b': 3, 'd': 47}"
       ]
      },
      {
       "output_type": "stream",
       "stream": "stdout",
       "text": [
        "\n",
        "{'a': 88, 'c': 64, 'b': 8, 'd': 4}"
       ]
      },
      {
       "output_type": "stream",
       "stream": "stdout",
       "text": [
        "\n",
        "{'a': 64, 'c': 27, 'b': 74, 'd': 47}"
       ]
      },
      {
       "output_type": "stream",
       "stream": "stdout",
       "text": [
        "\n",
        "{'a': 89, 'c': 33, 'b': 63, 'd': 52}"
       ]
      },
      {
       "output_type": "stream",
       "stream": "stdout",
       "text": [
        "\n",
        "{'a': 35, 'c': 100, 'b': 65, 'd': 91}"
       ]
      },
      {
       "output_type": "stream",
       "stream": "stdout",
       "text": [
        "\n",
        "{'a': 23, 'c': 24, 'b': 58, 'd': 28}"
       ]
      },
      {
       "output_type": "stream",
       "stream": "stdout",
       "text": [
        "\n",
        "{'a': 24, 'c': 87, 'b': 23, 'd': 76}"
       ]
      },
      {
       "output_type": "stream",
       "stream": "stdout",
       "text": [
        "\n",
        "{'a': 51, 'c': 77, 'b': 23, 'd': 37}"
       ]
      },
      {
       "output_type": "stream",
       "stream": "stdout",
       "text": [
        "\n",
        "{'a': 47, 'c': 70, 'b': 28, 'd': 47}"
       ]
      },
      {
       "output_type": "stream",
       "stream": "stdout",
       "text": [
        "\n",
        "{'a': 89, 'c': 38, 'b': 5, 'd': 6}"
       ]
      },
      {
       "output_type": "stream",
       "stream": "stdout",
       "text": [
        "\n",
        "{'a': 91, 'c': 18, 'b': 13, 'd': 52}"
       ]
      },
      {
       "output_type": "stream",
       "stream": "stdout",
       "text": [
        "\n",
        "{'a': 96, 'c': 72, 'b': 90, 'd': 56}"
       ]
      },
      {
       "output_type": "stream",
       "stream": "stdout",
       "text": [
        "\n",
        "{'a': 9, 'c': 61, 'b': 74, 'd': 37}"
       ]
      },
      {
       "output_type": "stream",
       "stream": "stdout",
       "text": [
        "\n",
        "{'a': 35, 'c': 33, 'b': 28, 'd': 86}"
       ]
      },
      {
       "output_type": "stream",
       "stream": "stdout",
       "text": [
        "\n",
        "{'a': 30, 'c': 20, 'b': 8, 'd': 62}"
       ]
      },
      {
       "output_type": "stream",
       "stream": "stdout",
       "text": [
        "\n",
        "{'a': 84, 'c': 5, 'b': 93, 'd': 5}"
       ]
      },
      {
       "output_type": "stream",
       "stream": "stdout",
       "text": [
        "\n",
        "{'a': 69, 'c': 40, 'b': 8, 'd': 52}"
       ]
      },
      {
       "output_type": "stream",
       "stream": "stdout",
       "text": [
        "\n",
        "{'a': 18, 'c': 65, 'b': 92, 'd': 70}"
       ]
      },
      {
       "output_type": "stream",
       "stream": "stdout",
       "text": [
        "\n",
        "{'a': 76, 'c': 4, 'b': 73, 'd': 18}"
       ]
      },
      {
       "output_type": "stream",
       "stream": "stdout",
       "text": [
        "\n",
        "{'a': 16, 'c': 59, 'b': 2, 'd': 46}"
       ]
      },
      {
       "output_type": "stream",
       "stream": "stdout",
       "text": [
        "\n",
        "{'a': 18, 'c': 18, 'b': 55, 'd': 65}"
       ]
      },
      {
       "output_type": "stream",
       "stream": "stdout",
       "text": [
        "\n",
        "{'a': 82, 'c': 89, 'b': 75, 'd': 21}"
       ]
      },
      {
       "output_type": "stream",
       "stream": "stdout",
       "text": [
        "\n",
        "{'a': 92, 'c': 2, 'b': 92, 'd': 85}"
       ]
      },
      {
       "output_type": "stream",
       "stream": "stdout",
       "text": [
        "\n",
        "{'a': 60, 'c': 94, 'b': 74, 'd': 69}"
       ]
      },
      {
       "output_type": "stream",
       "stream": "stdout",
       "text": [
        "\n",
        "{'a': 100, 'c': 84, 'b': 62, 'd': 30}"
       ]
      },
      {
       "output_type": "stream",
       "stream": "stdout",
       "text": [
        "\n",
        "{'a': 19, 'c': 8, 'b': 35, 'd': 40}"
       ]
      },
      {
       "output_type": "stream",
       "stream": "stdout",
       "text": [
        "\n",
        "{'a': 20, 'c': 55, 'b': 12, 'd': 90}"
       ]
      },
      {
       "output_type": "stream",
       "stream": "stdout",
       "text": [
        "\n",
        "{'a': 47, 'c': 56, 'b': 47, 'd': 76}"
       ]
      },
      {
       "output_type": "stream",
       "stream": "stdout",
       "text": [
        "\n",
        "{'a': 95, 'c': 57, 'b': 100, 'd': 35}"
       ]
      },
      {
       "output_type": "stream",
       "stream": "stdout",
       "text": [
        "\n",
        "{'a': 88, 'c': 52, 'b': 8, 'd': 62}"
       ]
      },
      {
       "output_type": "stream",
       "stream": "stdout",
       "text": [
        "\n",
        "{'a': 97, 'c': 55, 'b': 53, 'd': 6}"
       ]
      },
      {
       "output_type": "stream",
       "stream": "stdout",
       "text": [
        "\n",
        "{'a': 46, 'c': 88, 'b': 96, 'd': 15}"
       ]
      },
      {
       "output_type": "stream",
       "stream": "stdout",
       "text": [
        "\n",
        "{'a': 38, 'c': 9, 'b': 96, 'd': 62}"
       ]
      },
      {
       "output_type": "stream",
       "stream": "stdout",
       "text": [
        "\n",
        "{'a': 11, 'c': 58, 'b': 88, 'd': 94}"
       ]
      },
      {
       "output_type": "stream",
       "stream": "stdout",
       "text": [
        "\n",
        "{'a': 31, 'c': 78, 'b': 69, 'd': 31}"
       ]
      },
      {
       "output_type": "stream",
       "stream": "stdout",
       "text": [
        "\n",
        "{'a': 40, 'c': 66, 'b': 81, 'd': 28}"
       ]
      },
      {
       "output_type": "stream",
       "stream": "stdout",
       "text": [
        "\n",
        "{'a': 13, 'c': 53, 'b': 83, 'd': 74}"
       ]
      },
      {
       "output_type": "stream",
       "stream": "stdout",
       "text": [
        "\n",
        "{'a': 100, 'c': 89, 'b': 12, 'd': 24}"
       ]
      },
      {
       "output_type": "stream",
       "stream": "stdout",
       "text": [
        "\n",
        "{'a': 3, 'c': 97, 'b': 88, 'd': 46}"
       ]
      },
      {
       "output_type": "stream",
       "stream": "stdout",
       "text": [
        "\n",
        "{'a': 56, 'c': 66, 'b': 10, 'd': 96}"
       ]
      },
      {
       "output_type": "stream",
       "stream": "stdout",
       "text": [
        "\n",
        "{'a': 55, 'c': 53, 'b': 92, 'd': 80}"
       ]
      },
      {
       "output_type": "stream",
       "stream": "stdout",
       "text": [
        "\n",
        "{'a': 57, 'c': 100, 'b': 9, 'd': 26}"
       ]
      },
      {
       "output_type": "stream",
       "stream": "stdout",
       "text": [
        "\n",
        "{'a': 15, 'c': 69, 'b': 56, 'd': 23}"
       ]
      },
      {
       "output_type": "stream",
       "stream": "stdout",
       "text": [
        "\n",
        "{'a': 18, 'c': 46, 'b': 18, 'd': 53}"
       ]
      },
      {
       "output_type": "stream",
       "stream": "stdout",
       "text": [
        "\n",
        "{'a': 16, 'c': 2, 'b': 35, 'd': 90}"
       ]
      },
      {
       "output_type": "stream",
       "stream": "stdout",
       "text": [
        "\n"
       ]
      }
     ],
     "prompt_number": 11
    },
    {
     "cell_type": "code",
     "collapsed": false,
     "input": [],
     "language": "python",
     "metadata": {},
     "outputs": []
    },
    {
     "cell_type": "code",
     "collapsed": false,
     "input": [],
     "language": "python",
     "metadata": {},
     "outputs": []
    },
    {
     "cell_type": "code",
     "collapsed": false,
     "input": [],
     "language": "python",
     "metadata": {},
     "outputs": []
    },
    {
     "cell_type": "heading",
     "level": 1,
     "metadata": {},
     "source": [
      "#read out data"
     ]
    },
    {
     "cell_type": "code",
     "collapsed": false,
     "input": [
      "#read out data\n",
      "from SecApp.DBOutputClass import SecuFrame\n",
      "initDO = SecuFrame('')\n",
      "#initDO.dbparseable\n",
      "\n",
      "initDO.iffo()\n",
      "#initDO.dbfiltered\n",
      "#initDO.dbdatemapped \n",
      "\n",
      "#read out graphable data\n",
      "initDO.iffo().igraph().graphFrame\n",
      "\n",
      "#initDO = SecuFrame('','today') #get today only\n",
      "#initDO.iffo().dayresponse().responseFrame\n",
      "\n",
      "#initDO.iffo().orderedmap().processFrame"
     ],
     "language": "python",
     "metadata": {},
     "outputs": [
      {
       "metadata": {},
       "output_type": "pyout",
       "prompt_number": 12,
       "text": [
        "[{'a': 90, 'c': 68, 'date': '2014-07-28T00:00:00Z'},\n",
        " {'b': 43, 'd': 50, 'date': '2014-07-28T04:59:26Z'},\n",
        " {'b': 39, 'd': 63, 'date': '2014-07-28T06:59:26Z'},\n",
        " {'b': 81, 'd': 3, 'date': '2014-07-28T08:59:26Z'},\n",
        " {'b': 81, 'd': 43, 'date': '2014-07-28T10:59:26Z'},\n",
        " {'b': 11, 'd': 67, 'date': '2014-07-28T12:59:26Z'},\n",
        " {'a': 77, 'c': 72, 'date': '2014-07-29T00:00:00Z'},\n",
        " {'b': 30, 'd': 71, 'date': '2014-07-29T04:59:26Z'},\n",
        " {'b': 65, 'd': 50, 'date': '2014-07-29T06:59:26Z'},\n",
        " {'b': 64, 'd': 41, 'date': '2014-07-29T08:59:26Z'},\n",
        " {'b': 39, 'd': 21, 'date': '2014-07-29T10:59:26Z'},\n",
        " {'b': 65, 'd': 11, 'date': '2014-07-29T12:59:26Z'},\n",
        " {'a': 13, 'c': 44, 'date': '2014-07-30T00:00:00Z'},\n",
        " {'b': 72, 'd': 34, 'date': '2014-07-30T04:59:26Z'},\n",
        " {'b': 12, 'd': 31, 'date': '2014-07-30T06:59:26Z'},\n",
        " {'b': 41, 'd': 91, 'date': '2014-07-30T08:59:26Z'},\n",
        " {'b': 47, 'd': 27, 'date': '2014-07-30T10:59:26Z'},\n",
        " {'b': 26, 'd': 61, 'date': '2014-07-30T12:59:26Z'},\n",
        " {'a': 19, 'c': 78, 'date': '2014-07-31T00:00:00Z'},\n",
        " {'b': 49, 'd': 16, 'date': '2014-07-31T04:59:26Z'},\n",
        " {'b': 75, 'd': 85, 'date': '2014-07-31T06:59:26Z'},\n",
        " {'b': 87, 'd': 35, 'date': '2014-07-31T08:59:26Z'},\n",
        " {'b': 96, 'd': 17, 'date': '2014-07-31T10:59:26Z'},\n",
        " {'b': 98, 'd': 82, 'date': '2014-07-31T12:59:26Z'},\n",
        " {'a': 70, 'c': 75, 'date': '2014-08-01T00:00:00Z'},\n",
        " {'b': 17, 'd': 69, 'date': '2014-08-01T04:59:26Z'},\n",
        " {'b': 4, 'd': 44, 'date': '2014-08-01T06:59:26Z'},\n",
        " {'b': 81, 'd': 5, 'date': '2014-08-01T08:59:26Z'},\n",
        " {'b': 68, 'd': 20, 'date': '2014-08-01T10:59:26Z'},\n",
        " {'b': 47, 'd': 43, 'date': '2014-08-01T12:59:26Z'},\n",
        " {'a': 65, 'c': 95, 'date': '2014-08-02T00:00:00Z'},\n",
        " {'b': 57, 'd': 94, 'date': '2014-08-02T04:59:26Z'},\n",
        " {'b': 96, 'd': 32, 'date': '2014-08-02T06:59:26Z'},\n",
        " {'b': 19, 'd': 66, 'date': '2014-08-02T08:59:26Z'},\n",
        " {'b': 41, 'd': 50, 'date': '2014-08-02T10:59:26Z'},\n",
        " {'b': 19, 'd': 92, 'date': '2014-08-02T12:59:26Z'},\n",
        " {'a': 50, 'c': 24, 'date': '2014-08-03T00:00:00Z'},\n",
        " {'b': 32, 'd': 30, 'date': '2014-08-03T04:59:26Z'},\n",
        " {'b': 22, 'd': 51, 'date': '2014-08-03T06:59:26Z'},\n",
        " {'b': 96, 'd': 72, 'date': '2014-08-03T08:59:26Z'},\n",
        " {'b': 45, 'd': 60, 'date': '2014-08-03T10:59:26Z'},\n",
        " {'b': 60, 'd': 100, 'date': '2014-08-03T12:59:26Z'},\n",
        " {'a': 10, 'c': 25, 'date': '2014-08-04T00:00:00Z'},\n",
        " {'b': 36, 'd': 49, 'date': '2014-08-04T04:59:26Z'},\n",
        " {'b': 51, 'd': 24, 'date': '2014-08-04T06:59:26Z'},\n",
        " {'b': 38, 'd': 13, 'date': '2014-08-04T08:59:26Z'},\n",
        " {'b': 24, 'd': 52, 'date': '2014-08-04T10:59:26Z'},\n",
        " {'b': 43, 'd': 77, 'date': '2014-08-04T12:59:26Z'},\n",
        " {'a': 3, 'c': 92, 'date': '2014-08-05T00:00:00Z'},\n",
        " {'b': 2, 'd': 57, 'date': '2014-08-05T04:59:26Z'},\n",
        " {'b': 70, 'd': 71, 'date': '2014-08-05T06:59:26Z'},\n",
        " {'b': 11, 'd': 100, 'date': '2014-08-05T08:59:26Z'},\n",
        " {'b': 18, 'd': 99, 'date': '2014-08-05T10:59:26Z'},\n",
        " {'b': 24, 'd': 14, 'date': '2014-08-05T12:59:26Z'},\n",
        " {'a': 91, 'c': 1, 'date': '2014-08-06T00:00:00Z'},\n",
        " {'b': 56, 'd': 42, 'date': '2014-08-06T04:59:26Z'},\n",
        " {'b': 30, 'd': 6, 'date': '2014-08-06T06:59:26Z'},\n",
        " {'b': 85, 'd': 100, 'date': '2014-08-06T08:59:26Z'},\n",
        " {'b': 25, 'd': 3, 'date': '2014-08-06T10:59:26Z'},\n",
        " {'b': 88, 'd': 74, 'date': '2014-08-06T12:59:26Z'},\n",
        " {'a': 71, 'c': 96, 'date': '2014-08-07T00:00:00Z'},\n",
        " {'b': 94, 'd': 70, 'date': '2014-08-07T04:59:26Z'},\n",
        " {'b': 100, 'd': 98, 'date': '2014-08-07T06:59:26Z'},\n",
        " {'b': 56, 'd': 56, 'date': '2014-08-07T08:59:26Z'},\n",
        " {'b': 51, 'd': 24, 'date': '2014-08-07T10:59:26Z'},\n",
        " {'b': 9, 'd': 5, 'date': '2014-08-07T12:59:26Z'},\n",
        " {'a': 23, 'c': 24, 'date': '2014-08-08T00:00:00Z'},\n",
        " {'b': 3, 'd': 47, 'date': '2014-08-08T04:59:26Z'},\n",
        " {'b': 8, 'd': 4, 'date': '2014-08-08T06:59:26Z'},\n",
        " {'b': 74, 'd': 47, 'date': '2014-08-08T08:59:26Z'},\n",
        " {'b': 63, 'd': 52, 'date': '2014-08-08T10:59:26Z'},\n",
        " {'b': 65, 'd': 91, 'date': '2014-08-08T12:59:26Z'},\n",
        " {'a': 91, 'c': 18, 'date': '2014-08-09T00:00:00Z'},\n",
        " {'b': 58, 'd': 28, 'date': '2014-08-09T04:59:26Z'},\n",
        " {'b': 23, 'd': 76, 'date': '2014-08-09T06:59:26Z'},\n",
        " {'b': 23, 'd': 37, 'date': '2014-08-09T08:59:26Z'},\n",
        " {'b': 28, 'd': 47, 'date': '2014-08-09T10:59:26Z'},\n",
        " {'b': 5, 'd': 6, 'date': '2014-08-09T12:59:26Z'},\n",
        " {'a': 84, 'c': 5, 'date': '2014-08-10T00:00:00Z'},\n",
        " {'b': 13, 'd': 52, 'date': '2014-08-10T04:59:26Z'},\n",
        " {'b': 90, 'd': 56, 'date': '2014-08-10T06:59:26Z'},\n",
        " {'b': 74, 'd': 37, 'date': '2014-08-10T08:59:26Z'},\n",
        " {'b': 28, 'd': 86, 'date': '2014-08-10T10:59:26Z'},\n",
        " {'b': 8, 'd': 62, 'date': '2014-08-10T12:59:26Z'},\n",
        " {'a': 18, 'c': 18, 'date': '2014-08-11T00:00:00Z'},\n",
        " {'b': 93, 'd': 5, 'date': '2014-08-11T04:59:26Z'},\n",
        " {'b': 8, 'd': 52, 'date': '2014-08-11T06:59:26Z'},\n",
        " {'b': 92, 'd': 70, 'date': '2014-08-11T08:59:26Z'},\n",
        " {'b': 73, 'd': 18, 'date': '2014-08-11T10:59:26Z'},\n",
        " {'b': 2, 'd': 46, 'date': '2014-08-11T12:59:26Z'},\n",
        " {'a': 19, 'c': 8, 'date': '2014-08-12T00:00:00Z'},\n",
        " {'b': 55, 'd': 65, 'date': '2014-08-12T04:59:26Z'},\n",
        " {'b': 75, 'd': 21, 'date': '2014-08-12T06:59:26Z'},\n",
        " {'b': 92, 'd': 85, 'date': '2014-08-12T08:59:26Z'},\n",
        " {'b': 74, 'd': 69, 'date': '2014-08-12T10:59:26Z'},\n",
        " {'b': 62, 'd': 30, 'date': '2014-08-12T12:59:26Z'},\n",
        " {'a': 97, 'c': 55, 'date': '2014-08-13T00:00:00Z'},\n",
        " {'b': 35, 'd': 40, 'date': '2014-08-13T04:59:26Z'},\n",
        " {'b': 12, 'd': 90, 'date': '2014-08-13T06:59:26Z'},\n",
        " {'b': 47, 'd': 76, 'date': '2014-08-13T08:59:26Z'},\n",
        " {'b': 100, 'd': 35, 'date': '2014-08-13T10:59:26Z'},\n",
        " {'b': 8, 'd': 62, 'date': '2014-08-13T12:59:26Z'},\n",
        " {'a': 40, 'c': 66, 'date': '2014-08-14T00:00:00Z'},\n",
        " {'b': 53, 'd': 6, 'date': '2014-08-14T04:59:26Z'},\n",
        " {'b': 96, 'd': 15, 'date': '2014-08-14T06:59:26Z'},\n",
        " {'b': 96, 'd': 62, 'date': '2014-08-14T08:59:26Z'},\n",
        " {'b': 88, 'd': 94, 'date': '2014-08-14T10:59:26Z'},\n",
        " {'b': 69, 'd': 31, 'date': '2014-08-14T12:59:26Z'},\n",
        " {'a': 55, 'c': 53, 'date': '2014-08-15T00:00:00Z'},\n",
        " {'b': 81, 'd': 28, 'date': '2014-08-15T04:59:26Z'},\n",
        " {'b': 83, 'd': 74, 'date': '2014-08-15T06:59:26Z'},\n",
        " {'b': 12, 'd': 24, 'date': '2014-08-15T08:59:26Z'},\n",
        " {'b': 88, 'd': 46, 'date': '2014-08-15T10:59:26Z'},\n",
        " {'b': 10, 'd': 96, 'date': '2014-08-15T12:59:26Z'},\n",
        " {'a': 16, 'c': 2, 'date': '2014-08-16T00:00:00Z'},\n",
        " {'b': 92, 'd': 80, 'date': '2014-08-16T04:59:26Z'},\n",
        " {'b': 9, 'd': 26, 'date': '2014-08-16T06:59:26Z'},\n",
        " {'b': 56, 'd': 23, 'date': '2014-08-16T08:59:26Z'},\n",
        " {'b': 18, 'd': 53, 'date': '2014-08-16T10:59:26Z'},\n",
        " {'b': 35, 'd': 90, 'date': '2014-08-16T12:59:26Z'},\n",
        " {'a': 89, 'c': 40, 'date': '2014-08-18T00:00:00Z'}]"
       ]
      }
     ],
     "prompt_number": 12
    },
    {
     "cell_type": "code",
     "collapsed": false,
     "input": [
      "initDO.iffo().igraph().graphFrame"
     ],
     "language": "python",
     "metadata": {},
     "outputs": [
      {
       "metadata": {},
       "output_type": "pyout",
       "prompt_number": 6,
       "text": [
        "[{'date': '2014-07-20T19:09:25Z',\n",
        "  'dependant_question': 2,\n",
        "  'independant_question': 6},\n",
        " {'date': '2014-07-20T21:09:25Z',\n",
        "  'dependant_question': 3,\n",
        "  'independant_question': 9},\n",
        " {'date': '2014-07-20T23:09:25Z',\n",
        "  'dependant_question': 6,\n",
        "  'independant_question': 8},\n",
        " {'date': '2014-07-21T01:09:25Z',\n",
        "  'dependant_question': 5,\n",
        "  'independant_question': 7},\n",
        " {'date': '2014-07-21T03:09:25Z',\n",
        "  'dependant_question': 4,\n",
        "  'independant_question': 5},\n",
        " {'date': '2014-07-21T19:09:25Z',\n",
        "  'dependant_question': 7,\n",
        "  'independant_question': 4},\n",
        " {'date': '2014-07-21T21:09:25Z',\n",
        "  'dependant_question': 9,\n",
        "  'independant_question': 1},\n",
        " {'date': '2014-07-21T23:09:25Z',\n",
        "  'dependant_question': 7,\n",
        "  'independant_question': 2},\n",
        " {'date': '2014-07-22T01:09:25Z',\n",
        "  'dependant_question': 4,\n",
        "  'independant_question': 1},\n",
        " {'date': '2014-07-22T03:09:25Z',\n",
        "  'dependant_question': 1,\n",
        "  'independant_question': 2},\n",
        " {'date': '2014-07-22T19:09:25Z',\n",
        "  'dependant_question': 2,\n",
        "  'independant_question': 6},\n",
        " {'date': '2014-07-22T21:09:25Z',\n",
        "  'dependant_question': 3,\n",
        "  'independant_question': 9},\n",
        " {'date': '2014-07-22T23:09:25Z',\n",
        "  'dependant_question': 6,\n",
        "  'independant_question': 8},\n",
        " {'date': '2014-07-23T01:09:25Z',\n",
        "  'dependant_question': 5,\n",
        "  'independant_question': 7},\n",
        " {'date': '2014-07-23T03:09:25Z',\n",
        "  'dependant_question': 4,\n",
        "  'independant_question': 5},\n",
        " {'date': '2014-07-23T19:09:25Z',\n",
        "  'dependant_question': 7,\n",
        "  'independant_question': 4},\n",
        " {'date': '2014-07-23T21:09:25Z',\n",
        "  'dependant_question': 9,\n",
        "  'independant_question': 1},\n",
        " {'date': '2014-07-23T23:09:25Z',\n",
        "  'dependant_question': 7,\n",
        "  'independant_question': 2},\n",
        " {'date': '2014-07-24T01:09:25Z',\n",
        "  'dependant_question': 4,\n",
        "  'independant_question': 1},\n",
        " {'date': '2014-07-24T03:09:25Z',\n",
        "  'dependant_question': 1,\n",
        "  'independant_question': 2},\n",
        " {'date': '2014-07-24T19:09:25Z',\n",
        "  'dependant_question': 2,\n",
        "  'independant_question': 6},\n",
        " {'date': '2014-07-24T21:09:25Z',\n",
        "  'dependant_question': 3,\n",
        "  'independant_question': 9},\n",
        " {'date': '2014-07-24T23:09:25Z',\n",
        "  'dependant_question': 6,\n",
        "  'independant_question': 8},\n",
        " {'date': '2014-07-25T01:09:25Z',\n",
        "  'dependant_question': 5,\n",
        "  'independant_question': 7},\n",
        " {'date': '2014-07-25T03:09:25Z',\n",
        "  'dependant_question': 4,\n",
        "  'independant_question': 5},\n",
        " {'date': '2014-07-25T19:09:25Z',\n",
        "  'dependant_question': 7,\n",
        "  'independant_question': 4},\n",
        " {'date': '2014-07-25T21:09:25Z',\n",
        "  'dependant_question': 9,\n",
        "  'independant_question': 1},\n",
        " {'date': '2014-07-25T23:09:25Z',\n",
        "  'dependant_question': 7,\n",
        "  'independant_question': 2},\n",
        " {'date': '2014-07-26T01:09:25Z',\n",
        "  'dependant_question': 4,\n",
        "  'independant_question': 1},\n",
        " {'date': '2014-07-26T03:09:25Z',\n",
        "  'dependant_question': 1,\n",
        "  'independant_question': 2},\n",
        " {'date': '2014-07-26T19:09:25Z',\n",
        "  'dependant_question': 2,\n",
        "  'independant_question': 6},\n",
        " {'date': '2014-07-26T21:09:25Z',\n",
        "  'dependant_question': 3,\n",
        "  'independant_question': 9},\n",
        " {'date': '2014-07-26T23:09:25Z',\n",
        "  'dependant_question': 6,\n",
        "  'independant_question': 8},\n",
        " {'date': '2014-07-27T01:09:25Z',\n",
        "  'dependant_question': 5,\n",
        "  'independant_question': 7},\n",
        " {'date': '2014-07-27T03:09:25Z',\n",
        "  'dependant_question': 4,\n",
        "  'independant_question': 5},\n",
        " {'date': '2014-07-27T19:09:25Z',\n",
        "  'dependant_question': 7,\n",
        "  'independant_question': 4},\n",
        " {'date': '2014-07-27T21:09:25Z',\n",
        "  'dependant_question': 9,\n",
        "  'independant_question': 1},\n",
        " {'date': '2014-07-27T23:09:25Z',\n",
        "  'dependant_question': 7,\n",
        "  'independant_question': 2},\n",
        " {'date': '2014-07-28T01:09:25Z',\n",
        "  'dependant_question': 4,\n",
        "  'independant_question': 1},\n",
        " {'date': '2014-07-28T03:09:25Z',\n",
        "  'dependant_question': 1,\n",
        "  'independant_question': 2},\n",
        " {'date': '2014-07-28T19:09:25Z',\n",
        "  'dependant_question': 2,\n",
        "  'independant_question': 6},\n",
        " {'date': '2014-07-28T21:09:25Z',\n",
        "  'dependant_question': 3,\n",
        "  'independant_question': 9},\n",
        " {'date': '2014-07-28T23:09:25Z',\n",
        "  'dependant_question': 6,\n",
        "  'independant_question': 8},\n",
        " {'date': '2014-07-29T01:09:25Z',\n",
        "  'dependant_question': 5,\n",
        "  'independant_question': 7},\n",
        " {'date': '2014-07-29T03:09:25Z',\n",
        "  'dependant_question': 4,\n",
        "  'independant_question': 5},\n",
        " {'date': '2014-07-29T19:09:25Z',\n",
        "  'dependant_question': 7,\n",
        "  'independant_question': 4},\n",
        " {'date': '2014-07-29T21:09:25Z',\n",
        "  'dependant_question': 9,\n",
        "  'independant_question': 1},\n",
        " {'date': '2014-07-29T23:09:25Z',\n",
        "  'dependant_question': 7,\n",
        "  'independant_question': 2},\n",
        " {'date': '2014-07-30T01:09:25Z',\n",
        "  'dependant_question': 4,\n",
        "  'independant_question': 1},\n",
        " {'date': '2014-07-30T03:09:25Z',\n",
        "  'dependant_question': 1,\n",
        "  'independant_question': 2},\n",
        " {'date': '2014-07-30T19:09:25Z',\n",
        "  'dependant_question': 2,\n",
        "  'independant_question': 6},\n",
        " {'date': '2014-07-30T21:09:25Z',\n",
        "  'dependant_question': 3,\n",
        "  'independant_question': 9},\n",
        " {'date': '2014-07-30T23:09:25Z',\n",
        "  'dependant_question': 6,\n",
        "  'independant_question': 8},\n",
        " {'date': '2014-07-31T01:09:25Z',\n",
        "  'dependant_question': 5,\n",
        "  'independant_question': 7},\n",
        " {'date': '2014-07-31T03:09:25Z',\n",
        "  'dependant_question': 4,\n",
        "  'independant_question': 5},\n",
        " {'date': '2014-07-31T19:09:25Z',\n",
        "  'dependant_question': 7,\n",
        "  'independant_question': 4},\n",
        " {'date': '2014-07-31T21:09:25Z',\n",
        "  'dependant_question': 9,\n",
        "  'independant_question': 1},\n",
        " {'date': '2014-07-31T23:09:25Z',\n",
        "  'dependant_question': 7,\n",
        "  'independant_question': 2},\n",
        " {'date': '2014-08-01T01:09:25Z',\n",
        "  'dependant_question': 4,\n",
        "  'independant_question': 1},\n",
        " {'date': '2014-08-01T03:09:25Z',\n",
        "  'dependant_question': 1,\n",
        "  'independant_question': 2},\n",
        " {'date': '2014-08-01T19:09:25Z',\n",
        "  'dependant_question': 2,\n",
        "  'independant_question': 6},\n",
        " {'date': '2014-08-01T21:09:25Z',\n",
        "  'dependant_question': 3,\n",
        "  'independant_question': 9},\n",
        " {'date': '2014-08-01T23:09:25Z',\n",
        "  'dependant_question': 6,\n",
        "  'independant_question': 8},\n",
        " {'date': '2014-08-02T01:09:25Z',\n",
        "  'dependant_question': 5,\n",
        "  'independant_question': 7},\n",
        " {'date': '2014-08-02T03:09:25Z',\n",
        "  'dependant_question': 4,\n",
        "  'independant_question': 5},\n",
        " {'date': '2014-08-02T19:09:25Z',\n",
        "  'dependant_question': 7,\n",
        "  'independant_question': 4},\n",
        " {'date': '2014-08-02T21:09:25Z',\n",
        "  'dependant_question': 9,\n",
        "  'independant_question': 1},\n",
        " {'date': '2014-08-02T23:09:25Z',\n",
        "  'dependant_question': 7,\n",
        "  'independant_question': 2},\n",
        " {'date': '2014-08-03T01:09:25Z',\n",
        "  'dependant_question': 4,\n",
        "  'independant_question': 1},\n",
        " {'date': '2014-08-03T03:09:25Z',\n",
        "  'dependant_question': 1,\n",
        "  'independant_question': 2},\n",
        " {'date': '2014-08-03T19:09:25Z',\n",
        "  'dependant_question': 2,\n",
        "  'independant_question': 6},\n",
        " {'date': '2014-08-03T21:09:25Z',\n",
        "  'dependant_question': 3,\n",
        "  'independant_question': 9},\n",
        " {'date': '2014-08-03T23:09:25Z',\n",
        "  'dependant_question': 6,\n",
        "  'independant_question': 8},\n",
        " {'date': '2014-08-04T01:09:25Z',\n",
        "  'dependant_question': 5,\n",
        "  'independant_question': 7},\n",
        " {'date': '2014-08-04T03:09:25Z',\n",
        "  'dependant_question': 4,\n",
        "  'independant_question': 5},\n",
        " {'date': '2014-08-04T19:09:25Z',\n",
        "  'dependant_question': 7,\n",
        "  'independant_question': 4},\n",
        " {'date': '2014-08-04T21:09:25Z',\n",
        "  'dependant_question': 9,\n",
        "  'independant_question': 1},\n",
        " {'date': '2014-08-04T23:09:25Z',\n",
        "  'dependant_question': 7,\n",
        "  'independant_question': 2},\n",
        " {'date': '2014-08-05T01:09:25Z',\n",
        "  'dependant_question': 4,\n",
        "  'independant_question': 1},\n",
        " {'date': '2014-08-05T03:09:25Z',\n",
        "  'dependant_question': 1,\n",
        "  'independant_question': 2},\n",
        " {'date': '2014-08-05T19:09:25Z',\n",
        "  'dependant_question': 2,\n",
        "  'independant_question': 6},\n",
        " {'date': '2014-08-05T21:09:25Z',\n",
        "  'dependant_question': 3,\n",
        "  'independant_question': 9},\n",
        " {'date': '2014-08-05T23:09:25Z',\n",
        "  'dependant_question': 6,\n",
        "  'independant_question': 8},\n",
        " {'date': '2014-08-06T01:09:25Z',\n",
        "  'dependant_question': 5,\n",
        "  'independant_question': 7},\n",
        " {'date': '2014-08-06T03:09:25Z',\n",
        "  'dependant_question': 4,\n",
        "  'independant_question': 5},\n",
        " {'date': '2014-08-06T19:09:25Z',\n",
        "  'dependant_question': 7,\n",
        "  'independant_question': 4},\n",
        " {'date': '2014-08-06T21:09:25Z',\n",
        "  'dependant_question': 9,\n",
        "  'independant_question': 1},\n",
        " {'date': '2014-08-06T23:09:25Z',\n",
        "  'dependant_question': 7,\n",
        "  'independant_question': 2},\n",
        " {'date': '2014-08-07T01:09:25Z',\n",
        "  'dependant_question': 4,\n",
        "  'independant_question': 1},\n",
        " {'date': '2014-08-07T03:09:25Z',\n",
        "  'dependant_question': 1,\n",
        "  'independant_question': 2},\n",
        " {'date': '2014-08-07T19:09:25Z',\n",
        "  'dependant_question': 2,\n",
        "  'independant_question': 6},\n",
        " {'date': '2014-08-07T21:09:25Z',\n",
        "  'dependant_question': 3,\n",
        "  'independant_question': 9},\n",
        " {'date': '2014-08-07T23:09:25Z',\n",
        "  'dependant_question': 6,\n",
        "  'independant_question': 8},\n",
        " {'date': '2014-08-08T01:09:25Z',\n",
        "  'dependant_question': 5,\n",
        "  'independant_question': 7},\n",
        " {'date': '2014-08-08T03:09:25Z',\n",
        "  'dependant_question': 4,\n",
        "  'independant_question': 5},\n",
        " {'date': '2014-08-08T19:09:25Z',\n",
        "  'dependant_question': 7,\n",
        "  'independant_question': 4},\n",
        " {'date': '2014-08-08T21:09:25Z',\n",
        "  'dependant_question': 9,\n",
        "  'independant_question': 1},\n",
        " {'date': '2014-08-08T23:09:25Z',\n",
        "  'dependant_question': 7,\n",
        "  'independant_question': 2},\n",
        " {'date': '2014-08-09T01:09:25Z',\n",
        "  'dependant_question': 4,\n",
        "  'independant_question': 1},\n",
        " {'date': '2014-08-09T03:09:25Z',\n",
        "  'dependant_question': 1,\n",
        "  'independant_question': 2}]"
       ]
      }
     ],
     "prompt_number": 6
    },
    {
     "cell_type": "code",
     "collapsed": false,
     "input": [],
     "language": "python",
     "metadata": {},
     "outputs": []
    },
    {
     "cell_type": "code",
     "collapsed": false,
     "input": [],
     "language": "python",
     "metadata": {},
     "outputs": []
    },
    {
     "cell_type": "code",
     "collapsed": false,
     "input": [],
     "language": "python",
     "metadata": {},
     "outputs": []
    },
    {
     "cell_type": "code",
     "collapsed": false,
     "input": [],
     "language": "python",
     "metadata": {},
     "outputs": []
    },
    {
     "cell_type": "code",
     "collapsed": false,
     "input": [
      "#Developer Class\n",
      "from SecApp.DBBaseClass import Developer\n",
      "dev = Developer('')\n",
      "print dev.dump()"
     ],
     "language": "python",
     "metadata": {},
     "outputs": [
      {
       "output_type": "stream",
       "stream": "stdout",
       "text": [
        "{'Qindex': '9e3ad8028b9b45e98827ff84e4a9ca55', '_rev': '0003b0d7', 'DBVersion': '0.3.1a', 't': 'master', '_id': 'b6b73c864c8d461181843690ef7e1c71', 'Tindex': 'ed65b84e06d84ddaa05a95961d620ea7'}\n",
        "{'_rev': '00026d17', '_id': '9e3ad8028b9b45e98827ff84e4a9ca55', 't': 'Qindex', 'dependant_question': {'active': 'True', 'aggregate': 'False', 'range': '0-100', 'typ': 'slider', 'multipoint': 'False'}, 'independant_question': {'active': 'True', 'aggregate': 'False', 'range': '0-100', 'typ': 'slider', 'multipoint': 'True'}}\n",
        "{'table': ['5a11ec7ed57a4b4f8d98626daa77cadd', '657d62aad89747abacb8c07d8db80ed8'], '_rev': '00036722', '_id': 'ed65b84e06d84ddaa05a95961d620ea7', 't': 'Tindex'}\n",
        "{'date': '2014-8-13 00:00:00.000000', '_rev': '006563c7', '_id': '5a11ec7ed57a4b4f8d98626daa77cadd', 'independant_question': {'2014-08-10 14:03:41': 8, '2014-08-08 16:03:41': 7, '2014-07-26 16:03:41': 1, '2014-07-29 12:03:41': 9, '2014-08-04 10:03:41': 6, '2014-08-01 10:03:41': 4, '2014-08-07 18:03:41': 2, '2014-08-10 12:03:41': 9, '2014-08-07 12:03:41': 1, '2014-08-07 10:03:41': 4, '2014-07-31 14:03:41': 8, '2014-08-02 18:03:41': 5, '2014-07-28 18:03:41': 2, '2014-08-08 14:03:41': 8, '2014-08-06 12:03:41': 9, '2014-08-06 14:03:41': 8, '2014-08-04 18:03:41': 5, '2014-08-11 14:03:41': 2, '2014-08-10 18:03:41': 5, '2014-08-03 14:03:41': 2, '2014-07-29 18:03:41': 5, '2014-07-31 16:03:41': 7, '2014-07-23 16:03:41': 7, '2014-07-24 14:03:41': 2, '2014-08-11 12:03:41': 1, '2014-08-03 16:03:41': 1, '2014-08-06 16:03:41': 7, '2014-08-08 12:03:41': 9, '2014-07-26 10:03:41': 4, '2014-07-29 14:03:41': 8, '2014-08-09 16:03:41': 1, '2014-08-10 10:03:41': 6, '2014-08-08 18:03:41': 5, '2014-08-03 10:03:41': 4, '2014-08-05 12:03:41': 1, '2014-07-23 18:03:41': 5, '2014-07-23 12:03:41': 9, '2014-08-09 10:03:41': 4, '2014-08-04 14:03:41': 8, '2014-08-03 12:03:41': 1, '2014-07-31 10:03:41': 6, '2014-08-06 18:03:41': 5, '2014-07-28 12:03:41': 1, '2014-08-01 14:03:41': 2, '2014-08-01 16:03:41': 1, '2014-07-27 10:03:41': 6, '2014-07-26 14:03:41': 2, '2014-07-29 16:03:41': 7, '2014-07-24 10:03:41': 4, '2014-08-09 12:03:41': 1, '2014-07-23 10:03:41': 6, '2014-08-01 18:03:41': 2, '2014-07-24 12:03:41': 1, '2014-07-23 14:03:41': 8, '2014-07-27 14:03:41': 8, '2014-08-09 18:03:41': 2, '2014-08-02 14:03:41': 8, '2014-08-03 18:03:41': 2, '2014-08-11 10:03:41': 4, '2014-07-25 18:03:41': 5, '2014-07-25 14:03:41': 8, '2014-08-01 12:03:41': 1, '2014-08-05 14:03:41': 2, '2014-08-02 12:03:41': 9, '2014-07-25 10:03:41': 6, '2014-07-31 12:03:41': 9, '2014-08-04 16:03:41': 7, '2014-08-11 16:03:41': 1, '2014-08-08 10:03:41': 6, '2014-07-28 16:03:41': 1, '2014-08-05 16:03:41': 1, '2014-08-11 18:03:41': 2, '2014-07-27 18:03:41': 5, '2014-07-30 18:03:41': 2, '2014-08-06 10:03:41': 6, '2014-08-02 16:03:41': 7, '2014-07-30 12:03:41': 1, '2014-07-27 12:03:41': 9, '2014-07-26 12:03:41': 1, '2014-08-05 18:03:41': 2, '2014-08-07 14:03:41': 2, '2014-07-24 16:03:41': 1, '2014-08-05 10:03:41': 4, '2014-07-30 14:03:41': 2, '2014-07-26 18:03:41': 2, '2014-07-30 16:03:41': 1, '2014-07-28 14:03:41': 2, '2014-07-31 18:03:41': 5, '2014-07-24 18:03:41': 2, '2014-08-09 14:03:41': 2, '2014-07-28 10:03:41': 4, '2014-08-10 16:03:41': 7, '2014-07-27 16:03:41': 7, '2014-07-25 12:03:41': 9, '2014-07-30 10:03:41': 4, '2014-07-29 10:03:41': 6, '2014-07-25 16:03:41': 7, '2014-08-02 10:03:41': 6, '2014-08-07 16:03:41': 1, '2014-08-04 12:03:41': 9}, 'dependant_question': {'2014-08-10 14:03:41': 6, '2014-08-08 16:03:41': 5, '2014-07-26 16:03:41': 4, '2014-07-29 12:03:41': 3, '2014-08-04 10:03:41': 2, '2014-08-01 10:03:41': 7, '2014-08-07 18:03:41': 1, '2014-08-10 12:03:41': 3, '2014-08-07 12:03:41': 9, '2014-08-07 10:03:41': 7, '2014-07-31 14:03:41': 6, '2014-08-02 18:03:41': 4, '2014-07-28 18:03:41': 1, '2014-08-08 14:03:41': 6, '2014-08-06 12:03:41': 3, '2014-08-06 14:03:41': 6, '2014-08-04 18:03:41': 4, '2014-08-11 14:03:41': 7, '2014-08-10 18:03:41': 4, '2014-08-03 14:03:41': 7, '2014-07-29 18:03:41': 4, '2014-07-31 16:03:41': 5, '2014-07-23 16:03:41': 5, '2014-07-24 14:03:41': 7, '2014-08-11 12:03:41': 9, '2014-08-03 16:03:41': 4, '2014-08-06 16:03:41': 5, '2014-08-08 12:03:41': 3, '2014-07-26 10:03:41': 7, '2014-07-29 14:03:41': 6, '2014-08-09 16:03:41': 4, '2014-08-10 10:03:41': 2, '2014-08-08 18:03:41': 4, '2014-08-03 10:03:41': 7, '2014-08-05 12:03:41': 9, '2014-07-23 18:03:41': 4, '2014-07-23 12:03:41': 3, '2014-08-09 10:03:41': 7, '2014-08-04 14:03:41': 6, '2014-08-03 12:03:41': 9, '2014-07-31 10:03:41': 2, '2014-08-06 18:03:41': 4, '2014-07-28 12:03:41': 9, '2014-08-01 14:03:41': 7, '2014-08-01 16:03:41': 4, '2014-07-27 10:03:41': 2, '2014-07-26 14:03:41': 7, '2014-07-29 16:03:41': 5, '2014-07-24 10:03:41': 7, '2014-08-09 12:03:41': 9, '2014-07-23 10:03:41': 2, '2014-08-01 18:03:41': 1, '2014-07-24 12:03:41': 9, '2014-07-23 14:03:41': 6, '2014-07-27 14:03:41': 6, '2014-08-09 18:03:41': 1, '2014-08-02 14:03:41': 6, '2014-08-03 18:03:41': 1, '2014-08-11 10:03:41': 7, '2014-07-25 18:03:41': 4, '2014-07-25 14:03:41': 6, '2014-08-01 12:03:41': 9, '2014-08-05 14:03:41': 7, '2014-08-02 12:03:41': 3, '2014-07-25 10:03:41': 2, '2014-07-31 12:03:41': 3, '2014-08-04 16:03:41': 5, '2014-08-11 16:03:41': 4, '2014-08-08 10:03:41': 2, '2014-07-28 16:03:41': 4, '2014-08-05 16:03:41': 4, '2014-08-11 18:03:41': 1, '2014-07-27 18:03:41': 4, '2014-07-30 18:03:41': 1, '2014-08-06 10:03:41': 2, '2014-08-02 16:03:41': 5, '2014-07-30 12:03:41': 9, '2014-07-27 12:03:41': 3, '2014-07-26 12:03:41': 9, '2014-08-05 18:03:41': 1, '2014-08-07 14:03:41': 7, '2014-07-24 16:03:41': 4, '2014-08-05 10:03:41': 7, '2014-07-30 14:03:41': 7, '2014-07-26 18:03:41': 1, '2014-07-30 16:03:41': 4, '2014-07-28 14:03:41': 7, '2014-07-31 18:03:41': 4, '2014-07-24 18:03:41': 1, '2014-08-09 14:03:41': 7, '2014-07-28 10:03:41': 7, '2014-08-10 16:03:41': 5, '2014-07-27 16:03:41': 5, '2014-07-25 12:03:41': 3, '2014-07-30 10:03:41': 7, '2014-07-29 10:03:41': 2, '2014-07-25 16:03:41': 5, '2014-08-02 10:03:41': 2, '2014-08-07 16:03:41': 4, '2014-08-04 12:03:41': 3}}\n",
        "{'date': '2014-8-11 00:00:00.000000', '_rev': '00011662', '_id': '657d62aad89747abacb8c07d8db80ed8'}\n",
        "None\n"
       ]
      }
     ],
     "prompt_number": 7
    },
    {
     "cell_type": "code",
     "collapsed": false,
     "input": [],
     "language": "python",
     "metadata": {},
     "outputs": []
    }
   ],
   "metadata": {}
  }
 ]
}