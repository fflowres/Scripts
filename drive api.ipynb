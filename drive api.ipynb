{
 "metadata": {
  "name": "",
  "signature": "sha256:54b820b589bb64e4151dff4081db238673151c1c600575b346e710a3b728eeb6"
 },
 "nbformat": 3,
 "nbformat_minor": 0,
 "worksheets": [
  {
   "cells": [
    {
     "cell_type": "code",
     "collapsed": false,
     "input": [
      "# Insert row into spreadsheet on Google Drive:\n",
      "spr_client = SpreadsheetsService()\n",
      "spr_client.email = 'YourEmail@gmail.com'\n",
      "spr_client.password = 'YourPassword'\n",
      "spr_client.source = 'Test GData App'\n",
      "spr_client.ProgrammaticLogin()\n",
      "\n",
      "q = gdata.spreadsheet.service.DocumentQuery()\n",
      "q['title'] = 'EVE_Wallet'\n",
      "q['title-exact'] = 'true'\n",
      "feed = spr_client.GetSpreadsheetsFeed(query=q)\n",
      "spreadsheet_id = feed.entry[0].id.text.rsplit('/',1)[1]\n",
      "feed = spr_client.GetWorksheetsFeed(spreadsheet_id)\n",
      "worksheet_id = feed.entry[0].id.text.rsplit('/',1)[1]\n",
      "\n",
      "spr_client.InsertRow(wallet,spreadsheet_id,worksheet_id)"
     ],
     "language": "python",
     "metadata": {},
     "outputs": []
    },
    {
     "cell_type": "code",
     "collapsed": false,
     "input": [],
     "language": "python",
     "metadata": {},
     "outputs": []
    }
   ],
   "metadata": {}
  }
 ]
}