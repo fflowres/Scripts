{
 "metadata": {
  "name": "",
  "signature": "sha256:db6fba2a6bf2c40a2f71fe54c801a04db0f080031de966dabe15f60019c9db8d"
 },
 "nbformat": 3,
 "nbformat_minor": 0,
 "worksheets": [
  {
   "cells": [
    {
     "cell_type": "code",
     "collapsed": false,
     "input": [
      "dep = ['a0','a1','a2','a3','a4','a5','a6']\n",
      "ind = [[2],[1,2,3],[2,3,4],[4,5],[5],[6,7,8,9]]"
     ],
     "language": "python",
     "metadata": {},
     "outputs": [],
     "prompt_number": 1
    },
    {
     "cell_type": "code",
     "collapsed": false,
     "input": [
      "def getprocval(alist):\n",
      "    #could get average for each point easy\n",
      "    for li in alist:\n",
      "    \n",
      "    #"
     ],
     "language": "python",
     "metadata": {},
     "outputs": []
    },
    {
     "cell_type": "code",
     "collapsed": false,
     "input": [
      "import numpy\n",
      "\n",
      "def interpolate(yin, xin, xout, method='linear'):  \n",
      "  \"\"\" \n",
      "  Interpolate the curve defined by (xin, yin) at points xout. The array \n",
      "  xin must be monotonically increasing. The output has the same data type as \n",
      "  the input yin. \n",
      " \n",
      "  :param yin: y values of input curve \n",
      "  :param xin: x values of input curve \n",
      "  :param xout: x values of output interpolated curve \n",
      "  :param method: interpolation method ('linear' | 'nearest') \n",
      " \n",
      "  @:rtype: numpy array with interpolated curve \n",
      "  \"\"\"  \n",
      "  lenxin = len(xin)  \n",
      "  \n",
      "  i1 = numpy.searchsorted(xin, xout)  \n",
      "  i1[ i1==0 ] = 1  \n",
      "  i1[ i1==lenxin ] = lenxin-1  \n",
      "  \n",
      "  x0 = xin[i1-1]  \n",
      "  x1 = xin[i1]  \n",
      "  y0 = yin[i1-1]  \n",
      "  y1 = yin[i1]  \n",
      "  \n",
      "  if method == 'linear':  \n",
      "    return (xout - x0) / (x1 - x0) * (y1 - y0) + y0  \n",
      "  elif method == 'nearest':  \n",
      "    return numpy.where(numpy.abs(xout - x0) < numpy.abs(xout - x1), y0, y1)  \n",
      "  else:  \n",
      "    raise ValueError('Invalid interpolation method: %s' % method)# Python code here"
     ],
     "language": "python",
     "metadata": {},
     "outputs": [],
     "prompt_number": 2
    },
    {
     "cell_type": "code",
     "collapsed": false,
     "input": [
      "from SecApp.DBOutputClass import SecuFrame\n",
      "initDO = SecuFrame('')\n",
      "fds = initDO.iffo().orderedmap().processFrameList\n",
      "uofds = initDO.iffo().orderedmap().processFrameDict"
     ],
     "language": "python",
     "metadata": {},
     "outputs": [],
     "prompt_number": 5
    },
    {
     "cell_type": "code",
     "collapsed": false,
     "input": [
      "import datetime\n",
      "class AvgGen:\n",
      "    def __init__(self,ordereddata,keyeddata,indkeywanted,depkeywanted):\n",
      "        self.data = ordereddata\n",
      "        self.data2 = keyeddata\n",
      "        self.inddatakey = indkeywanted\n",
      "        self.depdatakey = depkeywanted\n",
      "        \n",
      "        self.getfirstdate()\n",
      "        self.avgdata=[]\n",
      "        self.singlesdata=[]\n",
      "        self.iteratemulti()\n",
      "        self.iteratesingles()\n",
      "        \n",
      "    def getfirstdate(self):\n",
      "        self.idxdate = self.data[0].keys()[0]\n",
      "    \n",
      "    def iteratemulti(self):\n",
      "        self.currdate = self.idxdate\n",
      "        self.nxtdate = self.currdate + datetime.timedelta(days=1)\n",
      "        averagelist = []\n",
      "        for item in self.data:\n",
      "            try:\n",
      "                date = item.keys()[0]                \n",
      "                if item == self.data[0]:\n",
      "                    continue #skip first\n",
      "                if date == self.nxtdate:\n",
      "                    self.avgdata.append(sum(averagelist) / float(len(averagelist)))\n",
      "                    averagelist = []\n",
      "                    self.currdate = date\n",
      "                    self.nxtdate = date + datetime.timedelta(days=1)\n",
      "                else:\n",
      "                    averagelist.append(item[date][self.inddatakey])\n",
      "            except KeyError:\n",
      "                continue\n",
      "        return self\n",
      "\n",
      "    \n",
      "    \n",
      "    def iteratesingles(self):\n",
      "        self.nxtdate = self.idxdate + datetime.timedelta(days=1)\n",
      "        self.singlesdata.append(self.data2[self.idxdate][self.depdatakey])\n",
      "        while True:\n",
      "            try:\n",
      "                self.nxtdate = self.nxtdate + datetime.timedelta(days=1)\n",
      "                self.singlesdata.append(self.data2[self.idxdate][self.depdatakey])\n",
      "                print 'ok'\n",
      "            except:\n",
      "                break\n",
      "        return self\n",
      "    \n",
      "    \n",
      "    \n",
      "        \n",
      "        "
     ],
     "language": "python",
     "metadata": {},
     "outputs": [],
     "prompt_number": 1
    },
    {
     "cell_type": "code",
     "collapsed": false,
     "input": [
      "a = AvgGen(fds,uofds,'independant_question')\n",
      "a.avgdata"
     ],
     "language": "python",
     "metadata": {},
     "outputs": [
      {
       "ename": "NameError",
       "evalue": "name 'AvgGen' is not defined",
       "output_type": "pyerr",
       "traceback": [
        "\u001b[1;31m---------------------------------------------------------------------------\u001b[0m\n\u001b[1;31mNameError\u001b[0m                                 Traceback (most recent call last)",
        "\u001b[1;32m<ipython-input-3-3d6f7a66e2ec>\u001b[0m in \u001b[0;36m<module>\u001b[1;34m()\u001b[0m\n\u001b[1;32m----> 1\u001b[1;33m \u001b[0ma\u001b[0m \u001b[1;33m=\u001b[0m \u001b[0mAvgGen\u001b[0m\u001b[1;33m(\u001b[0m\u001b[0mfds\u001b[0m\u001b[1;33m,\u001b[0m\u001b[1;34m'independant_question'\u001b[0m\u001b[1;33m)\u001b[0m\u001b[1;33m\u001b[0m\u001b[0m\n\u001b[0m\u001b[0;32m      2\u001b[0m \u001b[0ma\u001b[0m\u001b[1;33m.\u001b[0m\u001b[0mavgdata\u001b[0m\u001b[1;33m\u001b[0m\u001b[0m\n",
        "\u001b[1;31mNameError\u001b[0m: name 'AvgGen' is not defined"
       ]
      }
     ],
     "prompt_number": 3
    },
    {
     "cell_type": "code",
     "collapsed": false,
     "input": [],
     "language": "python",
     "metadata": {},
     "outputs": [
      {
       "metadata": {},
       "output_type": "pyout",
       "prompt_number": 8,
       "text": [
        "[8.1999999999999993,\n",
        " 5.2000000000000002,\n",
        " 6.0,\n",
        " 4.4000000000000004,\n",
        " 4.2000000000000002,\n",
        " 7.2000000000000002,\n",
        " 2.6000000000000001,\n",
        " 6.7999999999999998,\n",
        " 7.2000000000000002,\n",
        " 6.5999999999999996,\n",
        " 6.0,\n",
        " 7.2000000000000002,\n",
        " 6.0,\n",
        " 7.0,\n",
        " 5.0,\n",
        " 4.2000000000000002,\n",
        " 4.7999999999999998,\n",
        " 3.6000000000000001,\n",
        " 5.7999999999999998]"
       ]
      }
     ],
     "prompt_number": 8
    },
    {
     "cell_type": "code",
     "collapsed": false,
     "input": [
      "h =fds[1][fds[1].keys()[0]]['independant_question']\n",
      "h"
     ],
     "language": "python",
     "metadata": {},
     "outputs": [
      {
       "metadata": {},
       "output_type": "pyout",
       "prompt_number": 13,
       "text": [
        "6"
       ]
      }
     ],
     "prompt_number": 13
    },
    {
     "cell_type": "code",
     "collapsed": false,
     "input": [
      "fds"
     ],
     "language": "python",
     "metadata": {},
     "outputs": [
      {
       "metadata": {},
       "output_type": "pyout",
       "prompt_number": 25,
       "text": [
        "[{datetime.datetime(2014, 7, 23, 0, 0): {'dependant_question': 7}},\n",
        " {datetime.datetime(2014, 7, 23, 10, 17, 42): {'independant_question': 6}},\n",
        " {datetime.datetime(2014, 7, 23, 12, 17, 42): {'independant_question': 9}},\n",
        " {datetime.datetime(2014, 7, 23, 14, 17, 42): {'independant_question': 8}},\n",
        " {datetime.datetime(2014, 7, 23, 16, 17, 42): {'independant_question': 7}},\n",
        " {datetime.datetime(2014, 7, 23, 18, 17, 42): {'independant_question': 5}},\n",
        " {datetime.datetime(2014, 7, 24, 0, 0): {'dependant_question': 2}},\n",
        " {datetime.datetime(2014, 7, 24, 10, 17, 42): {'independant_question': 4}},\n",
        " {datetime.datetime(2014, 7, 24, 12, 17, 42): {'independant_question': 1}},\n",
        " {datetime.datetime(2014, 7, 24, 14, 17, 42): {'independant_question': 2}},\n",
        " {datetime.datetime(2014, 7, 24, 16, 17, 42): {'independant_question': 1}},\n",
        " {datetime.datetime(2014, 7, 24, 18, 17, 42): {'independant_question': 2}},\n",
        " {datetime.datetime(2014, 7, 25, 0, 0): {'dependant_question': 7}},\n",
        " {datetime.datetime(2014, 7, 25, 10, 17, 42): {'independant_question': 6}},\n",
        " {datetime.datetime(2014, 7, 25, 12, 17, 42): {'independant_question': 9}},\n",
        " {datetime.datetime(2014, 7, 25, 14, 17, 42): {'independant_question': 8}},\n",
        " {datetime.datetime(2014, 7, 25, 16, 17, 42): {'independant_question': 7}},\n",
        " {datetime.datetime(2014, 7, 25, 18, 17, 42): {'independant_question': 5}},\n",
        " {datetime.datetime(2014, 7, 26, 0, 0): {'dependant_question': 2}},\n",
        " {datetime.datetime(2014, 7, 26, 10, 17, 42): {'independant_question': 4}},\n",
        " {datetime.datetime(2014, 7, 26, 12, 17, 42): {'independant_question': 1}},\n",
        " {datetime.datetime(2014, 7, 26, 14, 17, 42): {'independant_question': 2}},\n",
        " {datetime.datetime(2014, 7, 26, 16, 17, 42): {'independant_question': 1}},\n",
        " {datetime.datetime(2014, 7, 26, 18, 17, 42): {'independant_question': 2}},\n",
        " {datetime.datetime(2014, 7, 27, 0, 0): {'dependant_question': 7}},\n",
        " {datetime.datetime(2014, 7, 27, 10, 17, 42): {'independant_question': 6}},\n",
        " {datetime.datetime(2014, 7, 27, 12, 17, 42): {'independant_question': 9}},\n",
        " {datetime.datetime(2014, 7, 27, 14, 17, 42): {'independant_question': 8}},\n",
        " {datetime.datetime(2014, 7, 27, 16, 17, 42): {'independant_question': 7}},\n",
        " {datetime.datetime(2014, 7, 27, 18, 17, 42): {'independant_question': 5}},\n",
        " {datetime.datetime(2014, 7, 28, 0, 0): {'dependant_question': 2}},\n",
        " {datetime.datetime(2014, 7, 28, 10, 17, 42): {'independant_question': 4}},\n",
        " {datetime.datetime(2014, 7, 28, 12, 17, 42): {'independant_question': 1}},\n",
        " {datetime.datetime(2014, 7, 28, 14, 17, 42): {'independant_question': 2}},\n",
        " {datetime.datetime(2014, 7, 28, 16, 17, 42): {'independant_question': 1}},\n",
        " {datetime.datetime(2014, 7, 28, 18, 17, 42): {'independant_question': 2}},\n",
        " {datetime.datetime(2014, 7, 29, 0, 0): {'dependant_question': 7}},\n",
        " {datetime.datetime(2014, 7, 29, 10, 17, 42): {'independant_question': 6}},\n",
        " {datetime.datetime(2014, 7, 29, 12, 17, 42): {'independant_question': 9}},\n",
        " {datetime.datetime(2014, 7, 29, 14, 17, 42): {'independant_question': 8}},\n",
        " {datetime.datetime(2014, 7, 29, 16, 17, 42): {'independant_question': 7}},\n",
        " {datetime.datetime(2014, 7, 29, 18, 17, 42): {'independant_question': 5}},\n",
        " {datetime.datetime(2014, 7, 30, 0, 0): {'dependant_question': 2}},\n",
        " {datetime.datetime(2014, 7, 30, 10, 17, 42): {'independant_question': 4}},\n",
        " {datetime.datetime(2014, 7, 30, 12, 17, 42): {'independant_question': 1}},\n",
        " {datetime.datetime(2014, 7, 30, 14, 17, 42): {'independant_question': 2}},\n",
        " {datetime.datetime(2014, 7, 30, 16, 17, 42): {'independant_question': 1}},\n",
        " {datetime.datetime(2014, 7, 30, 18, 17, 42): {'independant_question': 2}},\n",
        " {datetime.datetime(2014, 7, 31, 0, 0): {'dependant_question': 7}},\n",
        " {datetime.datetime(2014, 7, 31, 10, 17, 42): {'independant_question': 6}},\n",
        " {datetime.datetime(2014, 7, 31, 12, 17, 42): {'independant_question': 9}},\n",
        " {datetime.datetime(2014, 7, 31, 14, 17, 42): {'independant_question': 8}},\n",
        " {datetime.datetime(2014, 7, 31, 16, 17, 42): {'independant_question': 7}},\n",
        " {datetime.datetime(2014, 7, 31, 18, 17, 42): {'independant_question': 5}},\n",
        " {datetime.datetime(2014, 8, 1, 0, 0): {'dependant_question': 2}},\n",
        " {datetime.datetime(2014, 8, 1, 10, 17, 42): {'independant_question': 4}},\n",
        " {datetime.datetime(2014, 8, 1, 12, 17, 42): {'independant_question': 1}},\n",
        " {datetime.datetime(2014, 8, 1, 14, 17, 42): {'independant_question': 2}},\n",
        " {datetime.datetime(2014, 8, 1, 16, 17, 42): {'independant_question': 1}},\n",
        " {datetime.datetime(2014, 8, 1, 18, 17, 42): {'independant_question': 2}},\n",
        " {datetime.datetime(2014, 8, 2, 0, 0): {'dependant_question': 7}},\n",
        " {datetime.datetime(2014, 8, 2, 10, 17, 42): {'independant_question': 6}},\n",
        " {datetime.datetime(2014, 8, 2, 12, 17, 42): {'independant_question': 9}},\n",
        " {datetime.datetime(2014, 8, 2, 14, 17, 42): {'independant_question': 8}},\n",
        " {datetime.datetime(2014, 8, 2, 16, 17, 42): {'independant_question': 7}},\n",
        " {datetime.datetime(2014, 8, 2, 18, 17, 42): {'independant_question': 5}},\n",
        " {datetime.datetime(2014, 8, 3, 0, 0): {'dependant_question': 2}},\n",
        " {datetime.datetime(2014, 8, 3, 10, 17, 42): {'independant_question': 4}},\n",
        " {datetime.datetime(2014, 8, 3, 12, 17, 42): {'independant_question': 1}},\n",
        " {datetime.datetime(2014, 8, 3, 14, 17, 42): {'independant_question': 2}},\n",
        " {datetime.datetime(2014, 8, 3, 16, 17, 42): {'independant_question': 1}},\n",
        " {datetime.datetime(2014, 8, 3, 18, 17, 42): {'independant_question': 2}},\n",
        " {datetime.datetime(2014, 8, 4, 0, 0): {'dependant_question': 7}},\n",
        " {datetime.datetime(2014, 8, 4, 10, 17, 42): {'independant_question': 6}},\n",
        " {datetime.datetime(2014, 8, 4, 12, 17, 42): {'independant_question': 9}},\n",
        " {datetime.datetime(2014, 8, 4, 14, 17, 42): {'independant_question': 8}},\n",
        " {datetime.datetime(2014, 8, 4, 16, 17, 42): {'independant_question': 7}},\n",
        " {datetime.datetime(2014, 8, 4, 18, 17, 42): {'independant_question': 5}},\n",
        " {datetime.datetime(2014, 8, 5, 0, 0): {'dependant_question': 2}},\n",
        " {datetime.datetime(2014, 8, 5, 10, 17, 42): {'independant_question': 4}},\n",
        " {datetime.datetime(2014, 8, 5, 12, 17, 42): {'independant_question': 1}},\n",
        " {datetime.datetime(2014, 8, 5, 14, 17, 42): {'independant_question': 2}},\n",
        " {datetime.datetime(2014, 8, 5, 16, 17, 42): {'independant_question': 1}},\n",
        " {datetime.datetime(2014, 8, 5, 18, 17, 42): {'independant_question': 2}},\n",
        " {datetime.datetime(2014, 8, 6, 0, 0): {'dependant_question': 7}},\n",
        " {datetime.datetime(2014, 8, 6, 10, 17, 42): {'independant_question': 6}},\n",
        " {datetime.datetime(2014, 8, 6, 12, 17, 42): {'independant_question': 9}},\n",
        " {datetime.datetime(2014, 8, 6, 14, 17, 42): {'independant_question': 8}},\n",
        " {datetime.datetime(2014, 8, 6, 16, 17, 42): {'independant_question': 7}},\n",
        " {datetime.datetime(2014, 8, 6, 18, 17, 42): {'independant_question': 5}},\n",
        " {datetime.datetime(2014, 8, 7, 0, 0): {'dependant_question': 2}},\n",
        " {datetime.datetime(2014, 8, 7, 10, 17, 42): {'independant_question': 4}},\n",
        " {datetime.datetime(2014, 8, 7, 12, 17, 42): {'independant_question': 1}},\n",
        " {datetime.datetime(2014, 8, 7, 14, 17, 42): {'independant_question': 2}},\n",
        " {datetime.datetime(2014, 8, 7, 16, 17, 42): {'independant_question': 1}},\n",
        " {datetime.datetime(2014, 8, 7, 18, 17, 42): {'independant_question': 2}},\n",
        " {datetime.datetime(2014, 8, 8, 0, 0): {'dependant_question': 7}},\n",
        " {datetime.datetime(2014, 8, 8, 10, 17, 42): {'independant_question': 6}},\n",
        " {datetime.datetime(2014, 8, 8, 12, 17, 42): {'independant_question': 9}},\n",
        " {datetime.datetime(2014, 8, 8, 14, 17, 42): {'independant_question': 8}},\n",
        " {datetime.datetime(2014, 8, 8, 16, 17, 42): {'independant_question': 7}},\n",
        " {datetime.datetime(2014, 8, 8, 18, 17, 42): {'independant_question': 5}},\n",
        " {datetime.datetime(2014, 8, 9, 0, 0): {'dependant_question': 2}},\n",
        " {datetime.datetime(2014, 8, 9, 10, 17, 42): {'independant_question': 4}},\n",
        " {datetime.datetime(2014, 8, 9, 12, 17, 42): {'independant_question': 1}},\n",
        " {datetime.datetime(2014, 8, 9, 14, 17, 42): {'independant_question': 2}},\n",
        " {datetime.datetime(2014, 8, 9, 16, 17, 42): {'independant_question': 1}},\n",
        " {datetime.datetime(2014, 8, 9, 18, 17, 42): {'independant_question': 2}},\n",
        " {datetime.datetime(2014, 8, 10, 0, 0): {'dependant_question': 7}},\n",
        " {datetime.datetime(2014, 8, 10, 10, 17, 42): {'independant_question': 6}},\n",
        " {datetime.datetime(2014, 8, 10, 12, 17, 42): {'independant_question': 9}},\n",
        " {datetime.datetime(2014, 8, 10, 14, 17, 42): {'independant_question': 8}},\n",
        " {datetime.datetime(2014, 8, 10, 16, 17, 42): {'independant_question': 7}},\n",
        " {datetime.datetime(2014, 8, 10, 18, 17, 42): {'independant_question': 5}},\n",
        " {datetime.datetime(2014, 8, 11, 0, 0): {'dependant_question': 1}},\n",
        " {datetime.datetime(2014, 8, 11, 10, 17, 42): {'independant_question': 4}},\n",
        " {datetime.datetime(2014, 8, 11, 12, 17, 42): {'independant_question': 1}},\n",
        " {datetime.datetime(2014, 8, 11, 14, 17, 42): {'independant_question': 2}},\n",
        " {datetime.datetime(2014, 8, 11, 16, 17, 42): {'independant_question': 1}},\n",
        " {datetime.datetime(2014, 8, 11, 18, 17, 42): {'independant_question': 2}},\n",
        " {datetime.datetime(2014, 8, 13, 0, 0): {'dependant_question': 2}}]"
       ]
      }
     ],
     "prompt_number": 25
    },
    {
     "cell_type": "code",
     "collapsed": false,
     "input": [],
     "language": "python",
     "metadata": {},
     "outputs": []
    },
    {
     "cell_type": "code",
     "collapsed": false,
     "input": [
      "import itertools\n",
      "a= [1,2,3,4,5,6]\n",
      "for b in idxcount() :\n",
      "    try:\n",
      "        print a[b]\n",
      "    except IndexError:\n",
      "        break"
     ],
     "language": "python",
     "metadata": {},
     "outputs": [
      {
       "output_type": "stream",
       "stream": "stdout",
       "text": [
        "1\n",
        "2\n",
        "3\n",
        "4\n",
        "5\n",
        "6\n"
       ]
      }
     ],
     "prompt_number": 2
    },
    {
     "cell_type": "code",
     "collapsed": false,
     "input": [
      " def idxcount(n=0): #infinite generator 0,1,2,3,4,5,6,,,\n",
      "     while True:\n",
      "         yield n\n",
      "         n += 1"
     ],
     "language": "python",
     "metadata": {},
     "outputs": [],
     "prompt_number": 1
    },
    {
     "cell_type": "code",
     "collapsed": false,
     "input": [
      "idxgen()"
     ],
     "language": "python",
     "metadata": {},
     "outputs": [
      {
       "metadata": {},
       "output_type": "pyout",
       "prompt_number": 8,
       "text": [
        "<generator object idxgen at 0x0000000009B03168>"
       ]
      }
     ],
     "prompt_number": 8
    },
    {
     "cell_type": "code",
     "collapsed": false,
     "input": [],
     "language": "python",
     "metadata": {},
     "outputs": []
    },
    {
     "cell_type": "code",
     "collapsed": false,
     "input": [
      "import itertools\n",
      "print itertools.count(1) "
     ],
     "language": "python",
     "metadata": {},
     "outputs": []
    },
    {
     "cell_type": "code",
     "collapsed": false,
     "input": [],
     "language": "python",
     "metadata": {},
     "outputs": []
    }
   ],
   "metadata": {}
  }
 ]
}